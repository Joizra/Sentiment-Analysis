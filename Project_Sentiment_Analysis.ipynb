{
  "cells": [
    {
      "cell_type": "markdown",
      "metadata": {
        "id": "view-in-github",
        "colab_type": "text"
      },
      "source": [
        "<a href=\"https://colab.research.google.com/github/Joizra/Sentiment-Analysis/blob/main/Project_Sentiment_Analysis.ipynb\" target=\"_parent\"><img src=\"https://colab.research.google.com/assets/colab-badge.svg\" alt=\"Open In Colab\"/></a>"
      ]
    },
    {
      "cell_type": "markdown",
      "id": "6730fecf",
      "metadata": {
        "id": "6730fecf"
      },
      "source": [
        "## Project: Sentiment Analysis\n"
      ]
    },
    {
      "cell_type": "markdown",
      "id": "3df2aac6",
      "metadata": {
        "id": "3df2aac6"
      },
      "source": [
        "### 1. Reading datasets"
      ]
    },
    {
      "cell_type": "code",
      "execution_count": null,
      "id": "hl3fqI-RBwSi",
      "metadata": {
        "id": "hl3fqI-RBwSi"
      },
      "outputs": [],
      "source": [
        "# !pip install simplejson\n",
        "# !pip install django\n",
        "# !pip install pyarrow\n",
        "# !pip install spacy"
      ]
    },
    {
      "cell_type": "code",
      "execution_count": null,
      "id": "4gbvAoWY77Cs",
      "metadata": {
        "id": "4gbvAoWY77Cs"
      },
      "outputs": [],
      "source": [
        "# Get some libraries\n",
        "import pandas as pd\n",
        "import numpy as np\n",
        "import nltk\n",
        "import regex as re\n",
        "import seaborn as sns\n",
        "import json\n",
        "import spacy\n",
        "import matplotlib.pyplot as plt"
      ]
    },
    {
      "cell_type": "code",
      "execution_count": null,
      "id": "e967e07b",
      "metadata": {
        "colab": {
          "base_uri": "https://localhost:8080/"
        },
        "id": "e967e07b",
        "outputId": "a92c53cf-783f-4eb7-a7eb-7e61238404c7"
      },
      "outputs": [
        {
          "output_type": "stream",
          "name": "stdout",
          "text": [
            "Mounted at /content/drive\n",
            "<class 'pandas.core.frame.DataFrame'>\n",
            "RangeIndex: 30000 entries, 0 to 29999\n",
            "Data columns (total 10 columns):\n",
            " #   Column             Non-Null Count  Dtype         \n",
            "---  ------             --------------  -----         \n",
            " 0   ratings            30000 non-null  object        \n",
            " 1   title              30000 non-null  object        \n",
            " 2   text               30000 non-null  object        \n",
            " 3   author             30000 non-null  object        \n",
            " 4   date_stayed        28806 non-null  object        \n",
            " 5   offering_id        30000 non-null  int64         \n",
            " 6   num_helpful_votes  30000 non-null  int64         \n",
            " 7   date               30000 non-null  datetime64[ns]\n",
            " 8   id                 30000 non-null  int64         \n",
            " 9   via_mobile         30000 non-null  bool          \n",
            "dtypes: bool(1), datetime64[ns](1), int64(3), object(5)\n",
            "memory usage: 2.1+ MB\n"
          ]
        }
      ],
      "source": [
        "# Read the dataset from google drive\n",
        "from google.colab import drive\n",
        "drive.mount('/content/drive')\n",
        "\n",
        "# Path to my JSON file\n",
        "archive_path ='/content/drive/My Drive/Colab Notebooks/NLP/NLP_A1/random_30000_hotel_reviews.JSON'\n",
        "\n",
        "# Get data from JSON file\n",
        "df = pd.read_json(archive_path, lines=True)\n",
        "df=pd.DataFrame(df)\n",
        "df.info()"
      ]
    },
    {
      "cell_type": "code",
      "execution_count": null,
      "id": "NHZXVniIAEcH",
      "metadata": {
        "colab": {
          "base_uri": "https://localhost:8080/"
        },
        "id": "NHZXVniIAEcH",
        "outputId": "af746ffa-1899-4a10-add8-ea3eca260460"
      },
      "outputs": [
        {
          "output_type": "execute_result",
          "data": {
            "text/plain": [
              "                                                 ratings  \\\n",
              "0      {'service': 1.0, 'cleanliness': 2.0, 'overall'...   \n",
              "1      {'cleanliness': 1.0, 'sleep_quality': 1.0, 'ov...   \n",
              "2      {'service': 4.0, 'cleanliness': 5.0, 'overall'...   \n",
              "3      {'service': 3.0, 'cleanliness': 2.0, 'overall'...   \n",
              "4                                       {'overall': 1.0}   \n",
              "...                                                  ...   \n",
              "29995  {'service': 5.0, 'cleanliness': 5.0, 'overall'...   \n",
              "29996  {'service': 5.0, 'cleanliness': 5.0, 'overall'...   \n",
              "29997  {'service': 2.0, 'cleanliness': 3.0, 'overall'...   \n",
              "29998  {'service': 4.0, 'cleanliness': 5.0, 'overall'...   \n",
              "29999  {'service': 4.0, 'cleanliness': 5.0, 'overall'...   \n",
              "\n",
              "                                                   title  \\\n",
              "0                                  “Horrible experience”   \n",
              "1                                            “Stay Away”   \n",
              "2                           “Great location and service”   \n",
              "3                     “I will never go back here again!”   \n",
              "4             “Ripped off our VISA card after departure”   \n",
              "...                                                  ...   \n",
              "29995                          “Felt right at home here”   \n",
              "29996                          “Days Inn Chicago 101212”   \n",
              "29997                                  “Upgrades Needed”   \n",
              "29998                       “perfect bargain city hotel”   \n",
              "29999  “Wonderful hotel for my journey to the Pitchfo...   \n",
              "\n",
              "                                                    text  \\\n",
              "0      First of all we got there and they didn't have...   \n",
              "1      Found Racist graffiti in the room. Request to ...   \n",
              "2      Close to Union Square - hotel is a bit of a ma...   \n",
              "3      I had a bad vibe about this place from the mom...   \n",
              "4      After we received our \"final\" bill and left th...   \n",
              "...                                                  ...   \n",
              "29995  I've stayed at many downtown Chicago hotels. T...   \n",
              "29996  It is always a pleasant stay at your facility....   \n",
              "29997  We recently stayed here for a girls' weekend. ...   \n",
              "29998  I made my reservation online at the Bijou beca...   \n",
              "29999  I stayed at the Palmer House Hilton to attend ...   \n",
              "\n",
              "                                                  author     date_stayed  \\\n",
              "0      {'username': 'Kh3RD', 'num_reviews': 1, 'id': ...  September 2012   \n",
              "1      {'username': 'TheUglyPhotographer', 'num_citie...       June 2011   \n",
              "2      {'username': 'Moonstonemoclips', 'num_cities':...    October 2010   \n",
              "3      {'username': 'JoanellenJ', 'num_cities': 10, '...       June 2012   \n",
              "4      {'username': 'Lynnworks', 'num_cities': 3, 'nu...    January 2012   \n",
              "...                                                  ...             ...   \n",
              "29995  {'username': 'eyemdphd', 'num_cities': 9, 'num...      April 2012   \n",
              "29996  {'username': 'ROBERT S', 'num_reviews': 1, 'id...    October 2012   \n",
              "29997  {'username': 'Daisy M', 'num_reviews': 1, 'id'...    January 2012   \n",
              "29998  {'username': 'doublemet', 'num_reviews': 1, 'i...        May 2010   \n",
              "29999  {'username': 'triiiangle', 'num_cities': 20, '...       July 2009   \n",
              "\n",
              "       offering_id  num_helpful_votes       date         id  via_mobile  \n",
              "0            80138                  0 2012-09-19  140716137       False  \n",
              "1           240151                  1 2011-06-27  114807323       False  \n",
              "2            80793                  0 2010-10-25   84805430       False  \n",
              "3           111418                  1 2012-06-28  132971117       False  \n",
              "4           671150                  3 2012-02-04  124104157       False  \n",
              "...            ...                ...        ...        ...         ...  \n",
              "29995       217498                  3 2012-05-01  129203990       False  \n",
              "29996        87571                  0 2012-10-22  143435143       False  \n",
              "29997       223022                  0 2012-01-30  123834976       False  \n",
              "29998        80920                  1 2010-05-30   65827506       False  \n",
              "29999       111501                  1 2009-07-24   35691983       False  \n",
              "\n",
              "[30000 rows x 10 columns]"
            ],
            "text/html": [
              "\n",
              "  <div id=\"df-51966fd9-2e78-46ed-933f-b499bf62276e\" class=\"colab-df-container\">\n",
              "    <div>\n",
              "<style scoped>\n",
              "    .dataframe tbody tr th:only-of-type {\n",
              "        vertical-align: middle;\n",
              "    }\n",
              "\n",
              "    .dataframe tbody tr th {\n",
              "        vertical-align: top;\n",
              "    }\n",
              "\n",
              "    .dataframe thead th {\n",
              "        text-align: right;\n",
              "    }\n",
              "</style>\n",
              "<table border=\"1\" class=\"dataframe\">\n",
              "  <thead>\n",
              "    <tr style=\"text-align: right;\">\n",
              "      <th></th>\n",
              "      <th>ratings</th>\n",
              "      <th>title</th>\n",
              "      <th>text</th>\n",
              "      <th>author</th>\n",
              "      <th>date_stayed</th>\n",
              "      <th>offering_id</th>\n",
              "      <th>num_helpful_votes</th>\n",
              "      <th>date</th>\n",
              "      <th>id</th>\n",
              "      <th>via_mobile</th>\n",
              "    </tr>\n",
              "  </thead>\n",
              "  <tbody>\n",
              "    <tr>\n",
              "      <th>0</th>\n",
              "      <td>{'service': 1.0, 'cleanliness': 2.0, 'overall'...</td>\n",
              "      <td>“Horrible experience”</td>\n",
              "      <td>First of all we got there and they didn't have...</td>\n",
              "      <td>{'username': 'Kh3RD', 'num_reviews': 1, 'id': ...</td>\n",
              "      <td>September 2012</td>\n",
              "      <td>80138</td>\n",
              "      <td>0</td>\n",
              "      <td>2012-09-19</td>\n",
              "      <td>140716137</td>\n",
              "      <td>False</td>\n",
              "    </tr>\n",
              "    <tr>\n",
              "      <th>1</th>\n",
              "      <td>{'cleanliness': 1.0, 'sleep_quality': 1.0, 'ov...</td>\n",
              "      <td>“Stay Away”</td>\n",
              "      <td>Found Racist graffiti in the room. Request to ...</td>\n",
              "      <td>{'username': 'TheUglyPhotographer', 'num_citie...</td>\n",
              "      <td>June 2011</td>\n",
              "      <td>240151</td>\n",
              "      <td>1</td>\n",
              "      <td>2011-06-27</td>\n",
              "      <td>114807323</td>\n",
              "      <td>False</td>\n",
              "    </tr>\n",
              "    <tr>\n",
              "      <th>2</th>\n",
              "      <td>{'service': 4.0, 'cleanliness': 5.0, 'overall'...</td>\n",
              "      <td>“Great location and service”</td>\n",
              "      <td>Close to Union Square - hotel is a bit of a ma...</td>\n",
              "      <td>{'username': 'Moonstonemoclips', 'num_cities':...</td>\n",
              "      <td>October 2010</td>\n",
              "      <td>80793</td>\n",
              "      <td>0</td>\n",
              "      <td>2010-10-25</td>\n",
              "      <td>84805430</td>\n",
              "      <td>False</td>\n",
              "    </tr>\n",
              "    <tr>\n",
              "      <th>3</th>\n",
              "      <td>{'service': 3.0, 'cleanliness': 2.0, 'overall'...</td>\n",
              "      <td>“I will never go back here again!”</td>\n",
              "      <td>I had a bad vibe about this place from the mom...</td>\n",
              "      <td>{'username': 'JoanellenJ', 'num_cities': 10, '...</td>\n",
              "      <td>June 2012</td>\n",
              "      <td>111418</td>\n",
              "      <td>1</td>\n",
              "      <td>2012-06-28</td>\n",
              "      <td>132971117</td>\n",
              "      <td>False</td>\n",
              "    </tr>\n",
              "    <tr>\n",
              "      <th>4</th>\n",
              "      <td>{'overall': 1.0}</td>\n",
              "      <td>“Ripped off our VISA card after departure”</td>\n",
              "      <td>After we received our \"final\" bill and left th...</td>\n",
              "      <td>{'username': 'Lynnworks', 'num_cities': 3, 'nu...</td>\n",
              "      <td>January 2012</td>\n",
              "      <td>671150</td>\n",
              "      <td>3</td>\n",
              "      <td>2012-02-04</td>\n",
              "      <td>124104157</td>\n",
              "      <td>False</td>\n",
              "    </tr>\n",
              "    <tr>\n",
              "      <th>...</th>\n",
              "      <td>...</td>\n",
              "      <td>...</td>\n",
              "      <td>...</td>\n",
              "      <td>...</td>\n",
              "      <td>...</td>\n",
              "      <td>...</td>\n",
              "      <td>...</td>\n",
              "      <td>...</td>\n",
              "      <td>...</td>\n",
              "      <td>...</td>\n",
              "    </tr>\n",
              "    <tr>\n",
              "      <th>29995</th>\n",
              "      <td>{'service': 5.0, 'cleanliness': 5.0, 'overall'...</td>\n",
              "      <td>“Felt right at home here”</td>\n",
              "      <td>I've stayed at many downtown Chicago hotels. T...</td>\n",
              "      <td>{'username': 'eyemdphd', 'num_cities': 9, 'num...</td>\n",
              "      <td>April 2012</td>\n",
              "      <td>217498</td>\n",
              "      <td>3</td>\n",
              "      <td>2012-05-01</td>\n",
              "      <td>129203990</td>\n",
              "      <td>False</td>\n",
              "    </tr>\n",
              "    <tr>\n",
              "      <th>29996</th>\n",
              "      <td>{'service': 5.0, 'cleanliness': 5.0, 'overall'...</td>\n",
              "      <td>“Days Inn Chicago 101212”</td>\n",
              "      <td>It is always a pleasant stay at your facility....</td>\n",
              "      <td>{'username': 'ROBERT S', 'num_reviews': 1, 'id...</td>\n",
              "      <td>October 2012</td>\n",
              "      <td>87571</td>\n",
              "      <td>0</td>\n",
              "      <td>2012-10-22</td>\n",
              "      <td>143435143</td>\n",
              "      <td>False</td>\n",
              "    </tr>\n",
              "    <tr>\n",
              "      <th>29997</th>\n",
              "      <td>{'service': 2.0, 'cleanliness': 3.0, 'overall'...</td>\n",
              "      <td>“Upgrades Needed”</td>\n",
              "      <td>We recently stayed here for a girls' weekend. ...</td>\n",
              "      <td>{'username': 'Daisy M', 'num_reviews': 1, 'id'...</td>\n",
              "      <td>January 2012</td>\n",
              "      <td>223022</td>\n",
              "      <td>0</td>\n",
              "      <td>2012-01-30</td>\n",
              "      <td>123834976</td>\n",
              "      <td>False</td>\n",
              "    </tr>\n",
              "    <tr>\n",
              "      <th>29998</th>\n",
              "      <td>{'service': 4.0, 'cleanliness': 5.0, 'overall'...</td>\n",
              "      <td>“perfect bargain city hotel”</td>\n",
              "      <td>I made my reservation online at the Bijou beca...</td>\n",
              "      <td>{'username': 'doublemet', 'num_reviews': 1, 'i...</td>\n",
              "      <td>May 2010</td>\n",
              "      <td>80920</td>\n",
              "      <td>1</td>\n",
              "      <td>2010-05-30</td>\n",
              "      <td>65827506</td>\n",
              "      <td>False</td>\n",
              "    </tr>\n",
              "    <tr>\n",
              "      <th>29999</th>\n",
              "      <td>{'service': 4.0, 'cleanliness': 5.0, 'overall'...</td>\n",
              "      <td>“Wonderful hotel for my journey to the Pitchfo...</td>\n",
              "      <td>I stayed at the Palmer House Hilton to attend ...</td>\n",
              "      <td>{'username': 'triiiangle', 'num_cities': 20, '...</td>\n",
              "      <td>July 2009</td>\n",
              "      <td>111501</td>\n",
              "      <td>1</td>\n",
              "      <td>2009-07-24</td>\n",
              "      <td>35691983</td>\n",
              "      <td>False</td>\n",
              "    </tr>\n",
              "  </tbody>\n",
              "</table>\n",
              "<p>30000 rows × 10 columns</p>\n",
              "</div>\n",
              "    <div class=\"colab-df-buttons\">\n",
              "\n",
              "  <div class=\"colab-df-container\">\n",
              "    <button class=\"colab-df-convert\" onclick=\"convertToInteractive('df-51966fd9-2e78-46ed-933f-b499bf62276e')\"\n",
              "            title=\"Convert this dataframe to an interactive table.\"\n",
              "            style=\"display:none;\">\n",
              "\n",
              "  <svg xmlns=\"http://www.w3.org/2000/svg\" height=\"24px\" viewBox=\"0 -960 960 960\">\n",
              "    <path d=\"M120-120v-720h720v720H120Zm60-500h600v-160H180v160Zm220 220h160v-160H400v160Zm0 220h160v-160H400v160ZM180-400h160v-160H180v160Zm440 0h160v-160H620v160ZM180-180h160v-160H180v160Zm440 0h160v-160H620v160Z\"/>\n",
              "  </svg>\n",
              "    </button>\n",
              "\n",
              "  <style>\n",
              "    .colab-df-container {\n",
              "      display:flex;\n",
              "      gap: 12px;\n",
              "    }\n",
              "\n",
              "    .colab-df-convert {\n",
              "      background-color: #E8F0FE;\n",
              "      border: none;\n",
              "      border-radius: 50%;\n",
              "      cursor: pointer;\n",
              "      display: none;\n",
              "      fill: #1967D2;\n",
              "      height: 32px;\n",
              "      padding: 0 0 0 0;\n",
              "      width: 32px;\n",
              "    }\n",
              "\n",
              "    .colab-df-convert:hover {\n",
              "      background-color: #E2EBFA;\n",
              "      box-shadow: 0px 1px 2px rgba(60, 64, 67, 0.3), 0px 1px 3px 1px rgba(60, 64, 67, 0.15);\n",
              "      fill: #174EA6;\n",
              "    }\n",
              "\n",
              "    .colab-df-buttons div {\n",
              "      margin-bottom: 4px;\n",
              "    }\n",
              "\n",
              "    [theme=dark] .colab-df-convert {\n",
              "      background-color: #3B4455;\n",
              "      fill: #D2E3FC;\n",
              "    }\n",
              "\n",
              "    [theme=dark] .colab-df-convert:hover {\n",
              "      background-color: #434B5C;\n",
              "      box-shadow: 0px 1px 3px 1px rgba(0, 0, 0, 0.15);\n",
              "      filter: drop-shadow(0px 1px 2px rgba(0, 0, 0, 0.3));\n",
              "      fill: #FFFFFF;\n",
              "    }\n",
              "  </style>\n",
              "\n",
              "    <script>\n",
              "      const buttonEl =\n",
              "        document.querySelector('#df-51966fd9-2e78-46ed-933f-b499bf62276e button.colab-df-convert');\n",
              "      buttonEl.style.display =\n",
              "        google.colab.kernel.accessAllowed ? 'block' : 'none';\n",
              "\n",
              "      async function convertToInteractive(key) {\n",
              "        const element = document.querySelector('#df-51966fd9-2e78-46ed-933f-b499bf62276e');\n",
              "        const dataTable =\n",
              "          await google.colab.kernel.invokeFunction('convertToInteractive',\n",
              "                                                    [key], {});\n",
              "        if (!dataTable) return;\n",
              "\n",
              "        const docLinkHtml = 'Like what you see? Visit the ' +\n",
              "          '<a target=\"_blank\" href=https://colab.research.google.com/notebooks/data_table.ipynb>data table notebook</a>'\n",
              "          + ' to learn more about interactive tables.';\n",
              "        element.innerHTML = '';\n",
              "        dataTable['output_type'] = 'display_data';\n",
              "        await google.colab.output.renderOutput(dataTable, element);\n",
              "        const docLink = document.createElement('div');\n",
              "        docLink.innerHTML = docLinkHtml;\n",
              "        element.appendChild(docLink);\n",
              "      }\n",
              "    </script>\n",
              "  </div>\n",
              "\n",
              "\n",
              "<div id=\"df-028588d3-cc75-46d3-80d0-e6f909576543\">\n",
              "  <button class=\"colab-df-quickchart\" onclick=\"quickchart('df-028588d3-cc75-46d3-80d0-e6f909576543')\"\n",
              "            title=\"Suggest charts\"\n",
              "            style=\"display:none;\">\n",
              "\n",
              "<svg xmlns=\"http://www.w3.org/2000/svg\" height=\"24px\"viewBox=\"0 0 24 24\"\n",
              "     width=\"24px\">\n",
              "    <g>\n",
              "        <path d=\"M19 3H5c-1.1 0-2 .9-2 2v14c0 1.1.9 2 2 2h14c1.1 0 2-.9 2-2V5c0-1.1-.9-2-2-2zM9 17H7v-7h2v7zm4 0h-2V7h2v10zm4 0h-2v-4h2v4z\"/>\n",
              "    </g>\n",
              "</svg>\n",
              "  </button>\n",
              "\n",
              "<style>\n",
              "  .colab-df-quickchart {\n",
              "      --bg-color: #E8F0FE;\n",
              "      --fill-color: #1967D2;\n",
              "      --hover-bg-color: #E2EBFA;\n",
              "      --hover-fill-color: #174EA6;\n",
              "      --disabled-fill-color: #AAA;\n",
              "      --disabled-bg-color: #DDD;\n",
              "  }\n",
              "\n",
              "  [theme=dark] .colab-df-quickchart {\n",
              "      --bg-color: #3B4455;\n",
              "      --fill-color: #D2E3FC;\n",
              "      --hover-bg-color: #434B5C;\n",
              "      --hover-fill-color: #FFFFFF;\n",
              "      --disabled-bg-color: #3B4455;\n",
              "      --disabled-fill-color: #666;\n",
              "  }\n",
              "\n",
              "  .colab-df-quickchart {\n",
              "    background-color: var(--bg-color);\n",
              "    border: none;\n",
              "    border-radius: 50%;\n",
              "    cursor: pointer;\n",
              "    display: none;\n",
              "    fill: var(--fill-color);\n",
              "    height: 32px;\n",
              "    padding: 0;\n",
              "    width: 32px;\n",
              "  }\n",
              "\n",
              "  .colab-df-quickchart:hover {\n",
              "    background-color: var(--hover-bg-color);\n",
              "    box-shadow: 0 1px 2px rgba(60, 64, 67, 0.3), 0 1px 3px 1px rgba(60, 64, 67, 0.15);\n",
              "    fill: var(--button-hover-fill-color);\n",
              "  }\n",
              "\n",
              "  .colab-df-quickchart-complete:disabled,\n",
              "  .colab-df-quickchart-complete:disabled:hover {\n",
              "    background-color: var(--disabled-bg-color);\n",
              "    fill: var(--disabled-fill-color);\n",
              "    box-shadow: none;\n",
              "  }\n",
              "\n",
              "  .colab-df-spinner {\n",
              "    border: 2px solid var(--fill-color);\n",
              "    border-color: transparent;\n",
              "    border-bottom-color: var(--fill-color);\n",
              "    animation:\n",
              "      spin 1s steps(1) infinite;\n",
              "  }\n",
              "\n",
              "  @keyframes spin {\n",
              "    0% {\n",
              "      border-color: transparent;\n",
              "      border-bottom-color: var(--fill-color);\n",
              "      border-left-color: var(--fill-color);\n",
              "    }\n",
              "    20% {\n",
              "      border-color: transparent;\n",
              "      border-left-color: var(--fill-color);\n",
              "      border-top-color: var(--fill-color);\n",
              "    }\n",
              "    30% {\n",
              "      border-color: transparent;\n",
              "      border-left-color: var(--fill-color);\n",
              "      border-top-color: var(--fill-color);\n",
              "      border-right-color: var(--fill-color);\n",
              "    }\n",
              "    40% {\n",
              "      border-color: transparent;\n",
              "      border-right-color: var(--fill-color);\n",
              "      border-top-color: var(--fill-color);\n",
              "    }\n",
              "    60% {\n",
              "      border-color: transparent;\n",
              "      border-right-color: var(--fill-color);\n",
              "    }\n",
              "    80% {\n",
              "      border-color: transparent;\n",
              "      border-right-color: var(--fill-color);\n",
              "      border-bottom-color: var(--fill-color);\n",
              "    }\n",
              "    90% {\n",
              "      border-color: transparent;\n",
              "      border-bottom-color: var(--fill-color);\n",
              "    }\n",
              "  }\n",
              "</style>\n",
              "\n",
              "  <script>\n",
              "    async function quickchart(key) {\n",
              "      const quickchartButtonEl =\n",
              "        document.querySelector('#' + key + ' button');\n",
              "      quickchartButtonEl.disabled = true;  // To prevent multiple clicks.\n",
              "      quickchartButtonEl.classList.add('colab-df-spinner');\n",
              "      try {\n",
              "        const charts = await google.colab.kernel.invokeFunction(\n",
              "            'suggestCharts', [key], {});\n",
              "      } catch (error) {\n",
              "        console.error('Error during call to suggestCharts:', error);\n",
              "      }\n",
              "      quickchartButtonEl.classList.remove('colab-df-spinner');\n",
              "      quickchartButtonEl.classList.add('colab-df-quickchart-complete');\n",
              "    }\n",
              "    (() => {\n",
              "      let quickchartButtonEl =\n",
              "        document.querySelector('#df-028588d3-cc75-46d3-80d0-e6f909576543 button');\n",
              "      quickchartButtonEl.style.display =\n",
              "        google.colab.kernel.accessAllowed ? 'block' : 'none';\n",
              "    })();\n",
              "  </script>\n",
              "</div>\n",
              "\n",
              "  <div id=\"id_6fbbbe5a-9596-4208-b719-e00dcf7efb89\">\n",
              "    <style>\n",
              "      .colab-df-generate {\n",
              "        background-color: #E8F0FE;\n",
              "        border: none;\n",
              "        border-radius: 50%;\n",
              "        cursor: pointer;\n",
              "        display: none;\n",
              "        fill: #1967D2;\n",
              "        height: 32px;\n",
              "        padding: 0 0 0 0;\n",
              "        width: 32px;\n",
              "      }\n",
              "\n",
              "      .colab-df-generate:hover {\n",
              "        background-color: #E2EBFA;\n",
              "        box-shadow: 0px 1px 2px rgba(60, 64, 67, 0.3), 0px 1px 3px 1px rgba(60, 64, 67, 0.15);\n",
              "        fill: #174EA6;\n",
              "      }\n",
              "\n",
              "      [theme=dark] .colab-df-generate {\n",
              "        background-color: #3B4455;\n",
              "        fill: #D2E3FC;\n",
              "      }\n",
              "\n",
              "      [theme=dark] .colab-df-generate:hover {\n",
              "        background-color: #434B5C;\n",
              "        box-shadow: 0px 1px 3px 1px rgba(0, 0, 0, 0.15);\n",
              "        filter: drop-shadow(0px 1px 2px rgba(0, 0, 0, 0.3));\n",
              "        fill: #FFFFFF;\n",
              "      }\n",
              "    </style>\n",
              "    <button class=\"colab-df-generate\" onclick=\"generateWithVariable('df')\"\n",
              "            title=\"Generate code using this dataframe.\"\n",
              "            style=\"display:none;\">\n",
              "\n",
              "  <svg xmlns=\"http://www.w3.org/2000/svg\" height=\"24px\"viewBox=\"0 0 24 24\"\n",
              "       width=\"24px\">\n",
              "    <path d=\"M7,19H8.4L18.45,9,17,7.55,7,17.6ZM5,21V16.75L18.45,3.32a2,2,0,0,1,2.83,0l1.4,1.43a1.91,1.91,0,0,1,.58,1.4,1.91,1.91,0,0,1-.58,1.4L9.25,21ZM18.45,9,17,7.55Zm-12,3A5.31,5.31,0,0,0,4.9,8.1,5.31,5.31,0,0,0,1,6.5,5.31,5.31,0,0,0,4.9,4.9,5.31,5.31,0,0,0,6.5,1,5.31,5.31,0,0,0,8.1,4.9,5.31,5.31,0,0,0,12,6.5,5.46,5.46,0,0,0,6.5,12Z\"/>\n",
              "  </svg>\n",
              "    </button>\n",
              "    <script>\n",
              "      (() => {\n",
              "      const buttonEl =\n",
              "        document.querySelector('#id_6fbbbe5a-9596-4208-b719-e00dcf7efb89 button.colab-df-generate');\n",
              "      buttonEl.style.display =\n",
              "        google.colab.kernel.accessAllowed ? 'block' : 'none';\n",
              "\n",
              "      buttonEl.onclick = () => {\n",
              "        google.colab.notebook.generateWithVariable('df');\n",
              "      }\n",
              "      })();\n",
              "    </script>\n",
              "  </div>\n",
              "\n",
              "    </div>\n",
              "  </div>\n"
            ],
            "application/vnd.google.colaboratory.intrinsic+json": {
              "type": "dataframe",
              "variable_name": "df",
              "summary": "{\n  \"name\": \"df\",\n  \"rows\": 30000,\n  \"fields\": [\n    {\n      \"column\": \"ratings\",\n      \"properties\": {\n        \"dtype\": \"object\",\n        \"semantic_type\": \"\",\n        \"description\": \"\"\n      }\n    },\n    {\n      \"column\": \"title\",\n      \"properties\": {\n        \"dtype\": \"string\",\n        \"num_unique_values\": 25710,\n        \"samples\": [\n          \"\\u201cGreat Boutique Hotel\\u201d\",\n          \"\\u201cComfy and Clean\\u201d\",\n          \"\\u201cGreat rooms\\u201d\"\n        ],\n        \"semantic_type\": \"\",\n        \"description\": \"\"\n      }\n    },\n    {\n      \"column\": \"text\",\n      \"properties\": {\n        \"dtype\": \"string\",\n        \"num_unique_values\": 29999,\n        \"samples\": [\n          \"We stayed for 2 nights at the Rex, and liked it a lot. The room was very cute, clean and quiet. My husband found the bed a bit soft, but he likes really hard beds anyway. Wireless internet was clear. The host gave us 2 free glasses of champagne for my birthday, which I thought was kind. The staff stored our luggage for 6 hours after we checked out, while we explored the city further. The only problem was getting a cup of tea involves receiving a $4 half-pot of very mediocre brand. We ate breakfast in the hotel restaurant, Cafe Andre, which was good if a little pricey. Get your tea to go at the cafe on the diagonal corner instead. Overall, a nice place and excellent location.\",\n          \"Stayed at this hotel for 2 nights. A nice Hilton property - really nice breakfast each morning with waffles, eggs, bacon, cereals, hot oatmeal - anything you might want for breakfast - evening meal looked good, although I had dinner plans both nights - one night it was a pasta meal and the next night there was enchiladas, rice and salad..with wine and beer, tea or lemonade.\\nThe rooms are nice with a kitchen, refrigerator, etc. The bedroom is separate from the living room/kitchen. \\nHot tub was great!\\nThe front desk clerks are some of the friendliest that I have encountered.\\nOverall, it was a nice stay - I certainly would stay there again and would recommend it to friends and family.\",\n          \"Small bedroom but great updated bathroom. Very clean room. Cool decor. Great location. Only issue was lack of storage space; no closet and only two small drawers in night stands.\"\n        ],\n        \"semantic_type\": \"\",\n        \"description\": \"\"\n      }\n    },\n    {\n      \"column\": \"author\",\n      \"properties\": {\n        \"dtype\": \"object\",\n        \"semantic_type\": \"\",\n        \"description\": \"\"\n      }\n    },\n    {\n      \"column\": \"date_stayed\",\n      \"properties\": {\n        \"dtype\": \"category\",\n        \"num_unique_values\": 124,\n        \"samples\": [\n          \"September 2010\",\n          \"August 2012\",\n          \"April 2008\"\n        ],\n        \"semantic_type\": \"\",\n        \"description\": \"\"\n      }\n    },\n    {\n      \"column\": \"offering_id\",\n      \"properties\": {\n        \"dtype\": \"number\",\n        \"std\": 436940,\n        \"min\": 72572,\n        \"max\": 3574675,\n        \"num_unique_values\": 2985,\n        \"samples\": [\n          93450,\n          2015227,\n          123974\n        ],\n        \"semantic_type\": \"\",\n        \"description\": \"\"\n      }\n    },\n    {\n      \"column\": \"num_helpful_votes\",\n      \"properties\": {\n        \"dtype\": \"number\",\n        \"std\": 3,\n        \"min\": 0,\n        \"max\": 401,\n        \"num_unique_values\": 47,\n        \"samples\": [\n          45,\n          46,\n          19\n        ],\n        \"semantic_type\": \"\",\n        \"description\": \"\"\n      }\n    },\n    {\n      \"column\": \"date\",\n      \"properties\": {\n        \"dtype\": \"date\",\n        \"min\": \"2002-01-12 00:00:00\",\n        \"max\": \"2012-12-20 00:00:00\",\n        \"num_unique_values\": 3324,\n        \"samples\": [\n          \"2003-07-07 00:00:00\",\n          \"2009-09-27 00:00:00\",\n          \"2009-08-12 00:00:00\"\n        ],\n        \"semantic_type\": \"\",\n        \"description\": \"\"\n      }\n    },\n    {\n      \"column\": \"id\",\n      \"properties\": {\n        \"dtype\": \"number\",\n        \"std\": 50802149,\n        \"min\": 355552,\n        \"max\": 147765607,\n        \"num_unique_values\": 30000,\n        \"samples\": [\n          4407336,\n          7695832,\n          136836720\n        ],\n        \"semantic_type\": \"\",\n        \"description\": \"\"\n      }\n    },\n    {\n      \"column\": \"via_mobile\",\n      \"properties\": {\n        \"dtype\": \"boolean\",\n        \"num_unique_values\": 2,\n        \"samples\": [\n          true,\n          false\n        ],\n        \"semantic_type\": \"\",\n        \"description\": \"\"\n      }\n    }\n  ]\n}"
            }
          },
          "metadata": {},
          "execution_count": 7
        }
      ],
      "source": [
        "#Explore dataset\n",
        "df"
      ]
    },
    {
      "cell_type": "code",
      "execution_count": null,
      "id": "OfjQw2_AxyxZ",
      "metadata": {
        "id": "OfjQw2_AxyxZ"
      },
      "outputs": [],
      "source": [
        "#Drop columns that won't be used later\n",
        "df.drop(columns=['author','date_stayed', 'offering_id','num_helpful_votes','date','id', 'via_mobile'], inplace=True)"
      ]
    },
    {
      "cell_type": "code",
      "execution_count": null,
      "id": "6k2VvZ-oybYI",
      "metadata": {
        "id": "6k2VvZ-oybYI"
      },
      "outputs": [],
      "source": [
        "# Remove quotation marks from title\n",
        "df['title'] = df['title'].str.replace('“', '')\n",
        "df['title'] = df['title'].str.replace('”', '')\n",
        "\n",
        "# Concatenate “title” field with “text” field.\n",
        "df['title_text']=df['title']+'.'+' '+df['text']"
      ]
    },
    {
      "cell_type": "code",
      "execution_count": null,
      "id": "4fOXcDD-mS6i",
      "metadata": {
        "id": "4fOXcDD-mS6i"
      },
      "outputs": [],
      "source": [
        "# Drop all non-alphanumeric characters from title_text field\n",
        "df['title_text'] = df['title_text'].replace('[^a-zA-Z0-9]', ' ', regex=True)"
      ]
    },
    {
      "cell_type": "code",
      "execution_count": null,
      "id": "WIpPNdo6hJ6C",
      "metadata": {
        "id": "WIpPNdo6hJ6C"
      },
      "outputs": [],
      "source": [
        "# Get the overall rating\n",
        "df['overall_rating'] = df['ratings'].apply(lambda x: x.get('overall', None))"
      ]
    },
    {
      "cell_type": "code",
      "execution_count": null,
      "id": "7_rZGu3ijju0",
      "metadata": {
        "colab": {
          "base_uri": "https://localhost:8080/"
        },
        "id": "7_rZGu3ijju0",
        "outputId": "31cfd4f3-0d4a-4859-8a59-35c3e284e230"
      },
      "outputs": [
        {
          "output_type": "execute_result",
          "data": {
            "text/plain": [
              "5.0    12293\n",
              "4.0     9653\n",
              "3.0     4080\n",
              "2.0     2031\n",
              "1.0     1942\n",
              "0.0        1\n",
              "Name: overall_rating, dtype: int64"
            ]
          },
          "metadata": {},
          "execution_count": 12
        }
      ],
      "source": [
        "# Check overall_rating levels\n",
        "df['overall_rating'].value_counts()"
      ]
    },
    {
      "cell_type": "markdown",
      "id": "qNOj7RpOj33b",
      "metadata": {
        "id": "qNOj7RpOj33b"
      },
      "source": [
        "For this sentiment analysis task, we classify sentiments as positive (ratings of 4 and 5) and negative (ratings of 1, 2, and 3). Assign the corresponding labels to each sentiment category accordingly."
      ]
    },
    {
      "cell_type": "code",
      "execution_count": null,
      "id": "GgRSQ7Bmy3GZ",
      "metadata": {
        "id": "GgRSQ7Bmy3GZ"
      },
      "outputs": [],
      "source": [
        "# Get the sentiment from overall score (positive and negative)\n",
        "def get_sentiment(x):\n",
        "    if x > 3:\n",
        "        return 1\n",
        "    else:\n",
        "        return 0\n",
        "df['overall_rating'] = df['overall_rating'].apply(lambda x:get_sentiment(x))\n"
      ]
    },
    {
      "cell_type": "code",
      "execution_count": null,
      "id": "26z9HLoT1dvf",
      "metadata": {
        "id": "26z9HLoT1dvf"
      },
      "outputs": [],
      "source": [
        "# keep only title_text field and overall_rating field\n",
        "df.drop(columns=['ratings','title', 'text'], inplace=True)"
      ]
    },
    {
      "cell_type": "code",
      "execution_count": null,
      "id": "Ym_lbwFc3M11",
      "metadata": {
        "colab": {
          "base_uri": "https://localhost:8080/"
        },
        "id": "Ym_lbwFc3M11",
        "outputId": "cea3bcb5-29c2-45a6-b31a-1478f8c73213"
      },
      "outputs": [
        {
          "output_type": "execute_result",
          "data": {
            "text/plain": [
              "                                              title_text  overall_rating\n",
              "0      Horrible experience  First of all we got there...               0\n",
              "1      Stay Away  Found Racist graffiti in the room  ...               0\n",
              "2      Great location and service  Close to Union Squ...               1\n",
              "3      I will never go back here again   I had a bad ...               0\n",
              "4      Ripped off our VISA card after departure  Afte...               0\n",
              "...                                                  ...             ...\n",
              "29995  Felt right at home here  I ve stayed at many d...               1\n",
              "29996  Days Inn Chicago 101212  It is always a pleasa...               1\n",
              "29997  Upgrades Needed  We recently stayed here for a...               0\n",
              "29998  perfect bargain city hotel  I made my reservat...               1\n",
              "29999  Wonderful hotel for my journey to the Pitchfor...               1\n",
              "\n",
              "[30000 rows x 2 columns]"
            ],
            "text/html": [
              "\n",
              "  <div id=\"df-60ce806d-7fdb-4b35-842f-2aef55e10210\" class=\"colab-df-container\">\n",
              "    <div>\n",
              "<style scoped>\n",
              "    .dataframe tbody tr th:only-of-type {\n",
              "        vertical-align: middle;\n",
              "    }\n",
              "\n",
              "    .dataframe tbody tr th {\n",
              "        vertical-align: top;\n",
              "    }\n",
              "\n",
              "    .dataframe thead th {\n",
              "        text-align: right;\n",
              "    }\n",
              "</style>\n",
              "<table border=\"1\" class=\"dataframe\">\n",
              "  <thead>\n",
              "    <tr style=\"text-align: right;\">\n",
              "      <th></th>\n",
              "      <th>title_text</th>\n",
              "      <th>overall_rating</th>\n",
              "    </tr>\n",
              "  </thead>\n",
              "  <tbody>\n",
              "    <tr>\n",
              "      <th>0</th>\n",
              "      <td>Horrible experience  First of all we got there...</td>\n",
              "      <td>0</td>\n",
              "    </tr>\n",
              "    <tr>\n",
              "      <th>1</th>\n",
              "      <td>Stay Away  Found Racist graffiti in the room  ...</td>\n",
              "      <td>0</td>\n",
              "    </tr>\n",
              "    <tr>\n",
              "      <th>2</th>\n",
              "      <td>Great location and service  Close to Union Squ...</td>\n",
              "      <td>1</td>\n",
              "    </tr>\n",
              "    <tr>\n",
              "      <th>3</th>\n",
              "      <td>I will never go back here again   I had a bad ...</td>\n",
              "      <td>0</td>\n",
              "    </tr>\n",
              "    <tr>\n",
              "      <th>4</th>\n",
              "      <td>Ripped off our VISA card after departure  Afte...</td>\n",
              "      <td>0</td>\n",
              "    </tr>\n",
              "    <tr>\n",
              "      <th>...</th>\n",
              "      <td>...</td>\n",
              "      <td>...</td>\n",
              "    </tr>\n",
              "    <tr>\n",
              "      <th>29995</th>\n",
              "      <td>Felt right at home here  I ve stayed at many d...</td>\n",
              "      <td>1</td>\n",
              "    </tr>\n",
              "    <tr>\n",
              "      <th>29996</th>\n",
              "      <td>Days Inn Chicago 101212  It is always a pleasa...</td>\n",
              "      <td>1</td>\n",
              "    </tr>\n",
              "    <tr>\n",
              "      <th>29997</th>\n",
              "      <td>Upgrades Needed  We recently stayed here for a...</td>\n",
              "      <td>0</td>\n",
              "    </tr>\n",
              "    <tr>\n",
              "      <th>29998</th>\n",
              "      <td>perfect bargain city hotel  I made my reservat...</td>\n",
              "      <td>1</td>\n",
              "    </tr>\n",
              "    <tr>\n",
              "      <th>29999</th>\n",
              "      <td>Wonderful hotel for my journey to the Pitchfor...</td>\n",
              "      <td>1</td>\n",
              "    </tr>\n",
              "  </tbody>\n",
              "</table>\n",
              "<p>30000 rows × 2 columns</p>\n",
              "</div>\n",
              "    <div class=\"colab-df-buttons\">\n",
              "\n",
              "  <div class=\"colab-df-container\">\n",
              "    <button class=\"colab-df-convert\" onclick=\"convertToInteractive('df-60ce806d-7fdb-4b35-842f-2aef55e10210')\"\n",
              "            title=\"Convert this dataframe to an interactive table.\"\n",
              "            style=\"display:none;\">\n",
              "\n",
              "  <svg xmlns=\"http://www.w3.org/2000/svg\" height=\"24px\" viewBox=\"0 -960 960 960\">\n",
              "    <path d=\"M120-120v-720h720v720H120Zm60-500h600v-160H180v160Zm220 220h160v-160H400v160Zm0 220h160v-160H400v160ZM180-400h160v-160H180v160Zm440 0h160v-160H620v160ZM180-180h160v-160H180v160Zm440 0h160v-160H620v160Z\"/>\n",
              "  </svg>\n",
              "    </button>\n",
              "\n",
              "  <style>\n",
              "    .colab-df-container {\n",
              "      display:flex;\n",
              "      gap: 12px;\n",
              "    }\n",
              "\n",
              "    .colab-df-convert {\n",
              "      background-color: #E8F0FE;\n",
              "      border: none;\n",
              "      border-radius: 50%;\n",
              "      cursor: pointer;\n",
              "      display: none;\n",
              "      fill: #1967D2;\n",
              "      height: 32px;\n",
              "      padding: 0 0 0 0;\n",
              "      width: 32px;\n",
              "    }\n",
              "\n",
              "    .colab-df-convert:hover {\n",
              "      background-color: #E2EBFA;\n",
              "      box-shadow: 0px 1px 2px rgba(60, 64, 67, 0.3), 0px 1px 3px 1px rgba(60, 64, 67, 0.15);\n",
              "      fill: #174EA6;\n",
              "    }\n",
              "\n",
              "    .colab-df-buttons div {\n",
              "      margin-bottom: 4px;\n",
              "    }\n",
              "\n",
              "    [theme=dark] .colab-df-convert {\n",
              "      background-color: #3B4455;\n",
              "      fill: #D2E3FC;\n",
              "    }\n",
              "\n",
              "    [theme=dark] .colab-df-convert:hover {\n",
              "      background-color: #434B5C;\n",
              "      box-shadow: 0px 1px 3px 1px rgba(0, 0, 0, 0.15);\n",
              "      filter: drop-shadow(0px 1px 2px rgba(0, 0, 0, 0.3));\n",
              "      fill: #FFFFFF;\n",
              "    }\n",
              "  </style>\n",
              "\n",
              "    <script>\n",
              "      const buttonEl =\n",
              "        document.querySelector('#df-60ce806d-7fdb-4b35-842f-2aef55e10210 button.colab-df-convert');\n",
              "      buttonEl.style.display =\n",
              "        google.colab.kernel.accessAllowed ? 'block' : 'none';\n",
              "\n",
              "      async function convertToInteractive(key) {\n",
              "        const element = document.querySelector('#df-60ce806d-7fdb-4b35-842f-2aef55e10210');\n",
              "        const dataTable =\n",
              "          await google.colab.kernel.invokeFunction('convertToInteractive',\n",
              "                                                    [key], {});\n",
              "        if (!dataTable) return;\n",
              "\n",
              "        const docLinkHtml = 'Like what you see? Visit the ' +\n",
              "          '<a target=\"_blank\" href=https://colab.research.google.com/notebooks/data_table.ipynb>data table notebook</a>'\n",
              "          + ' to learn more about interactive tables.';\n",
              "        element.innerHTML = '';\n",
              "        dataTable['output_type'] = 'display_data';\n",
              "        await google.colab.output.renderOutput(dataTable, element);\n",
              "        const docLink = document.createElement('div');\n",
              "        docLink.innerHTML = docLinkHtml;\n",
              "        element.appendChild(docLink);\n",
              "      }\n",
              "    </script>\n",
              "  </div>\n",
              "\n",
              "\n",
              "<div id=\"df-a27a454b-e50a-472e-82bc-88cc63ba9289\">\n",
              "  <button class=\"colab-df-quickchart\" onclick=\"quickchart('df-a27a454b-e50a-472e-82bc-88cc63ba9289')\"\n",
              "            title=\"Suggest charts\"\n",
              "            style=\"display:none;\">\n",
              "\n",
              "<svg xmlns=\"http://www.w3.org/2000/svg\" height=\"24px\"viewBox=\"0 0 24 24\"\n",
              "     width=\"24px\">\n",
              "    <g>\n",
              "        <path d=\"M19 3H5c-1.1 0-2 .9-2 2v14c0 1.1.9 2 2 2h14c1.1 0 2-.9 2-2V5c0-1.1-.9-2-2-2zM9 17H7v-7h2v7zm4 0h-2V7h2v10zm4 0h-2v-4h2v4z\"/>\n",
              "    </g>\n",
              "</svg>\n",
              "  </button>\n",
              "\n",
              "<style>\n",
              "  .colab-df-quickchart {\n",
              "      --bg-color: #E8F0FE;\n",
              "      --fill-color: #1967D2;\n",
              "      --hover-bg-color: #E2EBFA;\n",
              "      --hover-fill-color: #174EA6;\n",
              "      --disabled-fill-color: #AAA;\n",
              "      --disabled-bg-color: #DDD;\n",
              "  }\n",
              "\n",
              "  [theme=dark] .colab-df-quickchart {\n",
              "      --bg-color: #3B4455;\n",
              "      --fill-color: #D2E3FC;\n",
              "      --hover-bg-color: #434B5C;\n",
              "      --hover-fill-color: #FFFFFF;\n",
              "      --disabled-bg-color: #3B4455;\n",
              "      --disabled-fill-color: #666;\n",
              "  }\n",
              "\n",
              "  .colab-df-quickchart {\n",
              "    background-color: var(--bg-color);\n",
              "    border: none;\n",
              "    border-radius: 50%;\n",
              "    cursor: pointer;\n",
              "    display: none;\n",
              "    fill: var(--fill-color);\n",
              "    height: 32px;\n",
              "    padding: 0;\n",
              "    width: 32px;\n",
              "  }\n",
              "\n",
              "  .colab-df-quickchart:hover {\n",
              "    background-color: var(--hover-bg-color);\n",
              "    box-shadow: 0 1px 2px rgba(60, 64, 67, 0.3), 0 1px 3px 1px rgba(60, 64, 67, 0.15);\n",
              "    fill: var(--button-hover-fill-color);\n",
              "  }\n",
              "\n",
              "  .colab-df-quickchart-complete:disabled,\n",
              "  .colab-df-quickchart-complete:disabled:hover {\n",
              "    background-color: var(--disabled-bg-color);\n",
              "    fill: var(--disabled-fill-color);\n",
              "    box-shadow: none;\n",
              "  }\n",
              "\n",
              "  .colab-df-spinner {\n",
              "    border: 2px solid var(--fill-color);\n",
              "    border-color: transparent;\n",
              "    border-bottom-color: var(--fill-color);\n",
              "    animation:\n",
              "      spin 1s steps(1) infinite;\n",
              "  }\n",
              "\n",
              "  @keyframes spin {\n",
              "    0% {\n",
              "      border-color: transparent;\n",
              "      border-bottom-color: var(--fill-color);\n",
              "      border-left-color: var(--fill-color);\n",
              "    }\n",
              "    20% {\n",
              "      border-color: transparent;\n",
              "      border-left-color: var(--fill-color);\n",
              "      border-top-color: var(--fill-color);\n",
              "    }\n",
              "    30% {\n",
              "      border-color: transparent;\n",
              "      border-left-color: var(--fill-color);\n",
              "      border-top-color: var(--fill-color);\n",
              "      border-right-color: var(--fill-color);\n",
              "    }\n",
              "    40% {\n",
              "      border-color: transparent;\n",
              "      border-right-color: var(--fill-color);\n",
              "      border-top-color: var(--fill-color);\n",
              "    }\n",
              "    60% {\n",
              "      border-color: transparent;\n",
              "      border-right-color: var(--fill-color);\n",
              "    }\n",
              "    80% {\n",
              "      border-color: transparent;\n",
              "      border-right-color: var(--fill-color);\n",
              "      border-bottom-color: var(--fill-color);\n",
              "    }\n",
              "    90% {\n",
              "      border-color: transparent;\n",
              "      border-bottom-color: var(--fill-color);\n",
              "    }\n",
              "  }\n",
              "</style>\n",
              "\n",
              "  <script>\n",
              "    async function quickchart(key) {\n",
              "      const quickchartButtonEl =\n",
              "        document.querySelector('#' + key + ' button');\n",
              "      quickchartButtonEl.disabled = true;  // To prevent multiple clicks.\n",
              "      quickchartButtonEl.classList.add('colab-df-spinner');\n",
              "      try {\n",
              "        const charts = await google.colab.kernel.invokeFunction(\n",
              "            'suggestCharts', [key], {});\n",
              "      } catch (error) {\n",
              "        console.error('Error during call to suggestCharts:', error);\n",
              "      }\n",
              "      quickchartButtonEl.classList.remove('colab-df-spinner');\n",
              "      quickchartButtonEl.classList.add('colab-df-quickchart-complete');\n",
              "    }\n",
              "    (() => {\n",
              "      let quickchartButtonEl =\n",
              "        document.querySelector('#df-a27a454b-e50a-472e-82bc-88cc63ba9289 button');\n",
              "      quickchartButtonEl.style.display =\n",
              "        google.colab.kernel.accessAllowed ? 'block' : 'none';\n",
              "    })();\n",
              "  </script>\n",
              "</div>\n",
              "\n",
              "  <div id=\"id_fc138d0f-bdb2-41f5-ba66-7c7f14775fd8\">\n",
              "    <style>\n",
              "      .colab-df-generate {\n",
              "        background-color: #E8F0FE;\n",
              "        border: none;\n",
              "        border-radius: 50%;\n",
              "        cursor: pointer;\n",
              "        display: none;\n",
              "        fill: #1967D2;\n",
              "        height: 32px;\n",
              "        padding: 0 0 0 0;\n",
              "        width: 32px;\n",
              "      }\n",
              "\n",
              "      .colab-df-generate:hover {\n",
              "        background-color: #E2EBFA;\n",
              "        box-shadow: 0px 1px 2px rgba(60, 64, 67, 0.3), 0px 1px 3px 1px rgba(60, 64, 67, 0.15);\n",
              "        fill: #174EA6;\n",
              "      }\n",
              "\n",
              "      [theme=dark] .colab-df-generate {\n",
              "        background-color: #3B4455;\n",
              "        fill: #D2E3FC;\n",
              "      }\n",
              "\n",
              "      [theme=dark] .colab-df-generate:hover {\n",
              "        background-color: #434B5C;\n",
              "        box-shadow: 0px 1px 3px 1px rgba(0, 0, 0, 0.15);\n",
              "        filter: drop-shadow(0px 1px 2px rgba(0, 0, 0, 0.3));\n",
              "        fill: #FFFFFF;\n",
              "      }\n",
              "    </style>\n",
              "    <button class=\"colab-df-generate\" onclick=\"generateWithVariable('df')\"\n",
              "            title=\"Generate code using this dataframe.\"\n",
              "            style=\"display:none;\">\n",
              "\n",
              "  <svg xmlns=\"http://www.w3.org/2000/svg\" height=\"24px\"viewBox=\"0 0 24 24\"\n",
              "       width=\"24px\">\n",
              "    <path d=\"M7,19H8.4L18.45,9,17,7.55,7,17.6ZM5,21V16.75L18.45,3.32a2,2,0,0,1,2.83,0l1.4,1.43a1.91,1.91,0,0,1,.58,1.4,1.91,1.91,0,0,1-.58,1.4L9.25,21ZM18.45,9,17,7.55Zm-12,3A5.31,5.31,0,0,0,4.9,8.1,5.31,5.31,0,0,0,1,6.5,5.31,5.31,0,0,0,4.9,4.9,5.31,5.31,0,0,0,6.5,1,5.31,5.31,0,0,0,8.1,4.9,5.31,5.31,0,0,0,12,6.5,5.46,5.46,0,0,0,6.5,12Z\"/>\n",
              "  </svg>\n",
              "    </button>\n",
              "    <script>\n",
              "      (() => {\n",
              "      const buttonEl =\n",
              "        document.querySelector('#id_fc138d0f-bdb2-41f5-ba66-7c7f14775fd8 button.colab-df-generate');\n",
              "      buttonEl.style.display =\n",
              "        google.colab.kernel.accessAllowed ? 'block' : 'none';\n",
              "\n",
              "      buttonEl.onclick = () => {\n",
              "        google.colab.notebook.generateWithVariable('df');\n",
              "      }\n",
              "      })();\n",
              "    </script>\n",
              "  </div>\n",
              "\n",
              "    </div>\n",
              "  </div>\n"
            ],
            "application/vnd.google.colaboratory.intrinsic+json": {
              "type": "dataframe",
              "variable_name": "df",
              "summary": "{\n  \"name\": \"df\",\n  \"rows\": 30000,\n  \"fields\": [\n    {\n      \"column\": \"title_text\",\n      \"properties\": {\n        \"dtype\": \"string\",\n        \"num_unique_values\": 29999,\n        \"samples\": [\n          \"Overall very nice  We stayed for 2 nights at the Rex  and liked it a lot  The room was very cute  clean and quiet  My husband found the bed a bit soft  but he likes really hard beds anyway  Wireless internet was clear  The host gave us 2 free glasses of champagne for my birthday  which I thought was kind  The staff stored our luggage for 6 hours after we checked out  while we explored the city further  The only problem was getting a cup of tea involves receiving a  4 half pot of very mediocre brand  We ate breakfast in the hotel restaurant  Cafe Andre  which was good if a little pricey  Get your tea to go at the cafe on the diagonal corner instead  Overall  a nice place and excellent location \",\n          \"Nice Hotel  Stayed at this hotel for 2 nights  A nice Hilton property   really nice breakfast each morning with waffles  eggs  bacon  cereals  hot oatmeal   anything you might want for breakfast   evening meal looked good  although I had dinner plans both nights   one night it was a pasta meal and the next night there was enchiladas  rice and salad  with wine and beer  tea or lemonade  The rooms are nice with a kitchen  refrigerator  etc  The bedroom is separate from the living room kitchen   Hot tub was great  The front desk clerks are some of the friendliest that I have encountered  Overall  it was a nice stay   I certainly would stay there again and would recommend it to friends and family \",\n          \"Cute boutique hotel  Small bedroom but great updated bathroom  Very clean room  Cool decor  Great location  Only issue was lack of storage space  no closet and only two small drawers in night stands \"\n        ],\n        \"semantic_type\": \"\",\n        \"description\": \"\"\n      }\n    },\n    {\n      \"column\": \"overall_rating\",\n      \"properties\": {\n        \"dtype\": \"number\",\n        \"std\": 0,\n        \"min\": 0,\n        \"max\": 1,\n        \"num_unique_values\": 2,\n        \"samples\": [\n          1,\n          0\n        ],\n        \"semantic_type\": \"\",\n        \"description\": \"\"\n      }\n    }\n  ]\n}"
            }
          },
          "metadata": {},
          "execution_count": 15
        }
      ],
      "source": [
        "#Check dataset\n",
        "df"
      ]
    },
    {
      "cell_type": "code",
      "execution_count": null,
      "id": "ILgv-XTWFKZr",
      "metadata": {
        "colab": {
          "base_uri": "https://localhost:8080/"
        },
        "id": "ILgv-XTWFKZr",
        "outputId": "af16a584-c12f-49d1-87c2-cddc7472d270"
      },
      "outputs": [
        {
          "output_type": "stream",
          "name": "stderr",
          "text": [
            "[nltk_data] Downloading package punkt to /root/nltk_data...\n",
            "[nltk_data]   Unzipping tokenizers/punkt.zip.\n"
          ]
        }
      ],
      "source": [
        "# Tokenize title_text field\n",
        "nltk.download('punkt')\n",
        "from nltk.tokenize import word_tokenize\n",
        "df['text_tokenize'] = df['title_text'].apply(lambda x:word_tokenize(x))"
      ]
    },
    {
      "cell_type": "code",
      "execution_count": null,
      "id": "VxiV-zaP9OER",
      "metadata": {
        "id": "VxiV-zaP9OER"
      },
      "outputs": [],
      "source": [
        "# Split datset into: Training set (first 10000 lines) to be used for the final training/testing.\n",
        "X_train=df.loc[ :9999, ['text_tokenize']]\n",
        "y_train=df.loc[ :9999, ['overall_rating']]"
      ]
    },
    {
      "cell_type": "code",
      "execution_count": null,
      "id": "UBvROXlZ9OC4",
      "metadata": {
        "id": "UBvROXlZ9OC4"
      },
      "outputs": [],
      "source": [
        "# Split datset into: Development set (next 10000 lines) to be used for for all experiments.\n",
        "X_development=df.loc[10000:19999, ['text_tokenize']]\n",
        "y_development=df.loc[10000:19999, ['overall_rating']]"
      ]
    },
    {
      "cell_type": "code",
      "execution_count": null,
      "id": "REPBi3SVD_vK",
      "metadata": {
        "id": "REPBi3SVD_vK"
      },
      "outputs": [],
      "source": [
        "#Split datset into: Test set\n",
        "X_test=df.loc[20000:, ['text_tokenize']]\n",
        "y_test=df.loc[20000:, ['overall_rating']]"
      ]
    },
    {
      "cell_type": "markdown",
      "id": "31d75afc",
      "metadata": {
        "id": "31d75afc"
      },
      "source": [
        "### 2. Exploratory Data Analysis (EDA)"
      ]
    },
    {
      "cell_type": "markdown",
      "id": "MzoAdFIdPSgE",
      "metadata": {
        "id": "MzoAdFIdPSgE"
      },
      "source": [
        "#### Distribution of sentiments\n",
        "\n",
        "This analyses helps to identify the imbalance among the levels of a category.\n",
        "\n",
        "The class distribution is significantly imbalanced, with disparities exceeding 10% among the categories.\n",
        "\n",
        "*   1-Positive:7291\n",
        "*   0-Negative:2709\n",
        "\n",
        "\n"
      ]
    },
    {
      "cell_type": "code",
      "execution_count": null,
      "id": "4vuNQgn8VSp1",
      "metadata": {
        "colab": {
          "base_uri": "https://localhost:8080/",
          "height": 472
        },
        "id": "4vuNQgn8VSp1",
        "outputId": "452affe2-dcf9-4432-9dd0-00848986dd0b"
      },
      "outputs": [
        {
          "output_type": "display_data",
          "data": {
            "text/plain": [
              "<Figure size 640x480 with 1 Axes>"
            ],
            "image/png": "[encoded data removed]"
          },
          "metadata": {}
        }
      ],
      "source": [
        "# Analyse Distribution of sentiment\n",
        "sns.countplot(x='overall_rating', data=y_development)\n",
        "plt.title('Sentiment Distribution')\n",
        "plt.xlabel('Sentiment')\n",
        "plt.show()"
      ]
    },
    {
      "cell_type": "code",
      "execution_count": null,
      "id": "6vkQkC9cF6CV",
      "metadata": {
        "colab": {
          "base_uri": "https://localhost:8080/"
        },
        "id": "6vkQkC9cF6CV",
        "outputId": "226c699c-ec6c-44af-88aa-648a7ca16a89"
      },
      "outputs": [
        {
          "output_type": "execute_result",
          "data": {
            "text/plain": [
              "overall_rating\n",
              "1                 7291\n",
              "0                 2709\n",
              "dtype: int64"
            ]
          },
          "metadata": {},
          "execution_count": 403
        }
      ],
      "source": [
        "y_development.value_counts()"
      ]
    },
    {
      "cell_type": "markdown",
      "id": "0ba1SKY9VKM-",
      "metadata": {
        "id": "0ba1SKY9VKM-"
      },
      "source": [
        "#### Distribution of text lengths\n",
        "\n",
        " This graph helps identify if there are any extremely short or long texts that might require special handling, such as truncation, summarization, or exclusion, to ensure the sentiment analysis model processes the data effectively."
      ]
    },
    {
      "cell_type": "code",
      "execution_count": null,
      "id": "MC_WcUqYVKwe",
      "metadata": {
        "colab": {
          "base_uri": "https://localhost:8080/"
        },
        "id": "MC_WcUqYVKwe",
        "outputId": "6f984a10-76de-4b8e-bc9f-bd92206eb05f"
      },
      "outputs": [
        {
          "output_type": "display_data",
          "data": {
            "text/plain": [
              "<Figure size 640x480 with 1 Axes>"
            ],
            "image/png": "[encoded data removed]"
          },
          "metadata": {}
        }
      ],
      "source": [
        "# Analyze the distribution of text lengths\n",
        "sns.histplot(X_development['text_tokenize'].apply(lambda x: len(x)), bins=20, kde=True)\n",
        "plt.title('Distribution of Text Lengths')\n",
        "plt.xlabel('Text Length')\n",
        "plt.show()\n"
      ]
    },
    {
      "cell_type": "code",
      "execution_count": null,
      "id": "BqnCDt_Jvchc",
      "metadata": {
        "colab": {
          "base_uri": "https://localhost:8080/"
        },
        "id": "BqnCDt_Jvchc",
        "outputId": "45410682-34f8-4787-aa17-bc14fb644cb1"
      },
      "outputs": [
        {
          "output_type": "execute_result",
          "data": {
            "text/plain": [
              "0"
            ]
          },
          "metadata": {},
          "execution_count": 405
        }
      ],
      "source": [
        "count_no_text = (X_development['text_tokenize'].str.len() < 5).sum()\n",
        "count_no_text"
      ]
    },
    {
      "cell_type": "markdown",
      "id": "SHR5f_wV5ufm",
      "metadata": {
        "id": "SHR5f_wV5ufm"
      },
      "source": [
        "There are no need to exclude any observation"
      ]
    },
    {
      "cell_type": "markdown",
      "id": "2IgDfVl3UHaw",
      "metadata": {
        "id": "2IgDfVl3UHaw"
      },
      "source": [
        "#### Unique words\n",
        "\n",
        "This analysis involves identifying unique word."
      ]
    },
    {
      "cell_type": "code",
      "execution_count": null,
      "id": "4R7eZ3kgwqjK",
      "metadata": {
        "colab": {
          "base_uri": "https://localhost:8080/"
        },
        "id": "4R7eZ3kgwqjK",
        "outputId": "b0bd0ca2-7407-4399-8825-2a0ab6292eb6"
      },
      "outputs": [
        {
          "output_type": "stream",
          "name": "stdout",
          "text": [
            "14496\n",
            "['coaxing', 'Buzz', 'overrall', '8ft', 'overfacing', 'verytime', 'legitimately', 'aug', 'CONGRATULATIONS', 'Phili', 'Shoping', 'Glasgow', 'Definantly', 'HEY', 'FOOs', 'sleepnumber', 'vacancy', 'Ruzzo', 'helpfullness', 'incredibley', 'tinea', 'bunching', 'skews', 'challeneged', 'Resist', 'irresistible', 'McDonlads', 'miond', 'flickering', 'align', 'comprises', 'brainier', 'Saucer', 'Clam', 'Chowder', 'Arvada', 'stil', 'briight', 'spunky', 'qiuet', 'hostelbookers', 'handcrafted', '1892', 'benevolent', 'quartet', 'Redbox', 'Countryside', 'Helladise', 'vac', 'deathtrap', 'cussed', 'mules', 'Spmembers', 'Eloy', 'Pretend', 'passers', 'Pavilions', 'Bella', 'Gorham', 'Spamalot', 'corkscrews', 'Moen', 'paring', 'Raphael', 'STRONGLY', 'toursit', 'greystoke', 'snake', 'spotlights', 'lips', 'AWFULLY', 'humanness', 'terrilble', 'conveyor', 'corny', 'sweetener', 'dairy', 'Annoying', 'distinctions', 'verges', 'Waterworks', 'romdeling', 'outsi', 'mananger', 'Poo', 'poo', 'flooriing', 'Greater', 'demolition', 'rebuild', 'Readng', 'espesh', 'askd', 'guesstimate', 'sightseein', 'hosiptal', 'UPenn', 'trendiness', 'Feinstein', 'deafining', 'sanitray', 'Rennovations', 'evenly', 'leap', 'Concerge', 'Aw', '480i', 'screenshot', '5mbps', 'T1', 'hickory', 'click2houston', 'Eeek', 'Timex', '218', 'Quincea', 'decaying', 'slapping', 'umpteenth', 'rot', 'stagnant', 'generating', 'underconstruction', 'internat', 'froml', 'Bondi', 'dee', 'australian', 'Dolby', 'Esthetics', 'pickes', 'Paxton', 'Pax', 'Allure', 'Penny', 'Upstate', 'wheeling', 'trait', 'collague', 'sparcely', 'Downhill', 'thesis', 'remedies', 'StarWood', 'overwhelm', 'Gyro', 'Decker', 'Garret', 'jocks', 'pouting', 'descent', 'Cove', 'Bungalows', 'scooters', 'bluff', 'SPEEDY', 'disguised', 'citrus', 'aloe', 'burgandy', 'ATL', 'purposefully', 'businesspeople', 'havae', 'Godsend', 'Marmara', 'Maureen', 'Ashley', 'EDDY', '9179302046', 'newark', 'BOH', 'Pakistan', 'attrocious', 'bays', 'bonjour', 'inauthentic', 'diversions', 'supremo', 'Lighted', 'Espresso', 'prepares', 'Wiltshire', 'opp', 'Nunn', 'Deauville', 'Vida', 'logistical', 'gauntlet', 'cherished', 'solicitations', 'Vonn', 'frameless', 'Advantage', 'eclipsing', 'nickles', 'CVB', 'RTW', 'Verite', 'toppers', 'principally', 'capitalize', 'serenading', 'rhe', 'presentatio', 'workplace', 'Thumping', 'Into', 'anus', 'wimple', 'loveeeee', 'Dreamin', 'drool', 'Nail', 'Labelled', 'Yoghurt', 'Georia', 'responsibe', 'Chaudhry', 'loyalists', 'lcoated', 'valude', '6m', 'boozy', 'chav', 'effing', '4539', 'proactiveness', 'recognise', 'CHAOS', 'Mice', 'descirbing', 'Eastbridge', 'Logdings', 'problemes', 'pluming', 'casing', 'Guitar', 'Counter', 'Alyssa', 'tkts', 'incessantly', 'hyper', 'syntetic', 'unconfortable', 'missleading', 'bunker', 'WIndows', 'friendler', 'exremely', 'Morans', 'carter', 'PPL', 'STAYS', 'ANYWAYS', 'ESP', 'RE', 'Def', 'Cooles', 'undrstandable', 'Smelled', 'Marissa', 'satisified', 'tizzy', 'hero', 'hatted', 'Weddining', 'Lindt', 'chooclate', 'Ruining', 'Reputation', 'Restarant', 'Closeby', 'omellette', 'beeps', 'tme', '1378', 'timeless', 'variaty', 'microphone', 'golfers', 'Shady', 'scuzzy', 'coaster', 'Gershwin', 'Utah', 'constituted', 'webs', 'daylights', 'irritable', 'ramble', 'MLK', 'tock', 'gererally', 'Toni', 'appetisingly', 'JT', 'SkyAuction', 'lobbly', 'uniqueness', 'opine', 'Townsend', 'speech', 'dissuade', 'embarrased', 'troubleshooting', 'unscented', 'daytrip', 'Catalina', 'Carlsson', 'grants', 'Dist', 'Aguirre', 'hankering', 'Sails', 'aprty', 'thefts', 'Araya', 'ensued', 'backpacks', 'Means', 'Maker', 'ramen', 'Tampopo', '1114', 'inquirred', 'botht', 'fortified', '3GPP', 'bambinos', 'mutually', 'rampaging', 'infection', 'mend', 'spatious', 'eastend', 'nive', 'promp', 'taying', 'crush', 'helpfully', 'lids', 'Bally', 'famiily', 'Prety', 'grouped', 'cluster', 'beggining', 'priviliages', 'Snagged', 'Crank', 'bnig', 'suppressor', 'Domino', 'relies', 'Imperial', 'disired', 'Delivered', 'Convienant', 'resonably', 'restraurant', 'conv', '840', 'mothership', 'adventuring', '1br', 'carnivores', 'disorienting', 'jus', 'disatisfied', 'immature', 'hydrotherapy', 'Underwear', 'BIOHAZARD', 'Ninety', 'unexplained', 'unneccessary', 'faxs', 'depots', 'lumber', 'cielings', 'gallavant', 'airforce', 'DIE', 'Ash', 'debacle', 'faithful', 'corrider', 'didny', 'marlin', 'panned', 'Nimitz', 'stacking', 'nonadjustable', 'oK', 'outweight', 'neceassry', 'grils', 'PANCAKES', 'uneaten', 'Ick', 'bouquet', 'balloons', 'Mediterrean', 'executing', 'deflated', '45pm', 'suspecting', 'Austrians', 'Austrian', 'blv', 'definally', 'braving', '60hrs', 'cultural', 'graffitti', 'cldnt', '2hrs', 'carve', 'Oxy', 'Gatsby', 'Quartz', 'jfk', 'Pret', '4mins', 'cigratte', 'orignated', 'probable', 'poilte', 'redecoration', 'mantle', 'peaked', 'sensibility', 'banquette', 'sewn', 'Perplexing', 'unwrapped', 'Ipad', 'clutterless', 'mattres', 'brochyre', 'discribes', 'procent', 'getgo', '6er', 'Warehouse', 'anywho', 'LQQK', 'Villain', 'speciails', 'Blackhawks', 'dividers', 'hottubs', 'annoyingly', 'perturbing', 'subscribing', 'understandably', 'buffer', 'SXSW', 'Pillow', 'facilitated', '7days', 'maschine', 'Tex', 'Raoul', 'bandit', 'modeling', 'shag', 'shuffling', 'predicted', 'Velvet', 'favorably', 'objectionable', 'Reccommended', 'recption', 'ABA', 'Vdara', 'melons', 'choosey', 'inaccurate', 'Thong', 'servuce', 'zagat', 'wholefood', 'Lara', 'Bagby', 'Hernandez', 'Wing', 'studied', 'booklets', 'Fixed', 'Restrauant', 'Restful', '110st', 'Host', 'piggish', 'wiIl', 'donning', 'headsets', 'cranny', 'sutter', 'oakland', 'zipcar', 'glancing', 'toom', 'INAPPROPRIATE', 'sould', 'wih', 'clammor', 'vascular', 'symposium', 'dec', 'pos', 'whitout', 'protocol', 'liquids', 'SIlver', 'endemic', 'counterbalance', 'Underwhelming', 'the1980s', 'overuse', 'hysterical', 'Careful', 'enlivened', 'pianos', 'orientate', 'Platte', 'preserve', 'REI', 'commodious', '539', 'mates', 'edwardian', 'slashed', 'bayfront', 'Decades', 'Mengar', 'Ibiza', 'Rhein', 'TEX', 'Nightfir', 'Havenly', 'spece', 'convo', 'sabreing', 'announces', 'sabres', 'pours', 'Lydia', 'Leslie', 'Ertug', 'britsh', 'Britsh', 'MDW', 'lager', 'HIghly', 'zillion', 'loosely', 'moored', 'Covenient', 'Akin', 'commemorating', 'Peacock', 'Sprite', 'mingled', 'picutres', 'evidentally', 'luxious', 'Tasti', 'Lite', 'EXPLORING', 'Patty', 'TRANS', 'TRANSIT', 'CAL', 'Berkeley', 'Carmen', 'Improving', 'Eddy', 'usa', 'beam', 'personalization', 'Frommer', 'preposterous', 'Aquatic', '35W', 'strive', 'minisuites', 'Merry', 'convertible', 'mustang', 'pleasntly', 'jawdropping', 'guarnatee', 'debating', 'Galway', 'Heartbeat', 'E3', 'GOD', 'Pillowtop', 'Strawberries', 'aplogetic', 'Dedicated', 'gusher', 'neutrogena', 'Serve', 'deferred', 'insight', 'coincided', 'Plain', 'Betsey', 'adveturesome', 'actully', 'philly', 'legged', 'Grassy', 'Impressionist', 'badgeholder', 'doughy', 'skewers', 'glorfied', 'MYSELF', 'bizaare', 'tattoos', 'drifts', 'veer', 'customize', 'canadian', 'Grandson', 'quikbook', 'Bouchon', 'Mousehole', 'pickiy', 'neatness', 'rummbling', 'ajacent', 'priviledges', 'Orel', 'caramel', 'delectables', 'Certain', 'DiNic', 'provolone', 'Snack', 'attiitude', 'conferene', 'seize', 'Todd', 'Sponge', 'Pecan', 'Yogurt', 'Barley', 'Waffles', 'macys', 'absured', 'porice', 'criticise', 'dedcided', 'thourough', 'edged', 'acknowlege', 'evoking', 'cartoonish', 'unacceptably', 'processor', 'manky', 'rachael', 'keogh', 'yahoo', 'Helpfull', 'adapt', 'gimmick', 'nowasdays', 'thye', 'stanford', 'exaclty', 'ROARING', 'sensitized', 'behing', 'hunts', 'TCM', 'neighboorhood', 'diposit', 'diferents', 'Learn', 'triggered', 'GOLD', 'keurig', 'Cybex', 'Leona', 'steetcar', 'Judah', 'nimble', 'regional', 'Todays', 'appretizers', 'opting', 'opps', 'SFSU', 'retreve', 'forgottan', 'intefere', 'turnoff', 'patchwork', 'Flavorsome', 'naysayers', 'Unnecessarily', 'MidTown', 'Beard', 'Connecting', 'Analesha', 'Leo', 'Gutierrez', 'Novelty', 'roaring', 'grouse', 'buskers', 'Norcini', 'goodnight', 'Realy', 'tosses', 'DH', 'Lighthouse', '70W', '65S', 'Missouri', 'glassed', 'administrate', 'Gardeners', 'terrrific', 'karate', 'Bridget', 'Kayhlee', 'enaging', 'Serivice', 'Holidy', 'Enjoyes', 'Butkus', 'averaging', 'chipper', 'sheds', 'Greated', 'buble', 'lookalike', 'fizzy', 'Solutions', 'career', 'Yacht', 'angus', 'asekd', 'advertized', 'hotle', 'doe', 'othe', 'kone', 'Vienna', 'Hamburg', 'nauseum', 'earsplitting', 'servants', 'reasonableness', 'haves', 'nots', 'filtering', 'intruded', 'DECA', 'qwalking', 'Fat', 'SanDiego', 'Tylenol', 'EarPlugs', 'competitve', 'resortsand', 'KEPT', 'bandage', 'THIER', 'smarty', 'viewsuites', 'breaky', 'Kidman', 'Guaranteed', 'wifeys', 'legenday', 'Galaghers', 'Churrascaria', 'w49th', 'favourably', 'nerds', 'aLoft', 'sincerity', 'compaint', 'overnigt', 'plentyful', 'donwside', 'hunk', 'remittance', 'berating', 'disregarding', 'Chamber', 'Holliday', 'nightlight', 'bodka', 'wopuld', 'mulberry', 'chissel', 'emplacement', 'JetSetter', 'blcoks', 'encessary', 'Maximum', 'BB', 'Gospel', 'Choir', 'Auguste', 'ladys', 'passesngers', 'Shape', 'stoneleigh', 'ridicule', 'flashes', 'Unforgettable', 'dwntown', 'ouy', 'allways', 'PET', 'Comicon', 'cuatious', 'Stoneleigh', 'agaed', 'maximise', 'blandness', '900m', 'Caracter', 'youare', 'sox', 'liverpool', 'manchester', 'bayern', 'munich', 'hapoel', 'emphasized', 'president', 'CLEANLINESS', 'rechelle', 'joh', 'jessica', 'ram', 'hospitiable', 'resturaunts', 'congregated', 'lineup', 'Layton', 'Adventure', 'noisiest', 'SouthWest', 'unemployed', 'felf', 'Karina', 'professonalism', 'xyz', 'twister', 'guilt', 'differnt', 'jdv', 'Izakaya', 'scallop', 'ravenous', 'Kinokuniya', 'irrelevant', 'Claire', 'Vendi', 'undercontruction', 'stepsister', 'SHO', 'Shaun', 'Hauget', 'Josephine', 'OCt', 'organizer', 'Died', 'skies', 'strengths', 'accepts', 'purveyor', 'eventuate', 'LBJ', 'Debevics', 'apologises', 'Ithat', 'steals', 'AAP', 'varities', 'deaks', 'airconditions', 'businness', 'longish', 'MacPherson', 'arrivedi', 'SBE', 'CLEO', '50m', 'oppurtunity', 'foun', 'alamode', 'Qtr', 'expections', 'Oceanview', 'quesiton', 'trouser', 'Century21', 'Galley', 'Marshalls', 'Tj', 'Maxx', 'JEWELLERY', '448', 'jewlerry', 'ecelectic', 'pillars', 'ATand', 'restraurants', 'everymorning', 'McFerson', 'insolent', 'supermarked', 'shuffled', 'suffocating', 'accentuated', 'Tugs', 'attacked', 'distribute', 'Shoe', 'parfumed', 'Pierre', 'darkly', 'ay', 'filmy', 'Momma', 'Sevice', 'undertook', 'berthed', 'chaises', 'heat1', 'sous', 'chatted', 'leaisure', 'gaudy', 'USB', 'unorthodox', 'rought', '9bucks', '24hours', 'privlages', 'firetrucks', 'alrams', 'submitting', 'Timothy', 'Dowd', 'Hlton', 'charter', 'bodyguard', 'Mulberry', '3hour', 'IMMEDIATE', 'cylinder', 'Clayton', 'modifying', 'HILARIOUS', 'hermit', 'capacities', 'COULD', 'Collegiate', 'customizable', 'hypo', 'allergenic', 'Judiciary', 'Includes', 'Secured', 'Derrick', 'Hideaway', 'accompanying', 'cordon', 'bleu', 'empanadas', 'bevy', 'whooping', 'roofed', 'partook', 'TASTE', 'entranceway', 'lurked', 'doubling', 'crannies', 'allayed', 'soundless', 'Smartphone', 'cobble', 'Shopper', 'Wyngate', 'Gallaghers', 'Germans', 'qualifier', 'medicines', 'Tria', 'Matyson', 'Vetri', 'Alma', 'Bec', 'personaly', 'Dish', 'effected', 'Goldenyearsnow', 'andstay', 'amt', 'dialed', 'idiocincracies', 'Nickel', 'Dimed', 'Death', 'ESPECIALLY', 'FEE', 'ADMINISTRATION', 'Tremendous', 'Pedestrian', 'vehicoe', 'yeaar', 'Age', 'surgeon', 'Philies', 'misery', 'promote', 'Mazda', 'obliterates', 'aesthete', 'madly', 'joins', 'enduring', 'Soso', 'reup', 'Curtious', 'Antonios', 'hes', 'THank', 'scrungy', 'caffeination', 'Chavez', 'capcious', 'morgue', 'concoctions', 'pinching', 'baggy', 'sanctioned', 'denim', 'HIDEOUS', 'DIM', 'DRENCHED', 'STINKY', 'Apologetically', 'reprinted', 'FAT', 'RAISE', 'Luggage', 'Magically', 'scanning', 'Lodging', 'exquisitly', 'arrowood', 'trought', 'armoires', '91', 'conventioneer', 'flushes', 'peculiarly', 'Fishermen', 'seniors', 'identifing', 'manuvering', 'COMFY', 'tore', 'blk', 'reunions', 'Dulca', 'ESPNs', 'millenium', 'rriver', 'arabic', '5m', 'residental', 'Showerhead', 'handmade', 'ij', 'alll', 'Squadrito', 'confort', 'Casttle', 'fennel', 'prosciutto', 'minefield', 'chefls', 'whisky', 'Gibsons', 'Pizano', 'airfare', 'drum', 'Shocker', 'Bellagio', 'Thermostat', 'plesently', 'Finn', 'Porters', 'jolly', 'amenitiies', 'hotes', 'encounted', 'fanuel', 'copley', '4s', 'Southwestern', 'outsider', 'resolving', 'poits', 'remants', 'exteriors', 'butterfly', 'programmed', 'decievning', 'midnite', 'immediatley', 'recpetionist', 'thunderstorm', 'Etra', 'FoodParc', 'architecural', 'honduran', 'Carrera', 'vocalist', 'wyndham', 'Thansk', 'churchs', 'detector', 'voul', 'Westmister', 'Rundown', 'imagineable', 'unregulated', 'Gin', 'Orgasam', 'Inclusive', 'spacicous', 'PSFS', 'SoleFood', 'Soccer', 'Tournament', 'knifed', 'abundantly', 'Stax', 'spongey', 'miticulous', 'condintion', 'Excellet', 'forecasted', 'Confort', 'brazilian', 'Honey', 'preferably', 'POOR', 'TAX', 'JMM', 'wii', 'Canteen', 'overtaking', 'Oggi', 'EWwww', 'individuality', 'oct', 'tonne', 'manouvering', 'Selvas', 'restay', 'Knox', 'Monk', 'Luxurios', 'Deceived', 'exterminator', 'behaving', 'ated', 'contiued', 'devour', 'cadillac', 'reaturant', 'livve', 'tripple', 'campaign', 'launched', 'converstions', 'Marcos', 'frazzled', 'Chicgao', 'Zabar', 'scarves', 'Loehmann', 'BellyDelly', 'Mix', 'professionel', 'Mae', 'MIX', 'Models', 'refreshening', 'minimally', 'dfriendly', 'Dolce', 'chaperoning', 'ruby', 'comportable', 'interupting', 'Pigallie', 'swapping', 'prehaps', 'Muddy', 'accros', 'Stationa', 'USD220', 'SQ', 'adapters', 'learend', 'dishonesty', 'complimetary', 'ZaSpa', 'ACL', 'christina', 'AUSTIN', 'Reseda', 'Antonella', 'Conciege', '2616', 'Eatt', 'BenPo', 'Locacation', 'bias', 'Restuarant', '711', 'eggspectation', 'KC', 'Barbeque', 'Gun', 'convergence', 'Thick', 'Computers', 'tequila', 'floorboard', 'hmmmshould', 'Mindy', 'Gabriella', 'reccoment', 'Horseback', 'grunge', 'bickering', 'pitifully', 'prepated', 'noce', 'exclaimed', 'pixels', 'shorts', 'MyWay', 'frinks', 'firehouse', 'redecorating', 'GayleOwlToronto', 'BOston', 'Vibe', 'Disneyvied', 'altought', 'sideeffect', 'celeb', 'Strein', 'trundle', 'obligation', 'towering', 'thean', 'fenced', 'goop', 'atthe', 'imformative', 'rstaurant', 'Looove', 'echos', 'marriots', 'bustles', 'sprite', 'advarage', 'bein', 'Trappicana', 'candel', 'jaquzi', 'Kigns', 'Search', 'Cancel', 'BRUTAL', 'ROACHES', 'Philaelphia', 'farmer', 'Ironing', 'hidey', 'Kamasutra', 'SONY', 'RESPOND', 'squished', 'skipping', 'checkpoint', 'Physicians', 'moronic', 'huhsband', 'mysef', 'Enthusiasm', 'proficient', 'decisicion', 'Brigde', 'frigde', 'binder', 'coins', 'canals', 'Operating', 'alternating', 'congregating', 'Meet', 'IU', 'Classical', 'tradtional', 'Greatly', 'SanAntonio', 'plumb', 'dinghy', 'grabs', 'Forwarned', 'spotllessly', 'Jacket', 'paparazzi', 'clicks', 'Nectar', 'Sant', 'Ambroeus', 'Million', 'Presido', 'Steeped', 'groupon', 'Paisanos', 'Paisano', 'stung', 'AK', 'violence', 'bro', 'bartendars', 'ammenites', 'strick', 'Woodhams', 'elevate', '83rd', 'chucked', 'uninformatative', 'scribbled', 'riff', 'raff', 'bankrupt', 'launching', 'med', 'Arkansas', 'Stockyard', 'characterization', 'pleaant', 'indictment', 'pennisula', 'signifies', 'denver', 'thru11th', 'IVO', 'dysfunctionings', 'Ariimoana', 'FRENCH', 'POLYNESIA', 'yank', 'writes', 'hinders', 'undersheet', 'crumples', 'sakes', 'expressways', 'sheltered', 'Vile', 'Socks', 'fleece', 'acquaintances', 'fowl', 'snowboard', 'adversarial', 'Steiner', 'Avalon', 'Giesha', 'singin', 'nouveau', 'comfortability', 'Righa', 'definity', 'Equal', 'depsite', 'spanning', 'enitre', 'Conollys', 'Suitable', 'grim', 'Tumult', 'Busters', 'Tussards', 'Appropriately', 'lamb', 'awareness', 'destined', 'MLF', 'Holderness', 'focusing', 'imaging', 'Khalil', 'Trophies', 'anyswhere', 'Panther', 'docs', 'Twigs', 'Henrietta', 'Maxies', 'swimmers', 'Smile', 'rescheduled', 'FCUK', 'uphold', 'Judge', 'Cover', 'Varsa', 'conveyed', 'FANTASIC', 'HUNDREDS', 'Woodward', 'enticing', 'Scenic', 'bottoms', 'Magnavox', 'Comftorable', 'tid', 'dander', 'boarder', 'ghiradelli', 'trends', 'exeptional', 'happends', 'Duh', 'hourderves', 'giftshops', 'Carolyn', 'IH10', 'envisioned', '24am', 'rrate', 'athe', 'accees', 'pleasaant', 'pricewise', 'strings', 'amalfitinis', 'Balls', 'Spactacular', 'remake', 'verification', 'Process', 'yeras', 'radiatior', 'prearrangement', 'successive', 'Slanted', 'Danko', 'ringside', 'snapshot', 'Advanced', 'HM', 'cheeks', 'Noche', 'Fuego', 'homosexual', 'deaf', 'vibrating', 'pulse', 'destroyed', 'uncomforted', '396', 'Confusing', 'psyched', 'inauthenticity', 'Competent', 'Tapatini', 'agonized', 'Mist', 'puffs', 'MHO', 'upholestry', 'rotation', 'conventantly', 'accomatitions', 'continational', 'brakefast', 'conceader', 'Finishes', 'Panel', 'Mercado', 'Tierra', 'doddle', 'flick', 'surname', 'Dealing', 'curvy', 'girlsndid', 'habitat', 'lizards', 'terraces', 'Mcfadden', 'jsut', 'Profuse', 'investigated', 'emanates', 'complexity', 'hicks', 'spouses', 'engagements', 'cheapskate', 'highland', 'souvenier', 'sparkly', 'rhinestones', 'Delphine', 'masquerading', 'materialised', 'wedded', 'hipand', 'abysmally', 'Fri1', 'Fumbling', 'FedX', 'assissted', 'Burman', 'Nely', 'crosses', 'niite', 'cigcarett', 'hummer', 'McCormickPlace', 'prostute', 'Ebbit', 'Disrespected', 'consecutively', 'assessing', 'crude', 'Scottish', 'stangers', 'nutshell', 'notedly', 'shielded', 'Pryor', 'everyway', 'flowery', 'mightn', 'triangular', 'FDR', 'Verrazano', 'Tallbloke7', 'reindeer', 'neoclassic', 'AMC', 'Transamerican', 'Alert', 'Tracie', 'Guarantee', 'composed', 'invaded', 'Baker', 'Lils', 'retailers', 'Broadripple', 'Champs', 'Mongolian', 'Wuites', 'complementry', 'slumish', 'Hugh', 'Heffner', 'AHHHH', 'phiilipino', 'attach', 'atmoosphere', 'commodore', 'clothed', 'atrocity', 'urbane', 'aplomb', 'Managing', 'xoco', 'Allergic', 'Zigi', 'Benefits', 'shaggy', 'Shaggy', 'christopher', 'DRAWBACKS', 'Enemy', 'wreck', 'contradiction', 'friggin', 'CROWBAR', 'gala', 'SWITCH', 'Halls', 'transportion', 'candlelit', 'studs', 'earrings', 'certified', 'responed', 'negligence', 'Triangle', 'Westwoo', 'RANK', 'sperm', 'dosent', 'everwere', 'attache', 'maximized', 'Rover', 'Rashard', '3009', 'Fendi', 'divider', 'crapped', 'Emabarcadero', 'Grannies', 'loacation', 'Marker', 'eevening', 'eveing', 'Augi', 'Roseido', 'Jhon', 'Magnifcient', 'Quebec', 'Budakan', 'Climate', 'Zisjean', 'Isaac', 'tappers', 'strategically', 'justed', 'unliminted', 'shortcoming', 'partnership', 'pristinely', 'atmostphere', 'sow', 'waterways', 'Priscilla', 'Garcia', 'Microwaved', 'Pace', 'eased', 'WTO', 'cushioned', 'shivers', 'Council', 'marquee', 'hoitel', 'Etta', 'dounut', 'tues', 'wed', 'synonymous', 'oneway', 'angst', 'extracting', 'epitomized', 'deteriorate', 'nunuflies', 'survives', 'inspire', 'misaligned', 'fasted', 'wight', 'Mad', 'wOuld', 'gebtleman', 'Rosemont', 'Tey', 'whirl', 'irresponsibly', 'DCs', 'Garrington', 'amendities', 'Finnaly', 'converter', 'mccormick', 'schmick', 'reubens', 'whne', 'riva', 'valeu', 'housekkeping', 'angents', 'Phamacy', '24hs', 'crumby', 'tubing', 'getawat', 'Shannon', 'jiffy', 'designate', 'sparkle', 'scheptical', 'feal', 'Missississippi', 'Dixon', 'migrate', 'cheapy', 'shipshape', 'Delano', 'pepople', 'sked', '3401', 'Fixtures', 'poviding', 'digging', 'Grenwhich', '12st', 'Ramsey', 'magnificence', 'Artwork', 'commenters', 'irritate', 'Kroger', 'detractor', 'pavements', 'Kudo', 'Blair', 'Brett', 'demerit', 'MARINA', 'DELI', 'bfst', 'whateover', 'spose', 'sultry', 'repositioning', 'erotic', 'racy', 'boobie', 'impose', 'suppriced', 'che', 'nacho', 'greener', 'pastures', 'overstaffed', 'glacially', 'unoccupied', 'momentarily', 'giggled', 'Tangier', 'begrudging', 'Shocking', 'Impersonal', 'exhibitions', 'prioroty', 'powerless', 'FAVOUR', 'cravings', 'liquors', 'cheat', 'applicable', 'MIssion', 'ribbon', 'pretentiousness', 'stoves', '2850', 'summed', 'swung', 'truthfully', 'describing', 'gist', 'shooing', 'echoing', 'Triple', 'Posh', 'dimmers', 'SleepParkFly', 'disheartening', 'irrate', 'nominated', 'sainthood', 'faked', 'Knights', 'explaine', 'Rhe', 'manificiant', 'COST', 'Sunnyvale', 'Palo', 'Alto', '680', 'dripper', 'Hanuman', 'Bennett', 'Spreading', 'Souffle', 'kettles', 'fiddled', 'patchouli', 'esqe', 'leviathan', 'epitomy', 'Overlook', 'Nicholson', 'Stanton', 'itty', 'bitty', 'garments', 'handtowels', 'vessel', 'sepulchral', 'Giselle', 'Moonrock', 'litre', 'Poland', 'HAH', 'stylishness', 'Montreal', 'Hyped', 'dynanmic', 'solutions', 'insistance', 'distorts', 'programmes', 'pls', 'Bat', 'specutacular', 'Yardage', 'Championship', 'Greens', 'angilations', 'fiar', 'readable', 'illusions', 'comply', 'demerits', 'passably', 'healthfreak', 'serviceminded', 'muzak', 'Omelet', 'Owesome', 'owesome', 'hires', 'JOSE', 'MARTINEZ', 'KUDOS', 'Renewal', 'Christie', 'Junction', 'Balloon', 'Artistry', 'Zoomagination', 'appealed', 'deliciously', 'Francesca', 'kite', 'Chanel', 'waaaay', 'michelin', 'stupidest', 'newyork', 'Comfortably', 'draughts', 'dodgyans', 'insulate', 'Schnabel', 'jewelled', 'proportions', 'Jade', 'Silvia', 'Mailroom', 'airrefresher', 'expressly', 'inescapable', 'advisable', 'Coincidentally', 'TIDY', 'interacting', 'genunie', 'stowed', 'termminal', 'fusty', 'oftentimes', 'Eduardo', 'ummmm', 'UTEP', 'punch', 'Yunker', 'Vinnie', 'Mmm', 'congraulated', 'baconies', 'cityview', 'Citrus', 'unpolished', 'LUNCH', 'deployed', 'AUGUST', 'Attitude', 'buffeted', '1886', 'Pei', 'Wei', 'Feet', 'maneuvers', 'illogically', 'Randoms', 'Witnessed', 'Charley', 'Cosmic', 'sear', 'uno', 'dukes', 'lessen', 'staats', 'citys', 'Hassle', 'Boeing', 'Bianco', 'Ending', 'beantown', 'MARRIOTTS', 'USED', 'pedastal', '316', 'Smallness', 'completeing', 'corespondance', 'somehere', 'Bacchus', 'hoarding', 'seemd', 'Coastal', 'AMPM', 'perusing', 'doorstaff', 'Caucasian', 'prejudiced', 'judgmental', 'prejudice', 'Hen', 'haavy', 'vaction', 'whoop', 'Shamrock', '9K', 'Atwood', '6ave', 'networking', 'resource', 'eras', 'communicative', 'dealses', 'remodle', 'Serious', 'hazards', 'BOTTOM', 'LINE', 'Hane', 'cuddly', 'DISCLAIMER', 'Tip1', 'Helicopter', 'Tip2', 'captains', 'notches', 'engulfed', 'defrosted', 'rediculously', 'hump', 'wills', 'schism', 'redesigning', 'disorder', 'experimental', 'delaminating', 'timber', 'Dim', 'Sum', 'wastebasket', 'kneenex', 'sqruitting', 'deafing', 'Designer', 'inter', 'LIKED', 'DISLIKED', 'DJs', 'Apparentally', 'Brioche', 'Thanx', 'Humane', 'Dawg', 'Charlesown', 'chairman', 'runways', 'bark', 'RACK', 'HOSPITALITY', 'Julia', 'balconys', 'TR', 'bled', 'glitchy', 'pursuing', 'Relaunching', 'thehotel', 'abolished', 'gratuities', 'Samaritan', 'expirience', 'Lonely', 'travelguides', 'Jonesstreet', 'Marketstreet', 'regulary', 'wethaircap', 'soapbar', 'electricityplug', 'immediatily', 'hotelroomtarif', 'alarmclock', 'saucers', 'hanstalsma', 'zonnet', 'nl', 'PASO', 'Texans', 'adheres', 'facialists', 'unfairly', 'vacay', 'complimentay', 'HWY', 'Heeeeyyy', 'unfavorable', 'genial', 'COMENTARIOS', 'COUNTRY', 'WORL', 'VECES', 'TUVIERON', 'VENIR', 'PROBAR', 'LLAVE', 'CUARTO', 'PORQUE', 'PODIAMOS', 'HABRIR', 'PUERTA', 'BUFETE', 'PARA', 'DESAYUNAR', 'ESTABA', 'MUY', 'ESCASO', 'FALTABAN', 'MUCHOS', 'ALIMENTOS', 'JUGOS', 'TIENEN', 'MAS', 'AGUA', 'JUGO', 'Scottsboro', 'comformable', 'mosty', 'Prague', 'highpoint', 'incompatibility', 'regain', 'wether', 'sympathtic', 'Mackey', 'lenient', 'mosquitos', 'them4', 'suckers', 'fore', 'X5', 'tattoo', 'deference', 'lapel', 'omission', 'souveniers', 'hopeful', 'readonable', 'scribble', 'expose', 'resreve', 'Oyster', 'Bostom', 'firemen', 'percolator', 'Duckling', 'duckling', 'swan', 'laziest', 'augustine', '125th', 'Apollo', 'overprized', 'unencumbered', 'divey', 'Bickford', 'rejuvenated', 'formally', 'informally', 'conserve', 'defeats', '8x8', 'Stark', 'Sardine', 'swoosh', 'EXCELLENCE', 'cityscape', 'unblemished', 'Oggie', 'moron', 'stastion', 'sho', 'Setting', 'Penasquitos', 'Preserve', 'Aviara', 'moorish', 'Beer', 'Somekind', 'clumps', 'clunk', 'kosher', 'chrystal', 'Somone', 'Lasalle', 'gizmos', 'infants', 'dignitary', 'TEA', 'Employee', 'qestions', 'Featuring', 'championed', 'versions', 'councilperson', 'intercedes', 'Bartlyn', 'Macaluso', 'cheek', 'intermitten', 'changer', 'thawed', 'stasy', 'Horaccio', 'Paperazzi', 'remebered', 'Paperrazi', 'CONTEMPORARY', 'expirenced', 'FLAVIA', '118', 'Einsteins', 'Bahama', 'religiously', 'Kuddos', 'EUROPEAN', 'Requesting', 'Millenum', 'looooonnnggg', '1022', 'Wonder', '22USD', '49USD', 'booker', '180USD', '71USD', 'gentlest', '99USD', '200USD', 'Shinny', 'transpo', 'mixes', 'enriched', 'mighy', 'conservatory', 'slogan', 'roomn', 'warrants', 'THOR', 'buzzy', 'salubrious', 'reccoend', 'Hummer', 'swimsuit', 'Holy', 'SECOND', 'spors', 'BATH', 'afternooon', 'gaping', 'desicion', 'Beal', 'allover', 'tiredness', 'Aiden', 'furbished', 'aranged', 'wenn', 'breakfastlounge', 'pankakes', 'handbasin', 'ANTS', 'lifegaurd', 'notfied', 'LOAD', 'coding', 'neatniks', 'cautionary', 'closures', 'deed', 'notifying', 'squint', 'gardenia', 'Irving', 'Secluded', 'eliminated', 'Elliott', 'tangled', 'hardbfornthe', 'telepathic', 'Daffodil', 'attained', 'trinkets', 'Burbank', 'mindless', 'Mertz', 'misunderstand', 'nearish', 'occaisonal', 'bloks', 'Carl', 'snacked', 'helful', 'accountability', 'mistreated', 'tthose', 'respectfully', 'Initally', 'briefed', 'WoW', 'aprtment', 'alchohol', 'unexcusable', 'Height', 'yougart', 'adivsed', 'orginal', 'squeak', 'VF', 'dialing', 'Operator', 'phonetics', 'spaceous', 'Rittenhaus', 'inexpesive', 'friendlyt', 'tristate', 'CT', 'Carmine', 'Everyting', 'Tavelocity', '2500', 'Thrown', '22am', 'BANGING', 'LEAVE', 'preconceived', 'notions', 'jambs', 'streaked', 'mugginess', 'assailed', 'tractor', 'shipments', 'arbors', 'trellises', 'ornamental', 'scrollwork', 'askew', 'garnish', 'agonizingly', 'Connectivity', 'reliably', 'ninety', 'Angelica', 'swimsuits', 'Conclusions', 'commited', 'incapable', 'infusion', 'competence', 'tolorable', 'Housekeeper', 'Pedic', 'squeaks', 'Quieter', '293kbps', 'NTSC', '320x240', 'backlight', 'brightness', 'Occupancy', 'INDOOR', 'Den', 'translate', 'hospitla', '1520', 'peeing', 'condensate', 'drenching', 'SoSo', 'outstandingly', 'seers', 'detection', 'guaranty', 'fogged', 'Bats', 'harbourside', 'Cod', 'inendible', 'Skimping', 'maximize', 'Novita', 'Tabla', 'excelled', 'crucial', 'Osorio', 'indicator', 'lettering', 'RJ14', 'traced', 'universe', 'Collins', 'cocked', 'aveage', 'selecton', 'alsovery', 'lterally', 'failry', '329', 'excessively', 'ceilngs', 'altar', 'raquteball', '1977', 'PROVIDED', 'spurted', 'veal', 'restaurantes', 'Pubs', 'confortables', 'classix', 'Oneal', 'Danyel', 'Ramon', 'Donnell', 'Uriah', 'Ashli', 'Enoch', 'lokation', 'providers', 'waffels', 'elevaters', 'Mo', 'listens', 'Notable', 'unsecure', 'Doubletrees', 'Chapange', 'fist', 'Finland', 'imbibed', 'rearranged', 'viewpoint', 'Variety', 'corney', 'grad', '8a', 'Tolerance', 'Wikipedia', 'aggravated', 'plots', '665', 'Daytime', 'wisest', 'bicylce', 'Woiuld', 'Wolfchase', 'StayAmerica', 'veterans', 'accuracy', 'regime', 'grandpa', 'nylon', 'drawstring', 'fattening', 'GONE', 'unseemly', '1992', 'Elmo', 'Kin', 'Seatower', 'Springer', 'Intercontinntals', 'berfore', 'corroding', 'Remove', 'dissapoinments', 'CORPORATE', 'EXPECTATIONS', 'CLEAR', 'PRECARIOUS', 'SITUATION', 'CUSTOMERS', 'Suana', 'Sor', 'Continestial', 'minors', 'hlpful', 'strang', 'shoppe', 'Bunker', 'spew', 'Cancelling', 'LILA', 'Lila', 'fwd', 'ANYBODY', 'suggestive', 'Responsive', 'lung', 'visceral', 'Ravello', 'hoilday', 'kennedys', 'filtration', 'apothecary', 'trooper', 'troopers', 'knoll', 'Taxes', 'plushy', 'docker', 'Crummy', 'cookout', 'Dismal', '248', 'Lemonade', 'TripAdviser', 'Streeterville', 'Hillton', 'unanswered', 'Potted', 'Peach', 'Shubert', 'Collage', 'soundest', 'BLUE', 'ANGELS', 'Wowzer', 'hocking', 'loogies', 'tearooms', 'strecher', 'eggbeater', 'Waitress', 'Pati', 'Muklevicz', 'balustades', 'coped', 'afterdisembarking', 'handcapped', 'Amelia', 'DeOuerez', 'northbeach', 'HOSTEL', 'Students', 'unscrupulous', 'intimidation', 'greed', 'relentlessly', 'sociopath', 'overglamorized', 'slumlord', 'PO', 'worthwhille', 'accomdating', 'officially', 'Indochine', 'Japonica', 'awakening', 'brushoff', 'pointedly', 'quantities', 'pretencious', 'dreamland', 'pe', 'Couples', 'COMPLIMENTARY', 'numb', 'atending', 'hapy', 'dimmest', 'Walnut', 'diagnose', 'restarting', 'bouncy', 'Word', 'adjoined', 'Sisters', 'Yousef', 'availbility', 'keeper', 'reaally', 'CIRCUMSTANCES', 'TRAVERLLERS', 'CHEQUES', 'FAKE', 'DOLLAR', 'BILLS', 'EXCHANGE', 'retarded', 'sanitizing', 'equipments', 'minss', 'Sleeve', 'somee', 'boxers', 'opeens', 'nott', 'PART', 'inmy', 'gavee', 'HIS', 'ABLE', 'donee', 'Marciella', 'toldd', 'actuality', 'shhe', 'ddownstairs', 'Marcielala', 'Marshella', 'shouldd', 'beeen', 'peent', 'holdd', 'likee', 'luggae', 'Columbian', 'beetter', '2714', 'woulddnt', 'mucch', 'girrlfriend', 'Buffalo', 'Theey', 'brring', 'entres', 'ffood', 'buffalo', 'theey', 'emplyess', 'glitzy', 'happenin', 'absorbent', 'crossaints', 'Resaurants', 'Shear', 'WASTE', 'feedbacks', 'fusy', 'elegence', 'swivelled', 'CENTRE', 'Currant', 'dominate', 'ralphs', 'undesireables', 'hut', 'sofia', 'Geat', 'Bend', 'Cheaphotels', 'partitioned', 'supevisor', 'astronomical', 'shaved', 'penalized', '2820', 'flaps', 'latching', 'cityhouse', 'corkage', 'toss', 'Ticker', 'Farms', '953', 'hubhub', 'appearances', 'syringe', 'needles', 'Lester', 'Davines', 'literal', 'satisfies', 'HOLIDAY', 'EXPRESS', 'MADISON', 'IDEALEMENT', 'SITUE', 'PETITE', 'CONFORTABLE', 'SDB', 'SANITAIRES', 'PROPRES', 'DONNANT', 'SUR', 'COUR', 'CALME', 'PETITS', 'DEJEUNERS', 'COMPRIS', 'APPRECIABLES', 'COMPLETS', 'REPETITIFS', 'PERSONNEL', 'ACCUEILLANT', 'DISCRET', 'BON', 'RAPPORT', 'QUALITE', 'PRIX', 'POUR', 'RECOMMANDONS', 'CET', 'duplex', '24hour', 'virgins', 'Doyle', '3000', 'aviod', '4434', 'Rathskeller', 'luggare', 'Rathskellers', 'bldgs', 'Zinburger', 'Weil', 'marshals', 'Insiders', 'archway', 'tapatio', 'coincidentally', 'blindfolded', 'diamondback', 'digest', 'arizona', 'cascades', 'radioed', 'svc', 'hollyoaks', 'Restin', 'enumerate', 'stymied', 'thorny', 'sautee', 'stigma', 'critiquing', 'Eh', 'aghgh', 'Tshirt', 'eggregious', 'cozier', 'Delmonico', 'Choc', 'amend', 'Ted', 'Doris', 'Guatemala', 'fellows', 'joys', 'RENT', 'enters', 'afriad', 'consortium', 'Sobkowial', 'Melody', 'ICK', 'werid', 'walgrenes', 'hitches', 'mob', 'famished', 'photographers', 'Programmable', 'subsidised', 'Nest', 'Crticisms', 'THey', 'THese', 'tollways', 'convoluted', 'woeful', 'funkiest', 'artworks', 'beckoning', 'Expendables', 'Sparkle', 'premieres', 'ATT', 'Whataburger', 'scrambed', 'Muffins', 'reinforcing', 'bellsman', 'McCawey', 'Vanderveer', 'beachy', 'Sherataon', 'Wolrd', 'silenced', 'chai', 'prone', 'refered', 'Orphium', '517', 'Vinney', 'veranda', 'Fenwaytastic', 'Candidate', 'reconfirmed', 'Fanatstic', 'eject', 'thorugh', 'citypass', 'appies', 'recognizable', 'hugged', 'demagnetize', 'Mullen', 'Intervene', 'MESS', 'stinch', 'palpable', 'karaoke', 'Continues', 'Becoming', 'Thousand', 'perpendicular', 'gorgeuos', 'ergonomic', 'griped', 'levitates', 'amaya', 'guideline', 'conducting', 'realty', 'Niles', 'Gleacher', 'drowning', 'caulked', 'Freedon', 'detour', 'Fanciest', 'SleepComfort', 'Failure', 'odorized', 'reuben', 'nickeling', 'conciarge', 'Swissotels', 'Providential', 'showgirls', 'snowplows', 'provision', 'Rendezvous', 'Fried', 'Civil', 'Rights', 'yogurty', 'aprons', 'Owen', 'Corbett', 'precise', 'overheat', 'BASE', 'missisipi', 'tupelo', 'birthplace', 'elvis', 'civil', 'luther', 'lowering', 'outstaying', 'thirteen', 'urn', 'unprotected', '1994', 'hesitating', 'Therwhereas', 'Toliet', 'Spending', 'expec', 'Inidianapolis', 'problemmatic', 'helpfun', 'finalized', 'matrazes', 'Octobre', 'chopstix', 'Ant', 'mercury', 'freshers', 'Asthma', 'rovided', 'willow', 'roots', 'inventive', 'Pensylvania', 'Moderate', 'Taney', 'usualy', 'seccond', 'Schmicks', 'Rockfish', 'Filenes', 'Jasmine', 'BackBay', 'relate', 'Serving', 'leaders', 'Shoebox', 'Distribution', 'Gilesnan', 'fromthe', 'tainted', 'contstantly', 'alo', 'Sacramento', 'unappreciated', 'Aus', 'unbalanced', 'maintanance', 'Amin', 'extreem', 'initiative', 'inadquately', 'frieght', 'Queene', 'insular', 'gossip', 'fondue', 'Melting', 'FILTHY', 'shards', 'commensurate', 'Stff', 'eed', 'ifi', 'diligently', 'Cortnie', 'encouragement', 'Norris', 'therapist', 'unsupportive', 'Trebeca', 'Preffered', 'wort', 'merchant', 'Glitter', 'Colleague', 'Georges', 'Arte', 'tempur', 'constrained', 'ensues', 'lounged', 'Raplhs', 'RATED', 'tail', 'univiting', 'Ol', 'celestial', 'itcame', 'remodling', 'hoel', 'gratutity', 'Sami', 'Jonah', 'lickety', 'flickered', 'traction', 'Mettpacking', 'Meetpacking', 'trumps', '842', 'waltzes', 'carefree', 'Palamor', 'Samuel', 'rejuvenate', 'Rochesster', 'businss', 'bennie', 'Ricky', 'migh', 'forniture', 'PowerBars', 'Pentagon', 'Cosi', 'spacous', 'absorbs', 'cuouldnt', 'topshelf', 'Woweeewowwow', 'Stefan', 'hunted', 'chappy', 'Siam', 'abortive', 'latino', 'enroll', 'freindliness', 'afetr', 'hawks', 'agaion', 'vdery', 'TRhe', 'posible', 'lightening', '164', 'dames', 'transplanted', 'JEWEL', 'Hern', 'Jeske', 'Abundant', 'Samsung', 'ineffective', 'refrained', 'illicit', 'dalliance', 'ramshackle', 'grueling', 'Detergent', 'activation', 'shorted', 'unneccesary', 'unreasonably', 'restocking', 'Coq', 'probalby', 'contrasts', 'fishermanns', 'Kingbeds', 'Torrey', 'Courses', 'forecaddy', 'valleys', 'torrey', 'pines', 'PRO', 'V1s', '1100am', 'Phillip', 'Gracelands', 'rigeur', 'continetal', 'REGARD', 'SECURITY', 'infuriated', '100000000000x', 'attends', 'tex', 'mex', 'notables', 'velocity', 'Ginger', 'Holly', 'MACs', 'Strokes', 'Stocked', 'Olvera', 'Cascadia', 'unsanitary', 'restuaurant', 'Maddisson', 'Trotters', 'Citysights', 'Inc', 'WFC', 'Combi', 'Celina', 'interupt', 'Advertised', 'override', 'necessitates', 'nourishment', 'Sweetwater', 'MaryJane', 'VOSS', 'Rolling', 'crestwood', 'm0', 'tthey', 'VENDING', 'SODA', 'SERVE', 'ICE', 'RECOMEND', 'GREATEST', 'LIFE', 'LOOK', 'FORWARD', 'EXPERIENCE', 'Warmest', 'Nina', 'DRIVER', 'STARTED', 'Phlash', 'babymoon', 'snakes', 'wowing', 'fidgeting', 'barracks', 'nephews', 'Mista', 'thinnest', 'ammonia', 'nauseous', 'headachy', 'poisoned', '812', 'Leatherneck', 'faraway', 'Hollandaise', 'devastatingly', 'muskey', 'puffy', 'disipointing', 'LArgent', 'takeover', 'addtion', 'Ferrero', 'Rocher', 'Helps', 'Tikts', 'crowdy', 'Thieves', 'emerald', 'THIEVES', 'WIFi', 'Lightning', 'Firetrucks', 'Metropolis', 'lurks', 'Staute', 'funday', '48hrs', 'PERK', 'Cleo', 'LoHi', 'getway', 'vocabulary', 'Stereo', 'Venus', 'Serena', 'sensative', 'Terrance', 'Brennan', 'commissioned', 'Almalfi', 'Knowledgeable', 'spendid', 'arrrived', 'humiliation', 'atlantic', 'spouts', 'mimi', 'walnuts', 'boyf', 'dissappointment', 'provoke', 'digusted', 'examining', 'Trieste', 'turnovers', 'undert', 'differs', 'STUNNING', 'RnR', 'rivaled', 'freebees', 'overdoing', 'DBacks', 'jolts', 'Understood', 'prevented', 'incidents', 'attributed', 'toilitries', 'Lacroix', 'neigborhood', 'Frosted', '50ft', 'Printers', 'Freezer', 'tablewear', 'glasswear', 'sideboard', 'Commonweath', 'kenmore', 'Doyles', '709', 'Recent', 'financing', 'fiberglass', 'beind', 'Chipolte', 'Buca', 'Peppo', 'Halsted', 'questional', 'blared', 'reputable', 'pricetag', 'snidely', 'eyepatch', 'flatscreenTV', 'mbit', 'Marschall', 'unsleepable', 'thisroom', 'inthe', 'jaccuzi', 'replying', 'Maldonado', 'mapped', 'luxary', 'somethng', 'geographic', 'Pricelne', 'snooze', 'holdovers', 'steeply', 'yest', 'presious', 'Athough', 'awkwards', 'plesesant', 'Roughly', 'inlcuding', 'exfoliate', 'pager', 'Whym', 'expletive', 'rant', 'Tuning', 'thesheet', 'speckled', 'tll', 'amenitites', 'motocycles', 'drills', 'differentiates', 'bladder', 'Crappiest', 'goo', 'Infact', 'Manhattans', 'grid', 'immobile', 'xxxxx', 'Appreciate', 'vaccum', 'breaktasts', 'PH', 'fumigated', 'ungrateful', 'BULLY', 'CLub', 'proven', 'happiest', 'washcoths', 'Splenda', 'translucent', 'replete', '1503', 'Gallard', 'complications', 'adamant', 'desrve', '6hrs', 'promiximity', 'vagrancy', 'Diamonds', 'Blinds', 'tralled', 'alarming', 'expenditure', 'pickiness', 'litually', 'oyster', 'finishings', 'decamp', 'Martunni', 'fascinates', 'organizational', 'innocently', 'campaigns', 'coffeeshop', 'disctrict', 'loght', 'probabably', 'Thatis', 'clouded', 'otherewise', 'eas', 'GSS', 'failings', 'wantedto', 'Estrada', 'Zee', 'Tanya', 'Cornejo', '7144', '79915', 'Madam', 'novice', 'Londoners', '2stars', 'Citys', 'feathered', 'Letterman', 'Googling', 'grandkids', 'scumy', 'lll', 'Plat', 'Wowie', 'conscience', 'occupational', 'locall', 'stacks', 'anyplace', 'catcher', 'DIY', 'likings', 'reclining', 'Sullivan', 'bianca', 'Mmmmm', 'spenders', 'thsi', 'Affortable', 'affortable', 'personals', 'befor', 'unfortunatly', 'Revenko', 'Dale', 'Chihuly', 'Anyhoo', 'Eek', 'desirables', 'Unquestionably', 'ront', 'benchmarks', 'suspicion', 'Stepping', 'ibuprofen', 'gete', 'whay', 'ctr', 'Hilliard', '128', 'defacation', 'booster', 'graces', 'femal', 'credenza', 'HiDef', 'theses', 'Hob', 'aftre', 'apoligies', 'thrid', 'tapped', 'Nave', 'laundries', 'Safari', 'captured', '313', 'foliage', 'unfamilar', 'Professionnal', 'goe', 'stoppers', 'caulk', 'yankee', 'creaping', 'functionable', 'Whimpsical', 'Moorish', 'guts', 'unwound', 'incrediblely', 'CHAINS', 'BEAT', 'BOUTIQUE', 'born', 'bred', 'liltte', 'overalll', 'busting', 'excitied', 'rivington', 'privelege', 'hippest', 'targetting', 'literary', 'politeness', 'declare', 'chintzy', 'shutdown', 'cheerier', 'gentrirfied', 'curlicues', 'starcase', 'yourr', 'bailed', 'strived', 'Janette', 'kiddy', 'Ysidro', 'Tijuana', 'Fudrucker', 'inexplicably', 'homelss', 'Pleases', 'STARWOOD', 'distinction', 'ATLANTA', 'PEACHTREE', 'cookwares', 'Budgets', 'motivator', 'discredit', 'unsung', 'null', 'void', 'baffles', 'construed', 'disillusioned', 'woes', 'surmise', 'epic', 'overnighting', 'overnighted', 'hustlers', 'buisy', 'buisier', 'Rondevous', 'RIbs', 'Bigfoot', '4lb', 'spicy', 'dempsees', 'Woodfin', 'Chaotic', 'Miso', 'Biscuits', 'swordfish', 'shwoer', 'Elyn', 'awlays', 'Agnes', 'disturbs', 'sourpusses', 'Annie', 'veeery', 'Definite', 'performed', 'trashcans', 'giae', 'Lox', 'capers', 'definently', 'proximaty', 'Nth', 'quiete', 'friendle', 'privelages', 'dolls', 'competed', 'dieter', 'Snowmaggedon', 'deceded', 'KLM', 'bur', 'hiw', 'lawyer', 'Svanborg', 'acommodating', 'breakfas', 'remodeld', 'Yawn', 'Cutter', 'Rust', 'valance', 'mullet', 'sojourn', 'participant', 'Lover', 'bookshelves', 'straightening', 'KY', 'demeanour', 'scenes', 'Beno', 'patronising', 'Chosen', 'LaSalle', 'implied', 'Hideous', 'Hechts', 'dealbreaker', 'gasp', 'plot', 'Concerige', 'flare', 'airbeds', 'dame', 'originality', 'FO', 'frinedly', 'HSKP', 'Vanity', 'wobbling', 'heavyweights', 'slopes', 'Prority', 'singlehandedly', 'circumstance', 'mutton', 'sheeps', 'Holton', 'sunlit', 'amplify', 'revolted', 'germs', 'cannister', '1230', 'fueled', 'comortable', 'Scottys', 'expext', 'Morocco', 'Milan', 'groaned', '8s', 'cjose', 'Blimpie', 'Tasteless', 'Kayla', 'forty', 'Brosdway', 'berlesk', 'Jeckyll', 'Transvestite', 'Hosted', 'Restraurant', 'Stomp', 'Karaoke', 'Newspaper', 'enthused', 'Competitively', 'aerial', 'Shefi', 'lo', 'dazzled', 'intends', 'MiMa', 'thirties', 'actors', 'hashtag', 'TECHNOLOGICAL', 'DIFFICULTIES', 'stresses', 'savvyness', 'marshall', 'resume', 'SLEEPING', 'RUINED', 'boxspring', 'gymnast', 'CONTINENTAL', 'DUMPING', 'SITE', 'Airpointe', 'Cassady', 'Occidental', 'effusively', 'juvenile', 'brusquely', '300s', 'VIsta', '513', 'Fissette', 'FREEZING', 'hinge', 'svcs', 'roasting', 'slanted', 'downwards', 'subcontractor', 'Destination', 'hada', '1008', 'Minibar', 'Mirror', 'diameter', 'evened', 'Cablecar', 'tested', 'inaudible', 'underrated', 'aervice', 'abs', 'golfball', 'tge', 'secondary', 'cortisone', 'antihistamines', 'Layfayette', '24H', 'trashes', 'southside', '745', 'Filson', 'counsel', 'EXPERIENCED', 'TOLD', 'TROLLY', 'ASSISTED', 'trollys', 'EFFIN', 'REDICULOUS', 'meagre', 'airs', 'Conventional', 'scurry', 'LaQuintas', 'Truluck', 'Shucker', 'rackets', 'urged', '599', 'CaVa', 'Hally', 'anywher', 'tiresome', 'roomI', 'moisturisers', 'fairs', 'Erwinnies', 'Crapitto', 'hel', 'pleather', '359', 'SATC', 'ned', 'suitacases', 'Angelina', 'nighted', 'Rya', 'defintitely', 'propping', 'Reed', 'HDTVs', 'Usable', 'Accommodated', 'Hand', 'unsolicited', 'Goods', 'thre', 'Redheaded', 'redhead', 'LL', 'std', 'toilettries', '75per', 'handouts', 'Fancisco', '8st', 'Jones', 'Seinfeld', 'Sf', 'violoations', 'HS', 'giggly', 'Dorm', 'Automatically', 'shifted', 'traps', 'noho', 'villages', 'Salvatore', 'athlete', 'Defiantly', 'Charolotte', 'speedway', 'unbelieveably', 'hears', 'shinny', 'USOpen', 'Trpadvisor', 'hestitation', 'rockette', '80F', 'Adult', 'setups', 'priveledges', 'Moriarty', 'uncompromisingly', 'Plunge', 'Vougue', 'Wills', 'nosey', 'sprained', 'Druids', 'Bricks', 'ACCOR', 'furnish', 'regrettfully', 'Image', 'Korres', 'Greece', 'creapy', 'heckled', 'sceney', 'overniter', 'Towneplace', 'personified', 'productively', 'nervewrecking', 'Enroll', 'metallic', 'expierience', 'unapologetically', 'unionized', 'attendeed', 'Morimoto', 'stio', 'Pretentious', 'Paulo', '7Th', 'frontdesk', 'hosekeeper', 'Ashraf', 'convenice', 'Tricia', 'Adelina', 'mishandled', 'arrangments', 'stoped', 'accompanies', 'extravaganza', 'Foleys', 'Slinky', 'nuanced', 'misfire', 'unfulfilled', 'portrays', 'roped', 'minis', 'Hardy', 'loungy', 'Blech', 'FSU', 'Saddened', 'OUCH', 'flee', 'STreet', 'imaculate', 'Hawkins', 'oulets', '1015', 'litltle', 'slapdash', 'Dress', 'Unattractive', 'Jacks', 'attrations', 'Exemplary', 'pkg', 'brkfast', 'Confidential', 'obscured', 'ellipitical', 'entails', 'omellet', 'Aspect', 'enuogh', 'SMOKING', 'Campland', 'Pristine', 'Chaitan', 'phonebook', 'Letting', 'waitressing', 'unwittingly', 'roomier', 'Miki', 'Unbearably', 'Chart', 'Possibilities', 'spout', 'prodding', 'Skeptical', 'Botolph', 'bes', 'Count', 'vaied', 'jacusi', 'MOLDY', 'mildey', 'tgi', 'dennys', 'aS', 'EG', 'FEW', 'BANDS', 'nashville', 'Fleeting', 'cosmic', 'Spearmint', 'Blueberry', 'Romano', 'rotary', 'cheerless', 'urns', 'Farralon', 'BLOWN', 'tribeca', 'Ecco', 'tablecloth', 'locatioin', '42st', 'Montr', 'lourd', 'orgasms', 'regreted', 'sashay', 'brim', 'hayseed', 'recomemndations', 'elementary', 'whipped', 'Sputnik', 'proximal', 'tiiiiiny', 'x5', 'Regretful', 'whoa', 'rite', 'heebie', 'jeebies', 'discoveries', 'Chaps', 'Pit', 'tornadoes', 'fortress', 'chafing', 'oblong', 'unhelpfully', 'experiene', 'wwith', 'concepts', 'Detroiters', 'Utterly', 'Symon', 'summers', 'Intouch', 'comfortor', 'trreadbare', 'Tiles', 'cure', 'unsually', 'Turning', 'vases', 'LIMITED', 'sheerly', 'undressing', 'sheers', 'ackowledge', 'Oy', 'expeience', 'Benedryl', 'RLounge', 'DIFFERENT', 'errogant', 'Afterall', 'YELLOW', 'Envy', 'Lift', 'breakfat', 'Kiah', 'Milton', 'xbox', 'credits', 'Walgren', 'Sear', 'flloor', 'inherited', 'condom', 'gymnasium', 'Fido', 'bischon', 'fantastc', 'crazed', 'coral', 'TexMex', 'sighed', 'Kiehls', 'Hummus', 'Platter', 'chickpea', 'puree', 'herbed', 'feta', 'kalamata', 'posers', 'Renessaince', 'ammentities', 'Sonora', 'quilting', 'witht', 'Bevonshire', 'Dianne', 'Cheeek', 'kinkos', 'resist', 'comingling', 'Camry', 'clipped', 'rocking', 'directories', 'Environmental', 'VOIP', 'Description', 'bei8ng', 'bail', 'bondsman', 'ut', 'driveable', 'conform', 'Keven', 'devoid', 'Marketplace', 'wolf', 'centennial', 'coments', 'touristic', 'decore', 'complimentrary', 'discontinued', 'SCAMMERS', '446', 'RIDICULOUS', 'Form', 'Kingdom', 'Advancement', 'everythingelse', 'Cash', 'Kitsap', 'Simone', 'reckless', 'enormously', 'Convient', 'artistery', 'rewarded', '1128', 'Dialed', 'insights', 'assumption', 'WD', 'choccy', 'commenced', 'Willowbrook', 'egss', 'thursdays', 'corporation', 'hookups', 'rafts', 'andn', 'understandings', 'derailed', 'Tighe', 'rework', 'chique', 'Zabsession', 'ime', '1hr', 'exploded', 'Shards', 'comminication', 'contribute', 'SFA', 'nonexistant', 'Pray', 'jifffy', 'encompasses', 'Overhead', 'NAHA', 'invented', 'protests', 'Catch', 'Francisio', 'Suess', 'DecorState', 'tooo', 'renttal', 'prepacked', 'whitener', 'gentlemant', 'restated', 'vechicle', 'Zach', 'Buckhorn', 'Villetta', 'coolness', 'yougurt', 'granddaughters', 'imbued', 'Portage', 'facepalm', 'Feud', 'queted', 'Awesomely', 'curated', 'german', 'veg', 'Stuck', 'Meriden', 'rive', 'Keefers', 'Aditionally', 'golds', 'magnified', 'SJC', 'diversified', 'footprint', 'disagreement', 'furnaces', 'Blow', 'Pharaoh', 'payments', 'Morimotos', 'Viola', 'arranges', 'sentimental', 'Carolona', 'Encountered', 'Bosnian', 'Assigned', 'Telephone', 'resets', '65F', 'Insects', 'expires', 'RT', 'Saha', 'touristland', 'DART', 'astronomically', 'fledged', 'onlooker', 'meds', 'makeing', 'triing', 'weed', 'SUBJECT', 'SLMBR', 'vibes', 'fireside', 'folly', '332', 'overhauls', 'dividends', 'zenith', 'wooded', 'allergen', 'SIDE', 'Nothin', 'whisper', 'fearing', 'barricaded', 'piling', 'brothel', 'thumbalina', 'header', 'Ville', 'luckier', 'statistical', 'busboy', 'apolagized', 'aisle', 'aisles', 'numourous', 'honelty', 'viarity', 'Airlinr', 'Missed', 'partied', '1904', 'Clay', 'Massively', '15yrs', 'Sanderson', 'employ', 'compartments', 'Putting', 'WC', 'Bostons', '3y', '1733', 'peeking', 'endlessly', 'weighing', 'Unable', 'actaully', 'hateful', '10000', 'conicerge', 'errand', 'CBC', 'fluid', 'Fairmonths', 'Shuckers', 'Nicks', 'Zara', 'DSW', 'CAT', 'repalce', 'crisps', 'Tripped', 'Ahhh', 'enjoyability', 'deterrent', 'sinkhole', '495', 'rejuvenating', 'operas', 'Smelly', 'Vent', 'Courtney', 'diffused', 'whimsy', 'Bimbo', 'PROMPT', 'FROZEN', 'carrots', 'celery', 'Nickelodeon', 'Parkview', 'boldly', 'Maybach', 'justifies', 'divots', 'FACELIFT', 'Fanuil', 'dat', 'surley', 'humored', 'Sqr', 'SUVs', 'vie', 'fashoned', 'wonderwful', 'Matin', 'Ottomanelli', 'Donalds', '82nd', 'duane', 'reade', 'Sandiego', 'relic', 'breezes', 'Allie', 'Radiance', 'Seas', 'Strongbow', 'intervened', 'Willy', 'Wonka', 'Thierry', 'dashing', 'hammered', 'amateurs', 'Temperature', 'Resto', 'serenaded', 'belle', 'Alabama', 'looker', 'Intangibles', 'Entourage', 'loong', 'empathetic', 'wrung', 'Wary', 'pastery', 'Cane', 'cliched', 'sportier', 'wallpapers', 'warren', 'KNOW', 'suspiciously', 'starpoints', 'puny', 'Misled', 'jdvhotels', 'Communal', 'TRUE', 'Caffeine', 'bleary', 'SOFT', 'Asti', 'Hoosier', 'Elgar', 'haired', 'Rube', 'hardy', 'uhum', 'finder', 'continuation', 'wouldve', 'doosey', 'Stations', 'WaterShed', 'fig', 'Drinking', 'Phoneix', 'Phonecian', 'Revive', 'naming', 'warped', 'Tempe', 'aprrox', 'Harlow', 'counterpoint', 'astray', 'impertinent', 'Provides', 'Retaurants', 'Brill', 'champage', 'courteoues', 'unnerved', 'eback', 'Bambudda', 'edamame', 'teak', '7x7', 'kicking', 'Tristan', 'FASHION', 'PERSONAL', 'ing', '1983', 'Kalorama', 'degrading', 'Corrine', 'Student', 'refrigirator', 'blogs', 'CJ', 'Standing', 'Platform', 'roomwe', 'Institution', 'dunkin', 'invidual', 'Individuals', 'Batali', 'radishes', 'trout', 'Reclaimed', 'Persian', 'cruisers', 'Cruiseport', 'Walton', 'hairy', 'Outright', 'Lies', 'shagged', '806', 'Downright', 'UGLY', 'lambs', 'conveiyent', 'muse', 'Seatle', 'enicest', 'Conrads', 'Waldolf', 'Pretending', 'quaility', 'workmanship', 'smudges', 'readjust', 'noooooo', 'whack', 'Squeeky', 'Nightly', '121', 'Snooty', 'Pomodoro', 'stomping', 'birth', 'grandchild', 'foretaste', 'Divisidero', 'cedar', 'Stuff', 'Pensione', 'paled', 'fantanstic', 'mistaking', 'ascended', 'Bergstrom', '999', 'Bkft', 'anyrate', 'everythiing', 'conceivable', 'graveyards', 'zipping', 'Konak', 'Turkish', 'Libra', '2days', 'Rodin', 'chit', 'oozing', 'Desiree', 'pomme', 'frites', 'musts', 'resdential', 'westside', 'laidout', 'enougn', 'luxuary', 'ducked', 'mercy', 'deconstruction', 'privleges', 'ISF', 'gothic', 'Overal', 'Sits', 'Ordinary', 'satayed', 'pampers', 'heaped', 'cyclists', 'gallons', 'freash', 'Matress', 'Nonexistent', 'Zenith', 'cc', 'rectifies', '1630', 'Shanee', 'Toto', 'Tender', 'Loin', 'PHILY', 'ATTENDANT', 'Seamore', 'Melinda', 'deliciousness', 'THICK', 'Renaissnance', 'cools', 'clammy', 'starwoods', 'asbolutely', 'lobbey', 'rockafeller', 'Squares', 'overgrown', 'stalwart', 'invests', '440', 'acsses', 'baggles', 'bannans', 'cinnimon', 'cearl', 'camery', 'Noticeably', 'tavern', 'roughing', '1997', 'wew', 'restarvice', 'Ontop', 'soppy', 'MacDonalds', 'Hagen', 'Dass', 'Urth', 'Frida', 'DId', 'hasten', 'USPS', 'Human', 'mispelled', 'concluded', 'File', 'ineptitude', 'implore', 'FIND', 'consequenses', 'Philips', 'reinbursed', 'berrter', 'BOSTON', 'Roxbury', 'negotiation', 'TWIN', 'swirling', 'PBS', 'structured', 'elevaors', 'Olufsen', 'CDplayer', 'occupation', 'walky', 'talky', 'mundane', 'begel', 'monkey', '426', 'Cinnamon', 'MBPS', '135pn', 'cue', 'Swanson', 'chaffeur', 'faciltites', 'overcoat', 'tehn', 'ened', 'transcontinental', 'pedigree', 'stressing', 'shed', 'observing', 'Brickyard', 'Canary', 'Islands', 'Bradley', 'RED', 'SIGN', 'empowers', 'chunk', 'Juniper', 'Joaquim', 'aromas', 'characteristics', 'wonders', '40min', '420', '421', 'Trish', '70K', '50K', 'gratuitous', 'Project', 'Peso', 'gamer', 'trader', 'PARK', 'AVENUE', 'ETRO', 'mashine', 'menues', 'fabolous', 'Epoque', 'Loaded', 'ork', 'Rainy', 'dau', 'AFB', 'Bennigan', '912', '913', 'itch', 'households', 'undeserving', 'savvier', 'senate', 'Mainly', 'aonther', 'Honking', 'Rafael', 'Santo', 'Arlene', 'pervious', 'Hmmmmm', 'restaurnt', 'Draw', 'conditionner', 'motors', '1Q', 'Mondays', 'TCBY', 'Nengel', 'multinational', 'ageing', 'Gwen', 'wekk', 'Fazli', 'amazine', 'Biss', 'thoroughfares', 'Calvert', 'creak', 'RCA', 'unjam', 'Devine', 'lakeside', 'monogrammed', '3806', 'Vinci', 'Tarocco', 'Fold', 'Lavelle', 'prepurchased', 'Palmar', 'Medium', 'sprinted', 'ventlation', 'undiscoverable', 'diseases', 'littel', 'sistuation', 'towelling', 'Stood', 'BILTIMORE', 'BABY', 'Passed', 'Wacky', 'Necessary', 'dribbles', 'coathangers', 'pegs', 'Nah', 'diabolical', 'shelving', 'offence', 'drench', 'glasswork', 'STUFF', 'Docks', 'strangeness', 'aiming', 'Brainer', 'frat', 'expensively', 'ostentagious', 'finely', 'Robertson', 'Cieniga', 'Drv', 'intranet', 'overloaded', 'hoity', 'toity', 'assoicate', 'Rescue', 'kayakers', 'motivating', '3342', 'hobbled', 'Thoughtless', 'missable', 'shelters', 'lifetsyle', 'frentic', 'nolita', 'balancing', 'acknowledgements', 'architecure', 'tranqual', 'Gal', 'Britt', 'Scripps', 'Observed', 'Rollout', 'Plantinum', 'PILLOWS', 'ahh', 'Oversized', 'hugger', 'broadcasts', 'ballgames', 'Eager', 'uncommonly', 'acquinted', 'Saints', 'Bali', 'Indonesia', 'moreso', 'Broadband', 'Hexagone', 'Queue', 'Genji', 'Creperie', 'Citibank', 'errands', 'blips', 'dimily', 'fullbacked', 'fogs', 'tornaments', 'erase', 'fradulent', 'scouting', 'quicky', 'Wasnt', 'dissapeared', '807', 'favors', 'crosswalk', 'jackhammer', 'restaurnats', 'lounger', 'OTTO', 'frightfully', 'Drafthouses', 'OY', 'emptively', 'promptness', 'Emerald', 'celiac', 'Myrna', 'Jeffrey', 'developmental', 'unsuitable', 'predict', 'dislikes', 'veteraned', 'exorbadent', '1030pm', 'skirts', 'aroung', 'zaza', '569', '351', 'deadvolt', 'evenmore', 'horroble', 'BFF', '500plus', 'specify', 'Hopper', 'Hanbat', 'othern', 'CY', 'Longwharf', 'sleeker', 'hots', 'outstide', 'Whist', 'phantom', 'tabled', 'attententive', 'Uniquely', 'WON', 'flys', 'doorhandle', 'honorable', 'finance', 'sufficent', 'Citgo', 'Crackers', 'Sunflower', 'Seeds', 'maui', 'pouch', 'pleasantley', 'losts', 'brides', 'bridemaids', 'comcierge', 'Impromptu', 'andmore', 'Cyrano', 'Beccos', 'subwayed', 'Unfortuately', 'Gustav', 'Keira', 'Formidable', 'Vladimir', 'restraints', 'cram', 'catergories', 'Revoir', 'Soir', 'mes', 'amies', 'orient', 'toughly', 'outdone', 'preceded', 'condolence', 'freezon', 'tatted', 'balm', 'numerals', 'Comforter', 'potions', 'exhibiting', 'siting', 'klutzy', 'SURPRISE', 'aircrafts', 'Loudest', 'throuh', 'enoy', 'firendly', 'Grotto', 'substitutes', 'grills', 'cushiony', 'amazement', 'frenchtoast', 'understocked', 'charing', 'turnover', 'resrvation', 'torment', 'isolations', 'Domenico', 'Terrifically', 'relishing', 'incoherent', 'facilitating', 'banquets', 'wonen', 'DWELL', 'Carnberry', 'croisants', 'Castel', 'Comerica', 'shoping', 'Ziska', 'tempts', 'PACK', 'showrooms', 'potpourri', 'TJ', 'contempory', 'dissagreed', 'Jaz', 'carnet', 'lord', 'taylor', 'saks', 'pedstrian', 'propoerty', 'Montana', 'Sycamore', 'pitfalls', 'reno', 'Veron', 'cruumy', 'swayed', 'hammocks', 'difficulites', 'dribbling', 'kitchnette', 'exemplified', 'drone', 'ventilations', 'carriageway', 'Jetsons', 'amusingly', 'Aye', 'profits', 'Waterline', 'aquararium', 'Kareem', 'prfect', 'flashlights', 'Hopsipal', 'unlovely', 'craze', 'windchill', 'EASILY', 'bests', 'Benton', 'Campisi', 'renew', 'pistons', 'jolted', 'Magnificient', '4X', 'fora', 'customized', 'CityWalk', 'Skyview', 'pessimism', 'parkways', 'Southbound', 'Sizzler', 'minivan', 'breakfastl', 'retinas', 'elyptical', 'sprints', 'morale', 'lustre', 'Pink', 'Orchestra', 'overshadow', 'Deserved', 'chanting', 'Guies', 'specialized', 'protion', 'esacping', 'thirst', 'picturs', 'childhood', 'prologue', 'chum', 'Troubadour', 'Malibu', 'Lilly', 'Dume', 'inlcuded', 'overcrwoded', 'ane', 'chamapgne', 'Americano', 'clutch', 'couriered', 'SUITE', 'toffe', 'furnature', 'earwig', 'Somebody', 'berry', 'praising', 'nepotism', 'incheck', 'shuttlebus', 'toiletcover', 'CAME', 'ONES', 'electrician', 'TONS', 'rollerskating', 'espeiciallly', 'Coronodo', 'jolla', 'Purchase', 'FLAT', 'untucked', 'Attributes', '707', 'cheeseburgers', 'P2', 'spanish', 'warrior', 'Dux', 'Tasted', 'Bares', 'attentitive', 'radios', 'Lifetime', 'IPod', 'gods', 'mpbs', 'Cigarette', 'obey', 'FABULOSITY', 'grimace', 'Nate', 'facets', 'STELLAR', 'OSTRA', 'mariachi', 'NESPRESSO', 'cappachino', 'EXCLUSIVE', 'RITZ', 'RIVERWALK', 'Piss', 'thieves', 'vandals', 'mystified', 'Dolly', 'jaywalk', 'suffocatingly', 'scrape', 'kodak', 'deciving', 'pealing', 'disinfected', 'sevrice', 'artemide', 'hustled', 'Adding', 'Parole', 'Cliche', 'simplest', 'scams', 'Bolyston', 'Turner', 'Fisheries', 'Turners', 'Via', 'Matta', 'Seafoods', 'Cycle', 'ventiliation', 'Maynard', 'Pantaleon', 'Fashionable', 'cascading', 'Gallo', 'Blanco', 'Pollo', 'Asado', 'ages8', 'racquetball', 'witihin', 'relativly', 'wavered', 'Cruises', 'vest', 'changable', 'Higly', 'interlude', 'stagger', 'irrationally', 'insomnia', 'induced', 'haze', 'trigger', 'revert', 'HUNG', 'doubted', 'hollandaise', 'candian', 'teeming', 'Prohibition', 'claning', '821', 'THEE', 'Relaint', 'wereOK', 'Styled', 'darkened', 'READING', 'TERMINAL', 'acknowledeg', 'appriciatede', 'lareg', 'Extremly', 'Niche', 'insted', 'compleeted', 'questionaire', 'visitning', 'claustrophobia', 'Consideration', 'Smack', 'enclaves', 'predominant', 'proxicimity', 'Tasteful', 'Bechlers', 'Pricy', 'brains', 'Anchor', 'chided', 'gills', 'Hit', 'leaps', 'intensely', 'forst', 'cloned', '1232', 'Uniqlo', 'Tad', 'currency', 'Likes', 'Bellboys', 'Adelaide', 'uncertainty', 'cigeretts', 'Congrats', 'graduating', 'Michagan', 'harp', 'Magnefiacte', 'additionally', 'annaleese', 'Apoogies', 'spellings', 'freek', 'topsheets', 'kickoff', 'liike', 'herding', 'tantamount', 'winelist', 'Hamption', 'InFusion', 'satay', '223', 'Sister', 'farina', 'boylston', 'newbury', 'cambridge', 'arcades', 'wiki', 'epidemic', 'givin', 'parted', 'downbeat', 'taciturn', 'distressed', '3yr', 'Struggling', 'Lissette', 'Mustafa', 'prefering', 'unmemorable', 'averageness', 'superlatives', 'Costas', 'Mni', 'Downtowwn', 'invasive', 'nodding', 'alluded', 'beofre', 'severley', 'understnad', 'tiome', '1305', 'Westside', 'medal', 'Booth', 'RAY', 'Craig', 'flourescent', 'peolple', 'pumpkin', 'personalize', 'Sounthcenter', 'mambers', 'rembered', 'classiest', 'imbedded', 'illl', 'pause', 'Adviser', 'GLADLY', 'NQR', 'Affinai', 'Fratta', 'Janet', 'Daniela', 'NYPD', 'Staton', 'ld', 'Bev', 'bedskirt', 'dealerships', 'Absolut', 'revitalization', 'huuuuuge', 'tapping', 'ternet', 'rota', 'countdown', 'untidy', 'rebook', 'HHonor', 'doubletree', 'suppoused', 'Argentinean', 'Argentina', 'MacDonald', 'discard', 'Bye', 'dishing', 'propeller', 'inhale', 'Recomendo', 'Portuguese', 'bookcases', 'incurred', 'saussages', 'Mattress', 'beetle', 'PORN', 'EEWWW', 'Suck', 'WEre', 'SIZE', 'squre', 'thoug', 'Christino', 'nancya', 'unrefined', 'Border', 'Collie', 'patronize', 'legacy', 'overwatched', 'AAU', 'Nationals', 'coaches', 'Belagio', 'satisfyingly', 'deffo', 'Ain', 'SPELL', 'deails', 'houskeeping', 'handshake', 'oddball', 'extremenly', 'optimistic', 'lifesavers', 'CRUCIAL', 'overdrive', 'forewarning', 'amended', 'convert', 'Rencently', 'Dude', 'Bead', 'tending', 'singling', 'disdain', 'lethally', 'discern', 'edification', 'wagu', 'HOURS', 'swollen', '1780s', 'Antique', 'Tidy', 'aparently', 'Leif', 'wanders', 'procuring', 'concierage', 'Engraving', 'surpises', 'shack', 'blessings', 'BEACH', 'Bohemian', 'Linzy', 'Kenn', 'ROOF', 'Formica', 'YOOOOO', 'PRINT', 'gawd', 'FTW', 'PUBLIC', 'RESTROOMS', 'KICK', 'FLOOR', 'BAREFOOTED', '3nts', 'fetta', 'whater', 'Dragona', '2a', 'Spaaah', 'cilty', 'Olympia', 'digress', 'Woah', 'faultess', 'smary', 'evict', 'Woosley', 'Hanalei', 'COULDN', 'BELIEVE', 'LET', 'SAY', 'BALCONIES', 'LUXE', 'AFFINIA', 'SPACIOUS', 'AFFORDABLE', 'greeters', 'blotting', 'rinsing', 'shams', 'cringing', 'Barring', 'heartfelt', 'mortifying', 'Agreeing', 'trampled', 'prefaced', 'Senator', 'ambivalence', 'crouds', 'Sublime', 'Pump', 'Labo', 'olfactory', 'Camino', 'atomosphere', 'CIn', 'Available', 'Silverstone', 'posibility', 'lugagge', 'undetachable', 'Cade', 'candells', 'jade', 'Months', 'Barritos', 'comprise', 'roofs', 'vegetation', 'reminicient', 'mustard', 'barrios', 'bajos', 'slums', 'avocato', 'rd', 'repacking', 'lockwood', 'flinch', 'MaVe', 'Walkers', 'Crooked', '14ft', 'slump', 'ducky', 'receiver', 'everwhere', 'Juddha', 'Adela', 'diffifult', 'revolves', 'LaVazza', 'Abismal', 'justivy', 'pawning', 'acurate', 'newish', 'wasstill', 'bareable', 'everyhting', 'dissapear', 'probalem', 'deflinately', 'crawing', 'lombardy', 'polte', 'limosiune', 'pastires', 'planty', 'Locality', 'journies', 'Ciara', 'chiller', 'Leaf', 'Emack', 'Bolio', 'forces', 'muck', 'HOLDER', 'cashews', 'videography', 'giver', 'ELEVATORS', 'prroly', 'repack', 'Guard', 'PAHK', 'CAH', 'TOUCH', 'retractable', 'tilapia', 'thai', 'vietnamese', 'competently', 'Complementing', 'Stanley', 'Aurelia', 'Stores', 'unknowing', 'misr', 'Unresponsive', 'uncommunicative', 'explaination', 'extermination', 'unknowingly', 'plushness', 'rubbed', 'frathouse', 'BOO', 'Drink', '3209', 'Whistler', 'cabinetry', 'malt', 'Dazs', 'Copperleaf', 'bouche', 'caperberries', 'plump', 'blackberries', 'raspberries', 'figs', 'rosy', 'inserted', 'ejected', 'Delivery', 'Houstonian', 'everday', 'illuminates', 'Scandanavia', 'Platt', 'wasreasonably', 'cothes', 'exta', 'dinging', 'enclave', 'Bazzar', 'Tapas', 'hindering', 'initiating', 'implant', 'striper', 'wana', 'classless', 'lugged', 'Hoover', 'unmoved', 'Variable', 'interpret', 'Versus', 'chemo', 'imparative', 'Shutte', 'disreard', 'misleadng', 'advertsing', 'Jamba', 'consiere', 'Lesser', 'cappucino', 'caramelized', 'onions', 'pico', 'gallo', 'flavors', 'seasonings', 'Tomato', 'louie', 'dungeness', 'almond', 'confit', 'Identification', 'Econo', 'liscense', 'PATEL', '2014', 'hallelujah', 'airconditioners', 'screechy', 'scrubbed', 'Garrison', 'alerting', 'Jerald', 'APPEARS', 'KINDA', 'PLAIN', 'JANE', '2PM', 'stayng', 'LB', 'hideout', '710', 'PCH', 'sparseness', 'Bedside', 'accesses', 'crisply', 'Redondo', 'Macaroni', 'Chianti', 'wishers', 'Goes', 'Expressed', 'Bucket', 'List', 'esteem', 'freeman', 'nicholson', 'discolored', '429', 'Bloomingdale', 'FAO', 'Schwarz', 'HAUNTED', 'enterded', 'jummed', 'FREAKED', 'musk', 'imagen', 'spookes', 'Chima', 'Evette', 'buttom', 'redecorate', 'dial7', 'Decision', 'thebest', 'Todai', 'vugar', 'cought', 'deffinetly', 'Damaris', 'Jennie', 'recoganized', 'Gilbert', 'liaison', 'aquented', 'souffles', 'BOLTED', 'gaucho', 'philip', 'harmonica', 'FIANCE', 'thrifty', 'soil', 'kinder', 'McCormack', 'solicitation', 'apricot', 'Hostess', 'IRISH', 'PUBs', 'suffient', 'lesiure', 'AmeriSuites', 'Primacy', 'lagre', 'Fastastic', 'surprize', 'scant', 'differential', 'underpaid', 'precedent', 'mindset', 'youthful', 'Lap', '100th', 'Ottoman', 'Joining', 'kitchennete', 'Orient', 'Vactioner', 'steppers', 'operable', 'Bulbs', 'Dissapointment', 'professsional', 'clientale', 'Rep', 'heath', 'NOTwant', 'spead', 'carefuly', 'professionaly', 'NOTTING', 'mattreses', 'woukld', 'comeing', 'replaces', 'appoligize', 'ammedites', 'inconvinience', 'notting', 'Losing', 'unworn', 'unstocked', 'Transist', 'Trenton', 'daugher', 'Ticket', 'Puchase', 'excitment', 'BMT', 'settlement', 'enacted', 'Diamondbacks', 'NHL', 'verging', 'Spade', 'overhauled', 'cleanse', 'Spotelessly', 'devasting', 'forest', 'sanctuary', 'Elario', 'BRAVO', 'odering', 'Outstanging', 'cousy', 'corporations', 'trainees', 'comfiest', '3k', 'distanceto', 'toLA', 'wnderful', 'Darius', 'Michaelf', 'walkiing', 'wtih', 'spinach', 'smh', 'exuberance', '2717', 'drumming', '2520', '739', 'detractions', 'hotwired', 'efective', 'goodhotel', 'comfortables', 'caffe', 'jacking', 'hillsup', 'belllman', 'Hermie', 'woill', 'overload', 'catches', 'ultracomfy', 'Keurigs', 'Moody', 'Tedeschi', 'Trucks', 'Silvercloud', 'suttle', 'WiFI', 'Wadhington', 'Rails', 'clumsy', 'donated', 'amplifies', 'hominess', 'novels', 'OMGoodness', 'awry', 'spottless', 'qlitch', 'handsoaps', 'twixmas', 'conceive', 'materialise', 'clinical', 'interractions', 'billboard', 'Cows', 'Rear', 'govt', 'BEHIIND', 'ADVANCE', 'ACTUAL', 'COmmon', 'Gravesites', 'Selena', 'graceful', 'barista', 'remodels', 'Tripadivsor', 'whitin', 'brokedown', 'NS', 'sympathized', 'tux', 'shutear', 'Incomparable', 'LOWER', 'seperation', 'Fridges', 'Brekkie', '2401', 'Rainforest', 'colouring', 'BEACON', 'discoount', 'mascetomy', 'carring', 'grandsons', 'tonsels', 'adnoids', 'vaccumed', 'rags', 'Stained', 'duress', 'Psychiatrist', 'psychologist', 'APA', 'antiqueshops', 'hippies', 'infact', 'Nobhill', 'subsitute', 'retaurant', 'Doubly', 'Gerard', 'halpful', 'absoloutly', 'strangly', 'NOON', 'Canairie', 'Garman', 'Scotland', 'cgarman', 'diamondpower', 'Foggybottom', 'mindful', 'sardines', 'unplugging', 'Woogle', 'luncheonette', 'Knicks', 'Adidas', 'Franciscso', 'laundromats', 'bahia', 'unbeateable', 'bookrd', 'Magdaleno', 'Donna', 'bodylotion', 'Magnifcent', 'newcomers', 'Strobe', 'mouldings', 'doorbell', 'vibey', 'slagging', 'magnolia', 'wold', 'statuses', 'Feruary', 'constraint', 'ceilinged', 'marvellously', 'mediterranean', 'huevos', 'ranchero', 'oat', 'stires', 'sonic', 'mcd', 'chik', 'fil', 'forfeited', 'sumer', 'clustered', 'Happens', 'Huts', 'Hamburgers', '1939', 'SB', 'overkill', 'Puppy', 'otopark', 'Acca', 'Kappa', 'Moss', 'clangs', 'mightily', 'awaking', 'shearaton', 'housekepping', 'Ebookers', 'conncetivity', '50c', 'unthinkable', 'princely', 'immpecable', 'CONTINUOUSLY', 'lateness', 'cisterns', 'culturally', 'beckoned', 'creamed', 'sugared', 'LuLu', 'Umbearbly', 'applicances', 'mush', 'downloading', 'shxt', 'immoral', 'invitations', 'GATOS', 'Gatos', 'HLG', 'sweetest', 'Metrosexual', 'sb', 'entertainer', 'admiral', 'violin', 'witih', 'hightly', 'Blackout', 'lemons', 'complimnetay', 'glowsticks', 'charasmatic', 'DEMF', 'sm', 'Regal', 'Frenchman', 'Trang', 'granting', 'aminity', 'arrivial', 'pestering', 'unprofessionalism', 'drinlks', 'newyorkcityluxuryhotels', 'pursuit', 'gentlefolk', 'explorers', 'wetroom', 'firmish', 'caddycorner', 'decaffeinated', 'streatched', 'Geting', 'Ri1', 'nices', 'plumming', 'Innkeeper', 'ken', 'Theatres', 'Tragically', 'aft', 'AIDS', 'fundraiser', 'Merch', 'restos', 'Francesco', 'Agency', 'splits', 'reserves', 'retains', 'mailng', 'complexicated', 'orignial', 'reverts', 'Lucy', 'Boomers', 'Generation', 'unecessairly', 'bob', 'tension', 'Generous', 'Danishes', 'wonderul', 'Perfecet', 'enen', 'finess', 'Bertucci', 'laurels', 'UM', 'latecomers', 'Herb', 'Encrusted', 'Breast', 'Homemade', 'Meatloaf', 'Roulade', 'nursery', 'chauffered', 'palatial', 'Wrap', 'Topnotch', 'thighs', 'ascertained', 'BofA', 'irritations', 'notepads', 'stints', '2xAdults', '2xChildren', '2hour', '2bed', 'encountering', 'naught', 'Lavazza', 'Argo', 'resemblance', 'glom', 'Versailles', 'carriers', 'commuter', 'F5s', '1902', 'starbuck', 'mermaid', 'napa', 'LEGO', 'Ginos', 'Subzero', 'Miele', 'dishwashers', 'beautifu', 'Focaccia', 'Pancakes', 'Zachary', 'Sandra', 'soos', 'LAG', 'unfortunates', 'GildHall', 'milner', 'walll', 'SINGLE', 'Fitted', 'bearly', 'luggate', 'riverboats', 'tastely', 'grump', 'OHHHH', 'SHOCKED', 'Babe', 'vibrates', '950', 'kr', 'inlaw', 'breakfustbuff', 'Polish', 'Archer', 'rudimentary', 'superbusy', 'Cicero', 'Foam', 'Cancelled', 'remaing', 'respire', 'afffordable', 'Gramin', 'Trousseau', 'Wax', 'Ripley', 'occurrence', 'detention', '525LEX', 'WALKING', '21D', 'Cibo', 'fixe', 'Pleasing', 'hbo', 'refriderator', 'yoou', 'Bungalo', 'RODEWAY', 'juan', 'higo', 'premierteak', 'Kona', 'Kai', 'rumor', 'Tear', 'gagged', 'funnnnn', 'crud', 'reinstalled', 'saddest', 'severs', 'GREATLY', 'Dunno', 'thruout', 'escalate', 'unfitting', 'cP', 'uSD', 'patronizing', 'explicitly', 'Braille', 'logan', 'francis', 'dn', 'peripheral', 'mabye', 'midrange', 'Default', 'Cilantro', 'withi', 'MAcys', 'owuld', 'inluded', 'althougha', 'arpund', 'Gril', 'lasagna', 'fajitas', 'sheep', 'houskeepers', 'imitated', 'Cheer', 'Cheerleaders', 'Dancers', 'Azzure', 'clink', 'Stain', 'Vallet', 'Overview', 'conceierges', 'bussing', '2or', 'glittering', 'twinkled', 'Catherdral', 'Helmans', 'Heinz', 'Sauce', 'sencond', 'NYP', 'Fanbloomingtastic', 'remodled', 'miel', 'Cheeks', 'Sets', 'Benchmark', 'reveals', 'Chateu', 'Marmont', 'viewable', 'fielding', 'identifying', 'barber', 'shaves', 'Potential', 'cobwebs', '5yrs', 'kimptons', 'topaz', 'gargoyles', 'Tiled', 'SBluv2rvl', 'Arby', 'sauages', 'Mistakes', 'friendlyness', 'quirkyness', 'halt', 'simplistic', 'captivating', 'charley', 'Arbitrary', '61', '244', 'Canceled', 'subjected', 'Games', 'onyl', 'cvard', 'strickly', 'trinkety', 'impolite', 'Athenee', 'Hawthorn', 'Nov2012', '2ish', 'morep', 'grapefruit', 'Hairshow', 'concerge', 'Howl', 'peered', 'Pardon', 'Weekdays', 'Marked', 'Account', '664', 'judiciary', 'Argghh', 'Hahah', 'Anika', 'Score', 'Sleepy', 'POT', 'HOMELESS', 'FInd', 'clould', 'suggesed', 'Expectation', 'Reliant', 'foreman', 'DROVE', 'STORE', 'dehumidify', 'underestimated', 'visibly', 'Chemo', 'clinics', 'Letteria', 'Shoppes', 'Tatoo', 'femme', 'fatale', 'noir', 'retrospective', 'gents', 'stockings', 'velvety', 'enticed', 'nurtured', 'WEEKS', 'lumps', 'shells', 'HEAPS', 'Shocked', 'blister', 'weeping', 'pharmacist', 'prescribed', 'oral', 'drowsy', 'trousers', 'swelling', 'scarring', 'cod', 'quidco', '620', '445', 'Scheckey', 'lkke', 'WHICH', 'POSTED', 'hostility', 'SPACES', 'GUARANTEED', 'louvered', 'Appalling', 'delapitated', 'junkyard', 'shoppingarea', 'Canalstreet', 'AmX', 'attendee', 'candlelight', 'chihuahuas', 'protected', 'Masonic', 'gilded', 'lattice', 'patterned', 'armoir', 'raviolli', 'jaw', 'fiend', 'Belverde', '13to8', '1212', 'towartds', '2to', 'Gala', 'DCC', 'playoffs', 'Content', 'angled', '6days', 'thankyou', 'EXCELLENTLY', 'PRICED', 'TOWN', 'MANHATTAN', 'THANKYOU', 'temperate', 'querying', 'Lalla', 'expene', 'akk', 'bloody', 'mary', 'Sazarac', 'garner', 'Superbowl', 'chowed', 'Fantasitc', 'etrance', '5h', 'pewter', 'skaters', 'proffesional', 'Pampered', 'pamperedpetsinc', 'Remarkable', 'Drurys', 'travleing', 'mornig', 'Among', 'calimed', 'Scuffed', 'pilow', '909', '114', 'Wednesdays', 'equip', 'LUXURIOUS', 'coarse', 'GOLF', 'Jacuzzis', 'serial', 'sans', 'Teas', 'Chateau', 'Laurier', 'Burj', 'Arab', 'tp', 'racket', 'Changs', 'Minded', 'Saver', 'limite', 'bacony', 'bon', 'withour', 'STL', 'bestow', 'optimally', 'demagnetizing', 'rendering', 'demagnentize', 'unproveable', 'nighters', 'farmyard', 'hashbrowns', 'beautfully', 'Products', 'FRIGGIN', 'SURPRISED', 'inoordinate', 'makeshift', 'haggled', 'daypass', 'courage', 'Bummed', 'straightaway', 'Rosetta', 'unclog', 'Temecula', 'bodied', 'pilows', 'superabsorbent', 'pillowtops', 'uneveness', 'SEATAC', 'Confortable', 'funcional', 'Marian', 'Trent', 'Sharla', 'compd', 'Fron', 'distasteful', 'coutresy', 'Kayak', 'Outrageous', 'acknowldeged', 'festvities', 'accordinly', 'knobs', 'Shouldn', 'shorting', 'measurably', 'waldolf', 'astoria', 'Beautifull', 'equisite', 'loan', 'crumped', 'surical', 'CALLED', 'exeption', 'promiosed', 'Werll', 'overpromising', 'shaby', 'immpossible', 'thge', 'missions', 'Elm', 'commerce', '849', 'Lacking', 'pinafores', 'candlewoods', 'maitenance', 'rustling', 'boiler', 'abused', 'excruciatingly', 'Shameful', 'paraphrased', 'excerpts', 'channeled', 'preferre', 'grubbing', 'peddling', 'coveniently', 'Equestrian', 'absolutly', 'incredibal', 'unbelivable', 'Lamplighter', 'vacationer', 'coffemachine', 'Stoled', 'oozes', 'irritates', 'manhatton', 'Herbalife', 'Leadership', 'sparks', 'lavished', 'Nautical', 'Hava', 'EXTRAORDINARY', 'insanity', 'Janessa', 'diverted', 'Yummy', 'Facelift', 'III', 'Surburban', 'Soaking', 'luxurylink', 'Nemacolin', 'regarded', 'Derroit', 'TP', 'fasioned', 'Oatmeal', 'marachino', 'Roasted', 'Maines', 'Ghiardelli', 'Robitussin', 'REMOTELY', 'unusal', 'wineter', 'herd', 'blistered', 'tot', 'Mame', 'gasps', 'jewellery', 'simper', 'obligatory', 'ostentatious', 'beiges', 'blacks', 'trustworthy', 'Spoil', 'Salsa', 'Representative', 'SMILE', 'CHOCOLATE', 'CHIP', 'COOKIE', 'SCRUMPTI', 'LICIOUS', 'Glove', 'FRANCISCO', 'HISTORIC', 'LANDMARK', 'FOUNDED', '1851', 'Filipino', 'crick', 'regulated', 'nonchalantly', 'complements', 'controversial', 'Snoqualmie', 'quays', 'Bachelorette', 'specifics', 'hookup', 'temperament', 'Sonnie', 'bling', 'ole', 'SoMeT12', 'PRICEY', '1552', 'nuge', 'ted', 'nugent', 'explaiined', 'lke', 'happiness', 'presley', 'Edgardo', 'Vcarey', 'vacationed', 'Magificent', 'necessitating', 'perfctly', 'Lawrence', 'perched', 'cooperate', 'stomachs', '2407', 'extreamley', 'corrections', 'Ughhhh', 'Ewww', 'fluids', 'ATMOSPHERE', 'Mambo', 'speeds', 'dauntless', 'Metal', 'detracting', 'necessarly', 'Visa', 'Applebees', 'disppointed', 'madera', 'standa', 'gouge', 'Homes', 'doubledecker', 'acquainted', 'Willie', 'Dealey', 'longhorn', 'pioneer', 'Nowadays', 'echelon', 'Kenisa', 'Arons', '124', 'planted', 'Deduced', 'communicators', 'whispering', 'juniors', 'Flr', 'strain', 'forlorn', 'cleanser', 'pomegranate', 'ceremoniously', 'howled', 'Photo', 'Loft', 'pretension', 'hoetel', 'trending', 'detective', 'gloomiest', 'stings', 'chucking', 'Masquerading', 'thigh', 'squarely', 'mismatch', 'roughed', 'liquidation', 'confronted', 'accosting', 'Steffeny', 'tremain', 'corvette', 'fatty', 'ontop', 'patatoes', 'trellis', 'Viewing', 'conked', 'modernistic', 'DISTURB', 'Architecturally', 'Grammy', 'luxery', 'Belvidere', 'socially', 'outragiously', 'consume', 'cleanig', 'droved', 'Disppointing', 'appertiser', 'disapproving', 'intercontinetal', 'ballp', 'ark', 'musuems', 'Grandchildren', 'boreing', 'planing', 'disorderly', 'Rm', '816', 'crayon', 'cribs', 'Lipstick', 'election', '609', 'resonating', 'spiffed', 'armpit', 'Cautiously', 'Temporary', 'AAAAAAAA', 'hypochondriac', 'Genuinely', 'Mannered', 'sloping', 'gargoyle', 'EASY', 'stealing', 'sitter', 'grogerys', 'pedilite', 'soymilk', 'reveiwers', 'resultant', 'skate', 'Intimate', 'Harpers', 'Romney', 'bees', 'hushpuppy', 'Outskirts', 'paused', 'kiss', 'Cozumel', 'Nacho', 'beauity', '630', 'Laguardia', 'dampen', 'giltcity', 'overpass', 'brownstone', 'Fiance', 'Phat', 'fairley', 'verizon', '2126', '2526', 'Bice', 'scan', 'Holster', 'canadians', 'pret', 'craned', 'width', 'solves', 'bodywash', 'ethos', 'Guggenhiem', 'deficiency', 'Evil', 'Commuter', 'obsessed', 'outbound', 'kindess', 'neglience', 'whereabouts', 'beaut', 'Polly', 'Parlour', 'Ii', 'Attendents', 'critters', 'reacting', 'roached', 'invade', 'exeptionally', 'alcatrez', '52p', '47p', 'Quazy', 'Beats', 'sculptures', 'carvings', 'promenade', 'Shores', 'maintaned', 'beliveve', 'Ther', 'enables', 'fiving', 'threeminute', 'origianl', 'Nearer', 'VanDam', 'Profanity', 'sneaked', 'Obviousely', 'Scarry', 'actress', 'flirting', 'Melanie', 'lowpoint', 'nonprofit', 'surpass', 'windowless', 'Downloads', 'hugeness', 'reaches', 'Bullfinch', 'FleetCenter', 'Examples', 'Pen', 'trough', 'Screen', 'deactivated', 'Nevada', 'crossants', 'resembling', 'actic', 'AROUND', 'Roles', 'deterant', 'nutella', 'deftly', 'rockers', 'firts', 'pixelated', 'antenna', 'crabs', 'Margaritas', 'Marlowes', 'honors', 'Impressions', 'pegged', 'rubes', 'Sadie', 'Sabrina', 'Farmicia', 'Bouleverd', 'Blessed', 'snore', 'nik', 'naks', 'Maverick', 'consistant', 'Action', 'Bld', 'Quiznos', 'shotel', 'Solema', 'Komar', 'Tiana', 'Hayward', 'deskattendat', 'Ginnia', 'conciereges', 'mexico', 'swanning', 'Poste', 'END', '419', 'rodent', 'grunt', 'odour', 'conventioners', 'WashPark', 'ine', 'perrson', 'Dollers', 'fraudulently', 'mistrust', 'Attempts', 'accordance', 'Patachou', 'AirTran', 'educators', 'terrazo', 'vanities', 'interpreted', 'betweem', 'cutest', 'burgundy', 'crumbled', 'USD69', 'USD20', 'USD35', 'Scramble', 'USD4', 'gauging', 'iHOP', 'Scored', 'committal', 'alternantives', '1030am', 'trekked', 'completes', 'juicy', 'Evelevators', 'supplying', 'tenacious', 'tumble', 'weeksAll', 'Joan', '747', 'Passes', 'dissappoint', 'cental', 'stakingly', 'raquetball', 'Broad', 'Arty', 'Casual', 'Relaxed', 'airbill', 'sterno', 'Haru', 'twentieth', 'Appauling', 'sighted', 'Princeton', 'disregard', 'sprays', 'Fooled', 'Packaging', 'themes', 'packaging', 'Bieb', 'throne', 'Resulted', 'concave', 'startle', 'Horns', 'chants', 'dissolvers', 'activist', 'misters', 'SPF', 'rectificed', 'helfpul', 'Tarek', '10x8', '45min', '60min', 'unimaginable', 'franchises', 'retelling', 'courtesies', 'legions', 'Thor', 'Headed', 'afertnoon', 'brunches', 'Extreme', 'Sailing', 'whales', 'Whale', 'Chowderfest', 'magicians', 'mimes', 'wquld', 'Pampering', 'MO', 'Pai', 'Tidal', 'Gallagher', 'Andretti', 'wisked', 'overniht', 'lemoade', '64th', 'Krys', 'Ricardo', 'Anita', 'Hemisphere', 'EVERYTIME', 'NCAA', 'investing', 'Rodel', 'PRIDE', 'outdo', 'Krystle', 'depths', 'uprooting', 'Beachfront', 'standarts', 'BREATHTAKING', 'framing', 'Passover', 'Vertigo', 'payperview', 'explitives', 'Failed', 'watchable', 'subscription', 'Nasher', 'Sculpture', 'uptodate', 'Steet', 'Nightlife', 'Aiport', 'historically', 'pelased', 'particularily', 'Enroute', 'pendant', 'pearls', 'hesittion', 'superlative', 'phonecall', 'enquiring', 'poooool', 'Trio', 'chess', 'majors', 'bieng', '830pm', 'whined', 'baytower', 'februrary', 'Cheever', 'Brennon', 'needlessly', 'unreadable', 'MI', 'soundprooging', 'Attractive', 'Holland', 'chronically', 'cashing', 'Seem', 'Unapologetic', 'facilitates', 'gim', 'Structurally', 'hor', 'dereves', 'sculpted', 'strage', 'Discounted', 'mintue', 'escorting', 'Lodo', 'Colour', 'Ceiling', 'Bedspread', 'Wicker', 'Upholstery', 'Strand', 'pursuaded', 'undecided', 'Peet', 'Programming', 'Montague', 'slipt', 'pinging', 'circadian', 'rhythm', 'inspiration', 'gimmicks', 'fyi', '254', '74th', 'openned', 'Actual', 'seaon', 'unnoticed', 'bangin', 'karenism', 'SHORT', 'INNER', 'HARBOR', 'asume', 'courteus', 'Dine', 'recomendation', 'sunblock', 'acomodating', 'tapa', 'breakfats', 'Quiche', 'Croissants', 'NORDSTROMS', 'Veggie', 'aprox', 'Shirts', 'Rings', 'Disctrict', 'asure', 'accesibility', 'definatelly', 'Appliances', 'Apathy', 'LSMO', 'incongruous', 'drunkards', 'dissent', 'Syline', 'UCSD', 'thatw', 'phenominal', 'reastaurant', 'coldish', 'verrry', 'Meals', 'Woo', 'Hoo', 'imperfection', 'mugging', 'proximately', '830', 'shrieking', 'Hoboken', 'coffeehouses', 'aspirin', 'Trevor', 'affecting', 'Altamonte', 'harms', 'USAIR', 'filets', 'Marshal', 'cliche', 'atmophere', 'Hung', 'wekend', 'Bengals', 'Myon', 'capuccino', 'FUEL', 'expereince', 'mtg', 'DM', 'limitit', 'earier', 'frowner', 'Riverfront', 'recomanded', 'fronted', 'extract', 'yield', 'enhancing', 'evaluate', 'seabass', 'demographic', 'midtwenties', 'rad', 'browsed', 'Vespaio', 'Errors', 'hilarity', 'odder', 'Hilariously', 'sew', 'nonalcoholic', 'interminable', 'eraser', 'reson', 'Zocco', 'postivites', 'messenger', 'handlebars', 'wrench', 'goregous', 'olny', 'HEAVY', 'HOliday', 'INn', 'deteriorating', 'stirred', 'Natalie', 'PROUD', 'Philadelphians', 'Raffa', 'frankraffa', 'poke', 'Sonia', 'WORTH', 'hangouts', 'megaplex', 'fulfills', 'staued', 'buts', 'Wealthy', 'qualification', 'rescind', 'mantra', 'regulad', 'draen', 'resources', 'Appointment', 'finically', '498', 'Bulgari', 'merlot', 'Omg', 'bufffet', 'Eighth', 'cricket', 'locaton', 'wshed', 'Brthday', 'ths', 'apprecated', 'Legends', 'contstraints', 'layered', 'eschew', 'baracade', 'lagoon', 'travler', 'acrossed', 'Fesitval', 'unacceptab', 'sleepat', 'stonecladded', 'chiep', 'dealling', 'Ava', 'lessened', 'overseeng', 'humdrum', 'Overseas', 'retrieval', 'Noisiest', '40am', '614', 'INTERCONTINENTAL', 'CONSIGLIO', 'SIA', 'POSIZIONE', 'CENTRALE', 'VICINISSIMA', 'TUTTE', 'LINEE', 'METROPOLITANE', 'DI', 'SUPERFICIE', 'CHE', 'PERSONALE', 'DELL', 'STATO', 'SEMPRE', 'GENTILE', 'DISPONIBILE', 'OFFRIRE', 'INFORMAZIONI', 'UTILI', 'bumbling', 'braged', 'cheeze', 'Yuengling', 'underpass', 'permitting', 'Walkway', 'hte', 'Shoreline', 'linguini', 'Boyardee', '224', 'Kidding', '11PM', 'DISAPPOINTMENT', 'Dingy', 'Unprepossessing', 'eerily', 'CIty', 'misconceptions', 'handpicked', 'Perkins', 'Iridesence', 'delectable', 'Holes', 'achines', '8212', 'Shall', 'waaaaaaay', 'pb', 'Fineul', 'Musuem', '30yo', 'intrepid', 'sqr', 'jamaica', 'JRK', 'maximising', 'Emanuel', 'anecdotally', 'chugging', 'pov', 'boatload', 'throngs', 'jogs', 'Okau', 'iand', 'tukwilla', 'gooing', 'sep', 'february', 'coffeecups', 'beeing', 'cavy', 'creaks', 'innkeepers', 'Kym', 'seared', 'Layover', 'Cincinnati', 'Negotiate', 'outwardly', 'Speeds', 'rivaling', 'latencies', '2500ms', 'Aircard', 'yeasr', 'Marque', 'defineately', '3star', 'vector', 'Bruse', 'PRINCE', 'ST', 'Reasons', 'CONCIERGE', 'TRAVELER', 'FRIEND', 'autograph', 'trashcan', '715', 'Byant', 'MOCA', 'Middling', 'platforms', 'Alas', 'towls', 'LAST', 'MADE', 'assortiment', 'AirTrain', 'dingyness', 'sealant', 'Trams', 'ANNOYING', 'probally', 'referbishment', 'hols', 'desserted', 'MAIN', 'ROADS', '750', 'Mercedes', 'Benz', 'S430', 'pail', 'Hooking', 'reboot', 'reconnect', 'reopen', 'teach', 'rendezvoused', 'sbest', 'captive', 'absurdly', 'paradigm', 'OG', 'cityscapes', '270', 'seceral', 'cild', 'WORKS', 'INSERT', 'CARD', 'Corgi', 'Aly', 'Restuarants', 'CBD', 'showcases', 'rehung', 'bussed', 'squalid', 'Villiage', 'altough', 'billions', 'shopoping', 'Rosslyn', 'SCREAMING', 'Spacey', 'crescent', 'royals', 'pix', 'incredbily', 'Neck', 'Guiragossian', 'securable', 'Englander', 'rinky', 'dink', 'magnify', 'blemish', 'hips', 'bathtowel', 'polisher', 'smarmy', 'temptation', 'RP', 'Emmets', 'Coolest', 'corpus', 'christi', 'wuld', 'asssit', 'unautorized', 'bylaws', 'neutralizer', 'nauseously', 'aerate', 'decoy', 'Hearth', 'clams', 'garnished', 'almonds', 'Bubble', 'prosecco', 'crabmeat', 'Clone', 'swopped', 'apparantlly', 'gown', 'wernt', '20min', 'Hilga', 'Cattle', 'Baron', 'worm', 'MET', 'Inspired', 'imaginations', 'Sheena', 'exemplifies', 'punctual', 'Caltrain', 'terific', 'crumpling', 'dampner', 'iknow', 'eyesore', 'peepshows', 'Roller', 'obscure', 'Teleon', 'swiimming', 'kickbacks', 'roooms', '16h', 'maintined', 'discouraged', 'combs', 'htatt', 'revolutionizing', 'HEARD', 'SMELLED', 'FLOWER', 'GARDER', 'PLASMA', 'CHANNELS', 'hyall', 'foldout', 'cityish', 'Remodel', 'Convienence', 'preperation', 'informations', 'Classes', 'instructors', 'Catherine', 'Stacy', 'manors', 'averge', 'Gr8t', 'Brownstones', 'blooming', 'Gaeta', 'Airtel', 'minimul', 'extol', 'virtues', 'Beetlejuice', 'foil', 'Dormitory', '88th', 'evne', 'frail', 'Stunned', 'relaxations', 'wallcot', 'viator', 'exspecially', 'excite', 'ehh', 'Mosholu', 'barley', 'magnanimous', 'nimbler', 'UNcomfortable', 'frirendly', 'los', 'angeles', 'janie', 'walsh', 'staydespite', 'Seattles', 'ly', '3p', 'Melvin', 'developments', 'impactful', 'spiderwebs', 'bleepin', 'abandonded', 'Cabo', 'enjojed', 'surfe', 'totaly', 'vaccation', 'km', 'singers', 'boyfriends', '58', 'squeezy', 'fickle', 'lv', 'buttet', 'fluctuating', 'undetermined', 'reasenable', 'neonlight', 'foodstore', '23e', 'heathing', 'saterday', 'Ameritannia', 'farty', 'superlounge', 'Advise', 'litlle', 'eminating', 'speculated', 'functioned', 'CND', 'tabulous', 'Details', 'yogi', 'SNACKS', 'beating', 'johnny', 'urbanite', 'avant', 'garde', 'vanillas', 'Seamless', 'luminous', 'provocative', 'lighten', 'effectuate', 'simultaneous', 'Translucent', 'nighstands', 'bongo', 'pashima', 'accoutrements', 'emanate', 'persuasion', 'Versatility', 'Yogis', 'multiples', 'weightlifters', 'versatile', 'Headphones', 'redwood', 'namesake', 'Satre', 'Exit', 'unconventional', 'enterprising', 'motionless', 'mime', 'Heeled', 'flats', 'mountaineering', 'Beatnik', 'Shrine', 'chapel', 'Fortune', 'Casting', 'sycophancy', 'Requests', 'speedily', 'aperitif', 'Celtics', 'edgey', 'startup', 'approrpriate', 'grumpiest', 'coldest', 'resolute', 'unprompted', 'teatro', 'subjective', 'unrealistically', 'verry', 'arking', 'Ivory', 'Scoop', 'singled', 'MONACO', 'moisturized', 'eruos', 'groovey', 'litterly', 'pina', 'coladas', 'tidbits', 'MUSTs', 'carnitas', 'ove', 'Hodad', 'Loui', 'Mickies', 'Gogo', 'Anthropology', 'aslamp', 'Hilcrest', 'NorthPark', 'Banker', 'Duke', 'Iowa', 'Dukies', 'Duece', 'Directors', 'Panorama', 'downpours', 'klaxons', 'mangement', 'barrels', 'recieves', 'whos', 'sectioned', '2E', 'tidying', 'honk', 'otherside', 'Avn', 'fresheners', 'Safty', 'contributes', 'creepiness', 'recoup', 'domain', 'RoundRock', 'similarity', 'purposed', 'beginnings', 'Significant', 'steamer', 'incarnation', 'NYMA', 'Prompt', 'sprinkler', 'sellotape', 'recuperate', 'atta', 'egar', 'contented', 'greating', 'thrive', 'kuddos', 'teaching', 'Mansions', 'Boudini', 'Blanket', 'Babylon', 'Singing', 'founded', 'sawdust', 'oscillating', 'BROKEN', 'accomondating', 'pedic', 'craving', 'HHONORS', 'bedsand', 'feng', 'shui', 'revitalizing', 'NWA', '25min', 'Travelzo', 'Staple', 'MidWay', 'creeky', 'Teenagers', 'reputalbe', 'noticeble', 'hurrying', 'Virgils', 'lodged', 'attactions', 'acccomidating', 'Cabbies', 'harrowing', 'dodging', 'XBox', 'Beta', 'Potomac', 'Reasonablly', 'niter', 'honoured', 'Aubrey', 'Vince', 'sprawled', 'mashing', 'Philippe', 'Starck', 'PERSONALLY', 'Birkenstocks', 'straps', 'Manolo', 'selectivity', 'postscript', 'snuck', 'saide', 'banner', 'vastly', 'swiveling', 'Reserve', 'Coleman', 'chord', 'stoping', 'lass', 'siiting', 'awesoome', 'rigged', 'aided', 'heinous', 'feasted', 'tofu', 'fragrant', 'scallions', 'tide', 'tininess', 'caroling', 'demo', 'visuale', 'hickes', 'sin', 'ROCKY', 'POINT', 'SPRING', 'BREAK', 'Horendous', 'Everynight', 'Yelling', 'cutains', 'reallt', 'ISSUE', 'HAPPILY', 'Yawkee', 'incensed', 'jewellry', 'Talked', 'haxardous', 'wrinkled', 'Officials', 'cloase', 'Dupars', 'viscous', 'Buffett', 'Brooke', '9C', 'subwayride', 'alle', 'breakfastchef', 'Kojo', 'speciel', '2015', 'transitioning', 'reclined', 'bunched', 'hinged', 'neath', 'doubtless', 'eyesight', 'cooky', 'pervades', 'Lily', 'MONICA', 'transer', 'weeknights', 'Barlo', 'resto', 'artisan', 'smithsonian', 'sofitel', 'crutches', 'toning', 'infirm', 'wheezy', 'righteously', 'tempt', 'staed', 'whenver', 'Whard', 'ferryboats', 'Cafes', 'Brouhahas', 'nudge', 'revised', 'Sven', 'Baele', 'Belgium', 'Pantages', 'combining', 'fisheye', 'androgenous', 'glam', 'rocker', 'banquest', 'Rovira', 'Jorge', 'Ramirez', 'Rodriguez', 'Immer', 'Salgado', 'Ron', 'Trusted', 'relinquish', 'investor', 'surmised', 'TRUST', 'AHEAD', 'SHOCK', 'runnung', 'ypu', 'davidsweeney2', '4ft', 'acsess', 'hiway', 'difficut', 'coughed', 'cochroaches', 'stamped', 'reoccurring', 'Ownership', 'portfolio', 'renter', 'technological', 'enhancements', 'tutorial', 'admits', 'tutorials', 'experiece', 'whatelse', 'inprove', 'Prefered', 'abilities', 'utlize', 'X10', 'greatness', 'systemic', 'proving', 'Disconnect', 'preselected', 'TGIFridays', 'Specially', 'Trolleyworks', 'OW', 'Foundation', 'impressionist', 'Merrion', 'vaulted', 'Plane', 'spotters', 'timescale', 'techno', 'Kyle', 'Idea', 'TRYP', 'althoghit', 'rusting', 'rooftops', 'BUTT', 'GRand', '1990', 'infromative', 'coverted', 'rehabed', 'sectional', 'Wear', '485', 'Dominoes', 'mimosa', 'Stayable', 'tonnes', 'yuppie', 'restautants', 'earnest', 'Frederick', 'Detrick', 'Regatta', 'panhandler', 'terracce', 'Mover', '1508', 'flatulent', 'bury', 'mamager', 'SMILLING', 'extensions', 'talbets', 'Unfortunatley', 'contigency', 'uncooked', 'coldness', 'Sprnghill', 'Ftness', 'cener', 'Clinc', 'clinic', 'advantge', '830am', 'Qunicy', 'Haymarket', 'compelling', 'TODAY', 'bake', 'entertainers', 'orientations', 'Goodman', 'ornaments', 'communities', 'traditions', 'coal', 'supported', 'Circq', 'thjought', 'Witihn', 'identifcation', 'differed', 'harbors', 'funiture', 'Grahm', 'Temperpedic', 'Dannys', 'Arnold', 'maroon', 'unannounced', 'brash', 'waaaaay', 'overseeing', 'Kicked', 'sneering', 'objected', 'kennel', 'offender', 'prospecting', 'mistreatment', 'Callender', 'ond', 'mirorr', 'leaved', 'baisc', 'internbet', 'drawwback', 'whiuch', 'Outstnding', 'MW', 'Utensils', 'Sathyan', 'Shivashankar', 'pilled', 'rececetion', 'inconveniance', 'forcast', 'Favourite', 'againt', 'jnr', 'magnicant', 'Kimptom', 'BUG', 'Sirius', 'niceand', 'airconditionners', 'cheseburger', 'Corona', 'epected', 'coutyard', 'vivists', 'unscheduled', 'misssed', 'ahd', 'couldorder', 'Chesnut', 'rambling', 'aint', 'NB', 'Oldtown', 'direclty', 'Efforts', 'Revolting', 'Denvers', 'YUKY', 'teir', 'existance', 'pretender', 'bustled', 'Tiki', 'educator', 'flusher', 'glow', 'Polar', 'Inoteca', 'Raul', 'fouth', 'Farallon', 'cheked', 'Braxton', 'rool', 'helix', 'Braxtons', 'cofeemaker', 'Beverages', 'wierdly', '414', 'toi', 'gadget', 'BIDMC', 'discount0', 'Enormously', 'wristband', 'BET', 'Mircotel', 'cleanness', 'safebox', 'unrespectful', 'Jerrod', 'confrimation', 'upapologetic', 'upacceptable', 'hadvingto', 'Rachael', 'encyclopedia', 'zeal', 'pang', 'jealousy', 'Sherston', 'Specail', 'Amadou', 'Unfortunattely', 'spits', 'scrum', 'pathways', 'Temples', 'drips', 'gouges', 'prefrontal', 'lobe', 'opposable', 'Gracie', 'CROWNE', 'PLAZA', 'academic', 'ipads', 'cabbage', 'intermitent', 'endour', 'snooring', 'chateau', 'deux', 'chublis', 'remark', 'Swinger', 'Swingers', 'blacked', 'positiv', 'entusiastic', 'Partick', 'Cleaners', 'CONFI', 'scouted', 'reaks', 'unexpectantly', 'Mays', 'Frills', 'barbecue', 'laminated', 'Coyote', 'Cantina', '2461', 'tortillas', 'delicios', 'Twiggs', 'involve', 'Slight', 'LR', '730pm', 'hem', 'eatser', 'battering', 'Novatel', 'Flexibility', 'autistic', 'peacefully', 'dinette', '538', 'footrest', 'Macdonalds', 'acessible', '63rd', 'Fishbones', 'Papalis', 'roadkill', 'cassarole', 'Atmospheric', 'accounted', 'bb', 'Basil', 'Charthouse', 'Arabic', 'prating', 'ENGLISH', 'Tik', 'Tok', 'eadible', 'flannels', 'seemly', 'Finnish', 'CORRIDORS', 'frights', 'Celcius', 'fright', 'MISCELLANEOUS', 'spesific', 'trinket', 'suds', 'northnern', 'Dicks', 'Nicky', 'Rottens', 'Sevilla', 'Candela', 'watersports', 'juliette', 'innner', 'MT', 'breakfastfacilities', 'Iridescence', 'arugula', 'Amnesia', '1BR', 'Illy', 'morningside', 'acilities', 'fclean', 'upgraed', 'valencia', 'Plucky', 'Pluckier', 'boasting', 'househeeking', 'alter', 'afoot', 'dampened', 'intensive', 'Supplied', 'Personable', 'Chihauhau', 'Dropped', 'assignments', '1003', 'plushly', 'mauve', 'Lamps', 'squeezing', 'matt', 'scampering', 'triggers', 'dispensing', 'Millesime', 'Persimmon', 'immaculatley', 'proudly', 'plight', 'Recycling', 'Duvet', 'valubles', '6x', 'outragous', 'gallleria', 'Grill39', 'Chilis', 'Robin', 'uncut', 'patroled', 'disquieting', 'origination', 'odrinary', 'Seniors', 'Bash', 'togethers', 'massagers', 'Lucques', 'Bright', 'managent', 'gorging', 'beibg', 'Speed', 'Boscov', 'sheik', 'Armiour', 'Corey', 'relativity', 'motivation', 'realxing', 'Indi', 'ermitage', 'Regret', 'sinus', 'nigths', 'Capitolio', 'limiting', 'POD', 'stile', 'laungeing', 'CHAMPIONS', 'ingredient', 'outway', 'Emmy', 'mouthed', 'geeze', 'depended', 'Ma', 'Sandler', 'smirked', 'unkind', 'Ukranian', 'smirking', 'intelligence', 'Feliz', 'HIGH', 'RECOMMENDATION', 'Midst', 'frill', 'Minar', 'resutrant', 'Quary', 'regrouted', 'Embarcadaro', 'transportaion', '6dollars', '320dollars', 'Andof', 'Inconvenient', 'embarrasment', 'Outrageously', 'forgivable', 'wildfire', 'Crowned', 'Twist', 'raviolis', 'basil', 'eggplant', 'premixed', 'bellinis', 'storefronts', 'BONUS', '100F', 'Janelle', 'liason', 'Tidbits', 'fluffly', 'sandwiched', 'nicotine', 'Electricity', 'vet', 'Sips', 'hygeinic', 'whirpool', 'Nuts', 'glorified', 'endeared', 'trainmed', 'EFFICIENCY', 'HUMAN', 'expediate', 'arrvied', 'comformt', 'exacltly', 'miscommunications', 'organiser', 'explanations', 'cube', 'demagnetized', 'aiport', 'grudgingly', 'disputing', 'scrutinize', 'frugal', 'punched', '17yr', 'Ya', 'swimingpool', 'Coninctivitis', 'yse', 'warter', 'wah', 'Ceci', 'PARIS', 'FRANCE', 'POUNDS', 'afforable', 'LONE', 'retsurant', 'snowed', 'expired', 'SRO', 'restaurtants', 'hospitible', 'cased', 'JWU', 'Grieme', 'Tawanda', 'regularily', 'Belnord', 'clausterphobic', 'faciilities', 'Rum', 'feasibly', 'skecthy', 'defer', '1988', 'dilemma', 'McCormicks', 'distrct', 'BoFlex', 'matronly', 'hairstyle', 'Buzzed', 'Whew', 'patches', 'ingrained', 'showertaps', 'doused', 'Condition', 'Keybridge', 'coacoa', 'watchers', 'corroded', 'cheated', 'laught', 'mangier', 'throughoughly', 'pugent', 'braking', 'Practically', 'easygoing', 'whenevery', 'Concerned', 'Pennsylvannia', 'IDEAL', 'SEEING', 'SITES', 'Bichon', 'Friese', 'Carlsbad', 'Caverns', 'icepack', 'idiosyncratic', 'peculiarities', 'Bryon', 'intents', 'Mixto', 'microtel', 'villas', 'squicky', 'pocketing', 'transporter', 'niggly', 'glisten', 'Awesmome', 'disney', 'bonaventure', 'aggitated', 'ireland', 'gladely', 'SCRATCHY', 'SHEETS', 'ministers', 'racers', 'Leaves', 'Desired', 'andI', 'peolpe', 'sternly', 'speakerphone', 'Fisher', 'acre', 'vv', 'wages', 'bio', 'exerciser', 'sharply', 'Clorox', 'Germs', 'Elway', 'Expert', 'Faniuel', 'Postives', 'anf', 'vomited', 'pumped', 'frustrations', 'paddling', 'averagre', 'Thermostats', 'otel', 'modernist', '431', 'SWAT', 'plum', 'Wachovia', 'ahhhhhhhhhhhhh', 'kathy', 'Shadeland', 'I70', 'Forgotten', 'deffening', 'pence', 'purley', 'Hendersons', 'Defininately', 'Rafello', 'Havisham', 'Barbucks', '721', 'unwillingness', 'requirment', 'folds', 'Reviewer', 'AArp', 'Nutrageena', 'samplers', 'dist', 'hiked', 'gossiping', 'kust', 'Suddenly', 'prehistoric', 'dinosaurs', 'firmiture', 'bulldozerd', 'Paws', 'Loving', 'labrador', 'canines', 'KO', 'unrivaled', 'Universities', 'Treating', 'Ragonese', 'delicate', 'sensibilities', 'distinguished', 'weighty', 'diplomacy', 'JEFF', 'RAGONESE', 'Mera', 'Rubell', 'SOMEBODY', 'FANCY', 'TREAT', 'facilitate', 'Spurs', 'Mavs', 'DALLAS', 'Dragonfish', 'screened', 'saturated', 'HOMEMADE', 'Faults', 'Absurd', 'Admission', 'Treats', 'rigors', 'motherhood', 'spritz', 'Conxions', 'meeker', 'unsurprising', 'scar', 'recycliing', 'REMARKABLE', 'producing', 'flamily', 'Fairmon', 'bellperson', 'Tthere', '75th', 'Wondering', 'titillate', 'Restored', 'mandarin', 'Malaysia', 'Tinyan', 'Justin', 'gReat', 'hotelnsuch', 'aire', 'HORRIBLY', 'HALF', 'preventable', 'unfancy', 'sublet', 'woodsy', 'Dragon', 'Gates', 'suave', 'ber', 'rollers', 'integrated', 'automation', 'GENEVA', 'clad', 'Bigelow', 'kwantozonke', 'za', 'andaz', 'RETRO', 'pledge', 'McCartney', 'cond', 'Ratings', 'elated', 'minimizing', 'taffys', 'netting', 'Mika', '605', 'disheartened', 'candybars', 'invitingly', 'julep', 'charcuterie', 'shorten', 'poilcy', 'shortening', 'leeway', 'espcailly', 'thugs', '180cm', 'Openworld', 'regs', 'unreservedly', 'DANGEROUS', 'memorized', 'unbeliveable', 'protent', 'Shockley', 'plumbers', 'hopelessly', 'temple', 'THESE', 'KIND', 'Excuse', 'flied', 'proofs', 'granderour', 'critism', 'Ps', 'Undoubtedly', 'nonresponsive', 'deducted', 'Bayou', 'Beaudine', 'Playa', 'pitstop', 'flecktone', 'camouflage', 'Boho', 'apperently', 'tey', 'ou', 'prange', 'rebooting', 'DIRT', 'lingo', 'FINALLY', 'consistancy', 'askied', 'HELLO', 'disarray', 'maintenane', 'bypassed', 'heavenlly', 'resently', 'extradonary', 'TUNA', 'lavishes', 'delictiable', 'savy', 'buerre', 'blanc', 'modernization', 'context', 'guiet', 'Delayed', 'rater', '2k', 'Televisions', 'vochers', 'Block', 'hermes', 'frette', 'ouf', 'Worlds', 'Recommendation', 'sweeper', 'slobs', 'Foremost', 'barns', 'Amalfitinis', 'Carays', 'Brazzaz', 'winkwink', 'homebase', 'Turk', 'alleged', 'unaccurate', 'intervening', 'Loretta', 'Lynn', 'statyed', 'H3', 'Booger', 'kitsch', 'Cowtown', 'Considerably', 'Commitment', 'apprehensions', 'amosphere', 'Avg', 'tolled', 'billabong', 'aussie', 'trimmings', 'especial', 'Smily', 'MAry', 'Mastrobuoni', 'allotment', 'Eduard', 'Alexandre', 'Cinque', 'ao', 'PAulo', '1631', 'Scientology', 'recruiting', 'Education', 'DATED', 'Authentically', 'vein', 'poetry', 'withdrawal', 'SLOWWW', 'Troll', 'Writing', 'Indygov', 'hopers', 'primadonna', 'rockstar', 'FUTURISTIC', 'faboulous', 'rationale', 'Menth', 'crushed', 'sevice', 'drumsticks', 'discription', 'Markos', 'lyn', 'Humble', 'authenic', 'Gene', 'Medicocre', 'Yoko', 'Cameron', 'trully', 'stereotypical', 'recommedation', 'stickey', 'Threate', 'Jokes', 'GROSSLY', 'OVERPRICED', 'Indigos', 'portrayed', 'Fready', 'Hoilday', 'segregated', 'appreaed', 'comfty', 'allt', 'cours', 'webinar', 'withdrew', 'briskly', 'Scout', 'Antigua', 'Barbados', 'Canouan', 'Grenada', 'redemption', 'friendwho', 'wilderness', 'ranches', 'sown', 'raft', 'LHR', 'magestic', 'Lining', 'Firepits', 'Fillet', 'Meritus', 'Strip', 'squid', 'botantical', 'Isle', 'Capri', 'cabannas', 'penetrating', 'Splash', 'BLT', 'yanks', 'grande', 'lakes', 'rabbits', 'mallard', 'coyotes', 'owl', 'swooping', 'Photos', 'horses', 'critisisms', 'arid', 'smother', 'Deet', 'Aftershave', 'WYNDHAM', 'belldesk', 'Medeterranian', 'flute', 'wafted', 'canvassing', 'complementar', 'myth', 'courthouses', 'accumulate', 'Zingari', 'Beatifull', 'taxicabs', 'kepted', 'secerts', 'architectual', 'achievment', '4220', '78745', 'Gatorade', 'perishable', 'Multilple', 'freezes', 'cove', 'solar', 'croquet', 'sham', 'heeded', 'rumbles', 'discontent', 'dunk', 'yukkk', 'BBQs', 'builtd', 'curl', 'Az', 'LLoyd', 'wholesalers', 'oppoiste', 'Explorer', 'underwhelm', 'fally', 'airporter', 'postal', 'handily', 'longevity', 'quart', 'precariously', 'fearless', 'explorer', 'maneuverability', 'bambino', 'yos', 'creepiest', 'Campbell', 'vibrator', 'COurt', 'Vuitton', 'Carolers', 'olympic', 'GAP', '148', 'Bustling', 'sightseers', 'Gable', 'Mere', 'missplaced', 'quintenssential', 'Ladder', 'impromtu', 'shocker', 'keynote', 'mico', 'sussed', 'bijoux', 'assumes', 'dimensions', 'SW', 'routines', 'Ferries', 'relegated', 'trainee', 'backpedal', 'xxx', 'racquets', 'panorama', 'prisons', 'inmates', 'Lionel', 'Ritchie', 'tummy', 'Accessible', 'pax', 'conveniet', 'Fruits', 'Independent', 'Aircon', 'Toothbrush', 'Dislike', 'Royalty', 'luxuirous', 'utized', 'bellini', 'shuffles', 'conversational', 'Escalade', 'carful', 'ceilig', 'overal', 'Intercontinentals', 'lured', 'Tamo', 'perfumed', 'independenly', 'cheaters', 'selfish', 'cornerr', 'enioyed', 'locatin', 'calculate', 'snatching', 'Anya', 'Elias', 'amiable', 'chosing', 'amiably', '0F', '32F', 'deminish', '1014', 'SloveniaFamily', 'Conditiners', 'avarage', 'sealling', '822', 'bunks', 'signposted', 'resdient', '3days', 'beacause', 'TOURIST', 'Biersch', 'Quotations', 'outage', 'frustrate', 'Lighten', 'Caray', 'Riverview', 'deeeeep', 'overweight', 'cofffee', 'butrecommended', 'Devonshire', 'Drippy', 'Prefunctory', 'IND', '38am', 'downton', 'palooza', 'stealth', 'jaunt', 'Brownstone', 'demolish', 'answerd', 'unsuccessfully', 'downstair', 'lght', 'worrst', 'mona', 'trusty', 'Ready', 'transpiring', 'glanced', 'monitering', 'Kazi', 'Halal', 'confront', 'Bottomline', 'brushed', 'profiling', 'Locating', 'COSTCO', 'evry', 'woul', 'advantageous', 'allthough', 'Tourists', 'Metrorail', 'defining', 'Biergarden', 'Foley', 'Cleverly', 'disquised', 'figueroa', 'subwoofer', 'weave', 'constitution', 'Exotic', 'Marigold', 'sporty', 'bandaids', 'Umbria', 'agreat', 'doggies', 'Vichy', 'boutiquish', 'upscaleness', 'appt', 'hwo', 'OCtober', 'Skybox', 'Kenmare', 'feeder', 'acoustically', 'gruff', 'ofThe', 'Bergdorfs', 'Bendels', 'theTheater', 'Fulton', 'accousted', 'thermos', 'totaling', 'eloquently', 'agreeable', 'Cellular', 'concegiere', 'Sofite', 'stayl', 'pearl', 'unclothed', 'magnetic', 'embarassed', 'attaching', 'roughin', 'winchester', 'partnered', 'tV', '27inches', 'capture', 'sock', 'Bobcat', 'restauarnt', 'HHC', 'Pains', '50ish', 'doorknobs', 'runnning', 'valence', 'Coupon', 'Unexpectedly', 'HBO2', 'iMacs', 'g60763', 'd459367', 'html', 'Dos', 'Caminos', 'siggested', 'Canyons', 'Audobon', 'Wildlife', 'certification', 'insures', 'practiced', 'Crenshaw', 'Nios', 'Linen', 'Timeshare', 'greeded', 'plartter', 'noising', 'presumptuous', 'queing', 'correspond', '3406', 'neccesity', 'Reede', 'reasonabe', 'concierege', 'Lincon', 'lemongrassy', 'Kid', 'nonworking', 'Foodlife', 'Qdoba', 'maturity', 'deluge', 'voluptuous', 'Il', 'Fornaio', 'crampt', 'Philz', 'tournaments', 'tablet', 'Opt', 'Rescued', 'Torture', 'Boogie', 'Ngo', 'foreshadowing', 'asthmatic', 'Complain', 'vicious', 'barks', '430am', 'cutleries', 'microwaving', 'mosey', 'peephole', 'crafted', 'MURDER', 'handsoap', 'ONCE', 'upped', 'Erik', 'halleluja', 'Solved', 'forgotmypword', 'Boards', 'JetBlue', 'Massport', 'Eastie', 'recompense', 'eyewear', 'preceeding', 'plesantries', 'pastis', 'Marqios', 'sentiments', 'guets', 'repark', 'toursity', 'pd', 'GE', 'spans', 'flakey', 'canes', 'Martinez', 'Cigars', 'pAssengers', 'hypothetical', 'manifest', 'Supreme', 'picrtures', 'overjoyed', 'soaks', 'Cater', 'paternal', 'maternal', 'Daddy', 'Yahtzee', 'jukebox', 'raucus', 'indulging', 'pizazz', 'USD250', 'Shorter', 'Kingston', 'whispered', 'Diplomat', 'eureka', 'Lord', 'celerity', 'airliner', 'Rhode', 'Tube', 'getters', 'storebucks', 'Pedicure', 'Tri', '673', '2431', 'scuff', 'cleansing', 'asessed', 'nitpicks', 'judgment', 'fundamentals', 'FS', 'Ritzs', 'erroneously', 'swiped', 'issuer', 'Awry', 'Ariana', 'redeye', 'interim', 'occupanc', 'offiially', 'birthay', 'cousre', 'talbe', 'harpist', 'bel', 'HIlls', 'iroquois', 'Trek', 'canister', 'parenting', 'faciing', 'Cambria', 'JS', 'resurrection', 'surgical', 'promoted', 'scrutiny', 'seduced', 'refers', 'mousse', 'Menkes', 'themeselves', 'Philideplhia', 'Jillian', 'Regina', 'Ivana', 'Allison', 'condtioner', 'contemporaty', 'digusting', 'evaporated', 'AVAILABLE', 'clorox', 'durty', 'guise', 'undeserved', 'Claustrophobic', 'Suicide', 'hardwoods', 'Plathe', 'memoir', 'giners', 'Molten', 'interefere', 'Islandia', 'Oct24', 'Poppyseed', 'saga', 'Casita', 'Tennis', 'colleaugues', 'Sara', 'Ernest', 'SeaPort', 'rapidity', 'Gwinn', 'turnarounds', 'lillies', 'FIVE', 'washclothes', 'Brandi', 'RETURN', 'WITHOUT', 'HESITATION', 'strenuous', 'definilty', 'Coaching', 'ajustments', 'Topolobampa', '159US', 'bruising', 'deplorer', 'Hotelmela', 'Desires', 'buidings', 'Dove', 'Urgh', 'Arnie', 'galloped', 'Malkovich', 'transPacific', 'Towering', 'smalled', 'chasing', 'Repair', 'compromising', 'minubars', 'SE', 'classified', 'Lexngton', 'bribe', 'bartering', 'Opia', 'peppered', 'hosed', 'slowness', 'glistens', 'DOESN', 'REPRESENT', 'STYLE', 'looses', 'reerved', 'Zoccos', 'haste', 'prestige', 'Fiancee', 'achilles', 'heel', 'expression', 'speck', 'Worries', 'claose', 'laughs', 'Davidson', 'Cty', 'Fleming', 'brakes', 'buildlings', 'skips', 'Current', 'sneer', 'peeped', 'investigating', 'onslaught', 'interruption', 'gram', 'BUILDING', 'Preparing', 'igniting', 'chlorinated', 'cloudburst', 'irksome', 'Safeways', 'Donny', 'highlighting', 'Mari', 'FAIL', 'Satruday', 'muscled', 'carseta', 'cokmpletely', 'Guestmob', 'DEMANDED', 'ginormous', 'Ew', 'SCRUB', 'maam', 'Maam', 'Ferrari', 'fuses', 'GFI', 'Exasperated', 'snarky', 'FILL', 'agrees', 'profusivley', 'BURDEN', 'RUINING', 'Obrien', 'anomoly', 'anther', 'heavly', 'YUCH', 'tucket', 'Bette', 'regulating', 'faulted', 'hosekeeping', 'Researched', '530pm', 'bleeding', 'eyeballs', 'Laker', 'assaulting', 'scratcher', 'Awakening', 'MAGNIFICENT', 'Smithosonians', 'towpath', 'Random', 'swimable', 'previos', 'meldew', 'enterance', 'Breakfest', 'beagles', 'upscaled', 'Canned', 'peaches', 'mains', 'ober', 'Coner', 'joes', 'Pinecrest', 'Rules', 'referrals', 'Rodeay', 'disgruntaled', 'punk', 'loosing', 'WARN', 'THINKING', 'STAYiNG', 'REVIEW', 'REASON', 'wage', 'NOB', 'Dunp', 'bellowed', 'prett', 'slighlty', 'noiser', 'neverless', 'amoung', 'Skyauction', 'ENJOYED', 'Leon', 'Leader', 'oceanviews', 'enlarged', 'avearge', 'funnest', 'emotional', 'ment', 'couble', 'stereotype', 'Faded', 'chandler', 'catagory', 'grandmas', 'mariposa', 'Underpants', 'Dylan', 'Meal', 'Lonnie', 'Banquets', 'caprese', 'octopus', 'snapper', 'fois', 'gras', 'definitelyclass', 'Magnifique', 'Donohue', 'Tx', 'inconspicuous', 'storms', 'nickname', 'the27th', 'tru', 'comcast', 'labour', 'knifes', 'eatware', 'seeemed', 'workin', 'custodian', 'twisted', 'Clif', 'moisturiser', 'slinky', 'Wyland', 'Theme', 'harborview', 'Dynomite', 'seams', 'excatly', 'Tastefully', 'MICHIGAN', 'brutal', 'Mum', 'Flea', 'Bearclaw', 'diva', 'OFFENDED', 'Anastasia', 'ICON', 'Baileys', 'SERIOUSLY', 'Darling', 'slinger', 'DIVA', '19year', '13year', 'CLINK', 'pips', 'incur', 'betcha', 'finances', 'interupted', 'hinderence', 'preening', 'Zarkana', 'Seyshore', 'pooches', 'socialize', 'diagonal', 'thiink', 'mesh', 'suffers', 'detectable', 'RECOMENDED', 'retirees', 'WhiteSox', 'fuel', '340', 'refresher', 'minimeters', 'Jackets', '1min', 'chidren', '4yrs', 'Plenry', 'outoor', 'coluld', 'buring', 'Downfalls', 'Teens', 'DISH', 'Garidelli', 'catamaran', 'Tylor', 'nicel', 'ponied', 'dough', 'Suprise', 'armed', 'affectionate', 'ROCK', 'DIEGO', 'ROCKED', 'Janes', 'DIego', 'Brazillian', 'emply', 'Uno', 'COCK', 'ROACH', 'atrtack', 'SETS', 'FOOT', 'Trailfinders', 'spaceious', 'Plentiful', 'yeh', 'Yup', 'Snique', 'porgram', 'srevice', 'foray', 'alight', 'overstayed', 'ripe', 'Rink', 'spacial', 'hoovered', 'footstep', 'naff', 'Kanika', 'Splendid', 'agony', 'exterminate', 'remainining', 'sugest', 'Visible', 'hampster', 'storyteller', 'dialog', 'Zip', 'Kiosk', 'notification', 'arrowhead', 'mantels', 'spiffy', 'blazingly', '05p', 'methods', 'soffits', 'radiates', 'masterful', 'Forte', 'Stephan', 'handprints', 'bicycling', 'boating', '1805', 'touristly', 'Christi', 'SOMETHING', 'THINK', 'anyday', 'inkpen', 'insinuating', 'warrents', 'Propery', 'Turks', 'Caicos', 'hairdrier', '2314', 'Sayat', 'Armenian', 'Scotia', 'MamaMia', 'blissful', 'Refreshing', 'F14', 'cages', 'pn', 'confetti', 'bumpy', 'Leland', 'tigers', 'Goth', 'Pratt', 'zig', 'zag', '20ish', 'blush', 'retrained', 'haphazard', 'scrap', 'rips', 'innings', 'weakly', 'bolstering', 'fanastic', 'abut', 'mosquitoes', 'nereby', 'Osha', 'forgave', 'SuperShuttle', 'photog', 'MonChalet', 'Notel', 'coutesy', 'Pleeeze', 'threads', 'roger', 'smith', 'adeqate', 'resterants', 'conformable', 'cand', 'Spendid', 'unviersity', 'Discrimination', 'scout', 'troops', 'Gloria', 'Atheus', 'scouts', 'slavery', 'Papers', 'wile', 'Plate', 'Ihop', 'Faced', 'EDGE', '810', 'breathable', 'Closed', 'Captions', 'TravelWriterDB', 'Flatscreen', 'befriend', 'MAXIMUM', 'SHAME', 'dIfferent', 'mustr', 'thyan', 'discomforts', 'origionally', '8PM', 'Primarily', 'immersed', 'wiff', 'liken', 'WOULDN', 'Heaps', 'contemporay', 'atributes', 'Dominick', 'Norh', 'Randolf', 'priviate', 'amtrack', 'Serafina', 'focaccia', 'Hearty', 'Penney', 'Secrets', 'everage', 'Episcopal', 'Devil', 'Sine', 'Anachronism', 'Salle', 'Ferris', 'Spook', 'Sienfeld', 'forthe', 'fid', 'Exceeds', 'massivly', 'accommidating', 'phoney', 'sobered', 'capper', 'massively', 'Tripadviser', 'wery', 'simpel', 'longed', 'fruites', 'Impact', 'barthrooms', 'contra', '430', 'Kuerig', 'ironwork', 'rails', 'Savannah', 'wlking', 'smalls', 'hugging', 'vaunted', 'skimpier', 'purified', 'manuevered', 'swimmer', 'Azalea', 'Langan', 'Kristina', 'Vacations', 'hale', 'Alls', 'milder', 'chamber', 'Joyce', 'Roth', 'Anton', 'Vietnamese', 'Deip', 'contaced', 'tonic', 'Autotestcon', 'BCC', 'AutoTestCon', 'SOCIETY', 'apps', 'bathmat', 'Thrifty', 'usally', 'expectatoons', 'veryglad', 'sherry', 'shortish', 'Chandelier', 'crystals', 'delapidated', 'Attrocious', 'snobbiness', 'pollock', '1021', 'Anchorage', 'bif', 'Burkes', 'hancock', 'Shalimar', 'Chutney', 'tingle', 'anime', 'stencils', 'alcoves', 'inflow', 'timesquare', 'recok', 'Oscars', 'Internal', 'nets', 'threat', 'overpopulation', 'recital', 'creature', 'ZONIES', 'copared', 'mricrowaves', 'SoMA', 'anice', 'Wereceived', 'itis', 'restauran', '0445', 'instantanously', 'queit', 'Forth', 'influx', 'Johna', 'Grafted', 'Tarriff', 'lanterns', 'rectangle', 'architects', 'Interet', 'governed', 'diagram', 'sweetner', 'MGM', 'GOSH', 'fantabulous', 'baguls', 'calendar', 'occurs', 'webiste', 'disapoint', 'llike', 'airconditioned', 'cannery', 'Robbed', 'unauthorized', 'escalated', 'remediation', 'ellyptical', 'PGA', 'backwoods', 'sweethear', 'upmaket', 'Adpolphus', 'Cactus', 'Tollway', 'scoot', '1310', 'Campaign', 'Gathering', 'Brigantines', 'nr', '245', 'emptying', 'Hugely', 'Hallmark', 'endtable', 'unlit', 'stairmaster', 'pergola', 'BIRTHDAY', 'WONDEFUL', 'choclates', 'chruch', 'Houstom', 'Pappas', 'varnish', 'iff', 'Desktop', 'healthful', 'backaches', 'cheerleaders', 'hovels', 'Maytag', 'Parmesan', 'BLX', '50s', 'tix', 'planespotters', 'quested', 'openning', 'inhalation', 'imitation', 'raises', 'Comically', 'graffiti', 'kay', 'gambling', 'john', 'Merchant', 'smokes', 'tuck', 'spike', 'Dieigo', 'US645', 'Howerever', 'dripolator', 'cues', 'ither', 'dowstaies', 'mauldy', 'Yak', 'scanner', 'numerical', 'butcher', 'Jovi', 'hails', 'facils', 'firealarms', 'spillages', 'amuck', 'belligerent', 'stalling', 'Chad', 'Patel', 'loopholes', 'ploy', 'reds', 'zebra', 'Hercules', 'Serviceable', 'SInk', 'Jonathon', 'unusally', 'segment', 'ADR', 'Cockroaches', 'chillin', 'alsooffer', 'tshirt', 'prude', 'bashing', 'Apologised', 'Id', 'contests', 'pong', 'foose', 'Icee', 'excesses', 'grander', 'des', 'toils', 'commanding', 'chorus', 'Relaiable', 'SFD', 'Conserve', 'resourses', 'Wiki', 'concise', 'Randi', '1704', 'mollify', 'heeds', 'imput', 'damning', 'appoint', '1535', 'implemented', 'insignificant', 'highy', 'Pottery', 'Cinemark', 'Webster', 'cnn', 'cigarrette', 'Informed', 'griddle', 'bandits', 'plating', 'refurbushe', 'vowing', 'Rachelle', 'Carnegy', 'Martinis', 'irish', 'sprayer', 'Experince', 'personna', 'hereinafter', 'turbulent', 'Nizt', 'undertaken', 'toiletiers', 'sconce', 'Kraski', 'springtraining', 'semblance', 'spectatular', 'sprinklers', 'swank', 'tangelo', 'kiwi', 'russian', 'drisco', 'Avant', 'Vietnammise', '25K', '29pm', 'JETSIDE', 'TAKING', 'LANDING', 'RESTBITE', 'runnway', '1843', 'macadamia', 'rationed', 'appartment', 'Heading', 'Zeeshan', 'Popsicles', 'hoho', 'seein', 'bookded', 'anyflor', 'rubberbands', 'Emergen', 'toothpastes', 'FP', 'aristocratic', 'affix', 'Cap', 'RESPONSE', 'WESTIN', 'negligently', 'deflector', 'surfer', 'stree', 'Results', 'Vary', 'Closets', 'instructive', 'BATES', 'Christen', 'Supurb', 'juddery', 'panicky', 'rea', 'wisened', 'riverwak', 'acutally', 'lysol', 'deepere', 'Sangria', 'peeps', 'PAID', 'whirlwind', 'EGYPT', 'peice', 'sickeningly', 'pillowcase', 'cleans', 'lesure', 'Habor', 'WINDOWS', 'Fitch', 'visiit', 'Tiffanys', 'tookt', 'harbourview', 'FLY', 'DRIVE', 'TIGHT', 'speeding', '9lb', 'yorkie', 'recoommend', '4children', 'meanly', 'Nickle', 'Dime', 'thematic', 'ballads', 'cappuccinos', 'maize', 'wholesale', 'rattling', 'isolate', 'ices', 'romm', 'everyting', 'collaborative', 'Cristina', 'Piazza', 'Wins', 'bypassing', 'Greenville', 'Deep', 'Ellum', 'Chesterfield', 'modes', 'straws', 'cean', 'wads', 'Juliaanna', 'Mtn', 'Waldof', 'WOWed', 'Crabby', 'demonstration', 'CRABS', 'paticipate', 'Trivia', 'prizes', 'Aged', 'bellies', 'tipsy', 'jutting', 'violates', 'codes', 'professed', 'knownthisnis', 'Lumpy', 'vacas', 'sleelp', 'downtime', 'beifore', '3M', 'EAR', 'nuissance', 'internally', 'stable', 'stians', 'aboultly', 'ghirideil', 'chestnut', 'faboulus', 'BRRRRRR', 'surfed', 'Moses', 'sensing', 'moisturize', 'Scope', 'sophisitcated', 'drycleaned', 'tinge', 'Velma', 'Cinemas', 'plunged', 'unblocked', 'janitor', 'Elys', 'Sanitation', 'BARELY', 'bidet', 'PITCH', 'powering', 'Washroom', 'skycrapers', 'leafy', 'illegible', 'handbook', 'localisation', 'shoppping', 'sanity', 'relates', 'lore', 'advancements', 'priveleges', 'weirdly', 'quails', 'heightened', 'Selected', 'SLC', 'charme', 'Chills', 'alchemy', 'canoe', 'childern', 'basicly', 'LaMoore', 'litigation', 'disrespected', 'billion', 'extremes', 'Filippi', 'Carpe', 'Stables', 'ck', 'cked', 'Flavor', 'Jour', 'sylish', 'politicians', 'coackroch', 'thriiled', 'THATS', 'COVERED', 'REFRIG', 'NEEDED', 'PADRE', 'GAME', 'Resturants', 'THOSE', 'STATE', 'YRS', 'showercap', '20hrs', 'Minimal', 'accomodae', '8yr', 'Izzy', 'seedier', 'retaining', 'Rec', 'cannt', 'Obel', 'itmes', 'cruddy', 'Parents', 'UPDATE', 'cert', 'ATTENTION', 'FLIPPING', 'OVERPAID', '6455', 'Denton', 'tx', 'recomending', 'Redesign', 'multipel', 'League', 'compfortable', 'Grandparents', 'wti', 'liver', 'pate', 'simpy', '0c', 'trudging', 'perilous', 'mediates', 'floats', 'seamlessly', 'biergarten', 'bain', 'affording', 'repose', 'M60', '53rd', 'sunrises', 'sleepy', 'shimmer', 'revel', 'glittery', 'sobering', 'circus', 'forbidden', 'giftstore', 'ciggies', 'stockup', 'icebuckets', 'Stage', 'foolishly', 'Bellboy', 'disappointred', 'HDMI', 'consturction', 'Staybridges', 'scrabbled', 'zoos', 'Milady', 'Victor', 'manged', 'cussing', 'seekers', 'specifies', 'decreasing', 'rains', 'rehearsing', 'Celsius', 'unlke', 'aircons', 'australia', 'Everythnig', 'elaves', 'additiona', 'Microsoft', 'heats', 'airless', 'cofy', 'lingering', 'MN', 'whale', 'metrocard', 'Venture', 'Clairemont', 'Kearny', 'pantries', 'outdate', 'Munsters', 'worryingly', 'enamel', 'trauma', 'Artisan', 'receiption', 'starfbucks', 'velour', 'Extensive', 'squeeky', 'cannolis', 'Sale', 'cutback', 'Claiming', 'spraining', 'POOOOR', 'echoes', 'compass', 'establishing', 'halogen', 'Crest', 'Nyc', 'kunstnagel', 'nagelkunst', 'Greetings', 'germany', 'alex', 'halis', 'straining', 'abvice', 'hesitations', 'Forteen', '255', 'excellet', 'Paks', 'unk', 'Unmatched', '2day', 'buckwheat', 'inconvienance', 'icluding', 'Happening', 'gaslmap', 'Dissapointing', 'PDA', 'Chilled', 'Tombstone', 'SH', 'Seating', 'Buisness', 'suspended', 'plessant', 'concierce', 'ofany', '2405', 'Str', 'entertainments', 'FB', 'crowdiness', 'eagerness', 'Wyatt', 'linoleum', 'aluminum', 'gunk', 'Mededmbo', 'moldly', 'skyrocketed', 'conversions', 'lofts', 'bestowed', 'cargo', 'crate', 'Affiinia', 'beautifications', 'devotion', 'Irons', 'uncomfitable', 'bot', 'ajoining', 'rcommend', 'paied', 'gateway', 'Bruschetta', 'Pasqual', 'integral', 'fillet', 'cashed', 'hotspot', 'TSA', 'liberated', 'indentation', 'competiton', 'survice', 'Roosvelt', 'bunkbeds', 'unsympathetically', 'cacel', 'thpigh', 'Cedric', 'morningand', 'exttremely', 'clearning', 'accrued', 'Itty', 'Bitty', 'Hearted', 'recentley', 'knickerbocker', 'expectant', 'glaring', 'awkwardness', 'fused', 'brow', 'breakfastst', 'entr', 'Celebrate', 'smithsonians', 'conundrum', 'Tipping', 'psyche', 'accuses', 'maintainance', 'Torn', 'comedian', 'mordern', 'extorntionate', 'AWARE', '40mins', 'Sounds', 'NEAT', 'GAVE', 'FINaLLY', 'expiration', 'Looooooong', 'whittle', 'Irishman', 'onl', 'MainLine', 'Kenter', 'Bundy', 'notepaper', 'dicy', 'Telegraph', 'througout', 'modernisation', 'Unfortunatly', 'Benvenuto', 'Plently', 'jiggled', 'Bobby', 'contacts', '1206', 'blinded', 'restricted', 'crowing', 'Smashing', 'Indulge', 'tipple', 'Chryster', 'other2', 'Cobb', 'phrases', 'Jone', 'lyrics', 'brushes', 'pleae', 'falt', 'Collete', 'swissotel', 'WeIf', 'Vidalias', 'hover', 'Airtran', 'Stn', 'recommonded', 'DESCRIBED', 'Jared', 'toilette', 'Bunk', 'btwn', 'Bombs', 'GDs', 'Ebreaks', 'Delicatessen', 'coffeebar', 'parkland', 'Politeness', 'Motion', 'waliking', 'BIGGEST', 'hospitalty', 'Jeanne', 'Arc', 'violinist', 'Rajan', 'Mimi', 'genuinly', 'helpsome', 'waite', 'extremley', 'glazzing', 'steamy', 'advertisements', 'boast', '388', '73', 'Pine', 'Parisienne', 'plateful', 'WXYZ', 'Convinent', 'grandaughter', 'droopy', 'Hopsital', 'Brookline', 'CityScape', '422', 'marking', 'SWEET', 'SPOT', 'CHICAGO', 'FOX', 'Catered', 'MIght', 'gall', 'Podunk', 'EMBARRASSED', 'screamin', 'lifeless', '140X190', 'daffys', '50st', 'plce', 'reccomand', 'exquisitely', 'Zinzanni', 'accoustics', 'inablility', 'Build', 'smacked', 'tare', 'bullhorns', 'quallity', 'consdiered', 'SLIPPERS', 'Palomars', 'Thirdly', 'reheated', 'sandwhiches', 'Costco', 'mistakem', 'bigwigs', 'favoitre', 'Bridgette', 'Margie', 'Fooey', 'ix', 'Reluctant', 'Partying', 'TC', 'increadible', 'gummy', 'Kabita', 'waitng', 'stance', 'cautiously', 'Eeeewie', 'hangng', 'infestion', 'squemish', 'eeeewieness', 'softdrinks', 'NOTICE', 'THOUGH', 'BACON', 'LOVELY', 'ByRequest', 'Chardonnay', 'BabyBel', 'Velocity', '20am', 'Cabana', 'dedicate', 'taller', 'rider', 'dyed', 'hamster', 'booger', 'wars', 'laser', 'podium', 'SkyBar', 'aut', 'und', 'cordiality', 'Herta', 'RI', 'ande', 'Scaramellino', 'beard', 'uncertain', 'Unenthusiastic', 'Voss', 'Fix', 'riddled', 'earnestly', 'liners', 'Eww', 'Sherer', 'surronds', 'disneylands', 'pretense', 'relace', 'Cat', 'drummer', 'Sausage', 'Kadoorie', 'london', 'interet', '103st', 'critcize', 'priace', 'flier', 'jeez', 'dustpan', 'sweeps', 'CARPET', 'Proclaims', 'Esp', 'discs', 'Severely', 'Resevered', 'availabel', 'reservered', 'trus', 'retention', 'picketers', 'fufillment', '2th', 'teriaki', 'Spain', 'screenTV', 'uncomfortalbe', 'intrusion', 'resilience', 'crumpled', 'spoiler', 'Chalking', 'Dressing', 'Barbecue', 'inChicago', 'theprice', 'bck', 'DTC', 'cloused', 'alwayes', 'I95', 'sketched', 'Igor', 'recharging', 'Rowes', 'instuctions', '4202', 'beachside', 'lanai', 'Cabanas', 'ffeel', 'Barman', 'Baleen', 'confessing', 'scavange', 'holed', 'luxuriate', 'FUSSY', 'nighttables', 'restock', 'baskets', '335', 'YUCKK', 'prodded', 'Memo', 'swarms', 'litttle', 'ihop', 'tocks', 'ke', 'Etc', 'mortgage', 'Locker', '72F', 'Justice', 'retraining', 'HELPFUL', 'Noah', '56th', 'handprint', 'Mould', 'powel', 'IWC', 'Belief', 'anticipation', 'Mullins', 'untrusted', 'preceding', 'prairie', 'grasses', 'firework', 'kissing', 'epsom', 'rubbsh', 'plonk', 'Allows', 'repeats', 'itside', 'Tripadvsior', 'guage', 'Recommending', 'tomb', 'Millineum', 'vista', 'Lovin', 'iI', 'deff', 'Sand', 'Romeo', 'Absinth', 'chute', 'disguisting', 'luckly', 'licking', 'bitting', 'cocroaches', 'madarin', 'Unhappy', 'Midwesterners', 'Tussad', 'bummed', 'Penhaligon', 'Vynl', 'Eatery', 'congratullated', 'Gran', 'mast', 'logistic', 'bassinet', 'rececieved', 'Bevo', 'Dwayne', 'wasnlt', 'copmlimentary', 'Dalton', 'UTSA', 'anycase', 'Amir', 'bestfriend', 'Citronelle', 'desires', 'Chicage', 'encoutered', 'modren', 'Plano', 'Cowboys', 'Errin', 'unbeleivably', '5402', 'alterantive', 'Powers', 'champagn', 'HELIX', 'Creative', 'concelation', 'pig', 'bracelet', 'Cheek', 'comforable', 'Wheels', 'Yelp', 'Proposed', 'amateur', 'theywere', 'wretched', 'vandalism', 'Rood', 'bates', 'hairdyer', 'Richard', 'Branson', 'valentine', 'Rierwalk', 'DISCOMFORT', 'cooks', 'preferential', 'vising', 'thourougly', 'MYC', 'MASSIVE', 'missle', 'wal', 'riduculously', 'BK', 'mediorce', 'sightseeings', 'Racecar', 'Godfather', 'AUD', 'Fairways', 'unmistakable', 'Theodore', 'outragious', 'drabhart', 'sbcglobal', '574', '9201', 'validates', 'Bloomspot', 'benefited', 'nolitan', 'livinig', 'Nolitan', 'Elisabeth', 'Gitane', 'extremply', 'Casandra', 'recommodations', 'PATHETIC', 'Mallon', 'slowed', 'plumber', 'Carribean', 'Escapes', 'amenityimagineable', 'honed', 'strangeley', 'privy', 'succeed', 'voltage', 'Carry', 'matinee', 'andride', 'themostat', 'detailing', 'rocketed', 'Coudln', 'sworn', 'cancelation', 'reconcile', 'Kalahari', 'Sandusky', 'Leonard', 'shipper', 'CheapTickets', 'Dever', 'Purposely', 'WAAAAKE', 'PROTEST', 'WAAAAAKE', 'appease', 'pregame', 'Pandora', 'steeper', 'supervison', 'responsiblity', 'Plymouth', 'Wind', 'Farrol', 'Finale', 'dessertery', 'pharamacy', '8000', 'Folk', 'sence', 'vented', 'biases', 'turnoffs', 'fixtured', 'risked', 'crumbling', 'conservative', 'googled', 'bejesus', 'futurey', 'cylinders', 'falafal', 'blackberry', 'DEAD', 'ergonomical', 'Blatant', 'disrespect', 'Happier', 'Weds', 'nuttiness', 'slightlier', 'spark', 'Waterbeds', 'streetside', 'chemist', 'GameBoy', '185', 'ensuites', 'compromises', 'aour', 'pronto', 'bowed', 'nignt', 'xoxoxoox', 'calcified', 'reentered', 'LEX', 'Stephen', 'Wave', 'Daisy', 'Dooks', 'ont', 'Affinias', '88', 'CHOICE', 'grumbling', 'Alofts', 'twiddling', '25pm', 'tom', 'dick', 'harry', 'authorize', 'PLEASED', 'PEARL', 'productions', 'Mourad', 'ict', 'roomkeys', 'Yhe', 'dorms', 'HBEL', 'Cedars', 'SInai', 'jello', 'WIthin', 'morphine', 'HOSPITAL', 'COCOA', 'cemented', 'BAir', 'BH', 'BEL', 'drooping', 'fawn', 'wealthier', 'Casablancas', 'tailoring', 'oooh', 'foamy', 'occasionaly', 'Dire', 'trukers', 'bert', 'demarco', 'slug', 'Overhaul', 'Matters', 'Motel6', 'abuse', 'Oaklan', 'Nicolette', 'CityPasses', 'Reviewed', 'Abboccato', 'Wripped', 'da', 'cnt', 'dedided', 'shoots', 'Artsy', 'bussel', 'TSquare', 'Tussaud', 'EWR', 'Whatburger', 'minal', 'honymoon', 'valor', 'jeeebus', 'Gasoline', 'Firegrill', 'legit', 'CONDITIONING', 'GoodLuck', 'Marin', 'Highlands', 'windsurfers', 'useable', 'WPA', 'Balclutha', 'sailors', 'deca', 'menue', 'Budweiser', 'scrutinizing', 'photocopied', 'proves', 'Ruben', 'Tells', 'thery', '191', 'Pitiful', 'Dominican', 'mooners', 'weds', 'Jewelry', 'Cort', 'rowdier', 'exterience', 'awestruck', 'Crossland', 'housekeekping', 'Opened', 'scurrying', 'Vaness', 'Croatia', 'speakeasy', 'concerened', 'Benefit', 'shonky', 'eighteen', 'FLORENCIO', 'directios', 'DOVE', 'DANIELLE', 'ANDRE', 'HARKLEY', '927', 'SEPTEMBER', 'THRU', 'OCTOBER', 'expecation', 'Federealist', 'finatics', 'peppermint', 'chaufferred', 'crazier', 'stagged', 'Bartram', 'Roku', 'Amore', 'Allora', 'Cucina', 'Italiano', 'reture', 'unles', 'Alcatraze', 'diagonally', 'Burhnam', 'heroin', 'bristo', 'unappetizing', 'thaqn', 'haqd', 'brusel', 'sprout', 'steaming', '1005', 'Surreal', 'Drilling', 'Banging', 'Constantly', 'thrills', 'Beena', 'emenities', 'misleads', 'cultery', 'fats', 'sugars', 'defrosts', 'proxemity', 'moulding', 'Mamma', '98th', 'Circa', 'broadcasting', 'Minetta', 'Orientals', 'sensational', 'truckstop', 'soliciting', 'Reecption', 'attented', 'sauntered', 'arrving', 'feeeling', 'misdelivered', 'saff', 'Destressing', 'destress', 'overflows', 'rmedy', 'Unfortrunately', 'gane', '4stare', '6star', 'webb', 'attaractive', 'lorries', 'Pooch', '1500', 'Francie', 'textured', 'fiddle', 'bombarded', 'sizzle', 'capsules', 'testosterone', 'scoffed', 'aftertaste', 'Paking', 'rigatoni', 'reaviews', 'ralph', 'whelming', 'recognizes', 'friendlyand', 'Crestwood', 'Exceded', 'assigning', 'affords', 'disgruntle', 'strengthened', 'Jeffifer', 'Martir', 'Wrestlemania', 'modernly', 'underhanded', 'capitulated', 'unspecial', 'volunteer', 'dislodged', 'esteemed', 'Skaggs', 'Witte', 'supervising', 'demonstrates', 'PAX', 'withdraw', 'Printed', 'Conventions', 'Seatlle', 'NEUTRALS', 'enthausiastically', 'inconvienence', 'angeled', 'CROWDED', 'entryways', 'crowdedness', 'RIP', 'askthe', 'SUMMARY', '236', 'certqain', 'GARY', 'WANDA', 'valvue', 'choclolate', 'coupins', 'BROUGHT', 'holy', 'Cassie', 'friendiness', 'cranking', 'Darn', 'oily', 'Wilmington', 'Michgan', 'thunderstorms', 'HIGHLIGHTS', 'Sparks', 'Unprofessional', 'authorisation', 'gettting', 'Michecl', 'geez', 'Unreal', 'FACT', 'BEYOND', 'UPSET', 'ucla', 'faul', '9yrs', 'Gauguin', 'Exhibit', 'Katya', 'Railway', 'mute', 'Smog', 'poles', 'healthier', 'overcharges', 'horrors', 'detest', '2star', 'Trapped', 'standed', 'Advantages', '4007', 'Jumbotrons', 'piledrivers', 'condusive', 'unadvertised', 'amends', 'untidiness', 'atttended', '615pm', 'retutrned', 'SINK', 'FIXED', 'Unbeleiveable', 'Amidst', 'FORGET', 'questionably', 'ricochet', 'opnion', 'proclaiming', 'accuse', 'sniffed', 'groped', 'shred', 'Lisette', 'Omnis', 'Kearney', 'loftier', 'unappetising', 'swiping', 'outsourced', 'learners', 'Corkey', 'ginseng', 'gumball', 'dollowed', 'suprises', 'hubub', 'rumpled', 'LRT', 'dashed', 'dehumidifier', 'mustiness', 'Liza', 'rugelach', 'squeegee', 'Statae', 'unflappable', 'Nady', 'Papadeaux', 'Kitchenettes', 'disenchanted', 'availble', 'penalizing', 'punishment', 'explaing', '380', 'Compliments', 'coordinated', 'oppossed', 'reommend', 'incompetents', 'ingracious', 'Secure', 'EXTENSIVE', 'Permits', 'triples', 'brandy', 'THeatre', 'Andrea', 'perked', 'accesable', 'Lobos', 'tels', 'requisite', 'scarf', 'casement', 'captions', 'Overalll', 'holey', 'Buck', 'poshest', 'Elways', 'Haul', 'recon', 'vessels', 'originate', 'Anti', 'Submarine', 'Warfare', 'remover', 'becauses', 'Quacky', 'Quackles', 'CHARGE', 'EXTRA', 'ACCESS', 'nickeled', 'gummies', 'Southport', 'Carrabba', 'Cheeseburgers', 'Wendys', 'Offbeat', 'scares', 'upsets', 'gentrification', 'irritants', 'adhered', 'assertive', 'undue', 'unsociable', 'coit', 'puck', 'rther', 'Connors', '132', 'Marroitt', 'Tetter', 'Steppes', 'Tarver', 'awed', 'fidgeted', 'loomed', 'Exoerience', 'worrried', 'cna', 'sep1', 'storys', 'truluks', 'beltline', 'omeletts', 'touchy', 'descibed', 'knowingly', 'poolI', 'saltillo', 'Gulliver', 'Newpapers', 'particulier', '1907', 'Celebrating', 'cicumstances', 'socialising', 'gasping', 'COUPLES', 'solitude', 'limping', 'Niehaus', 'YOUNG', 'CONTACT', 'BECAUSE', 'SOLVED', 'exercised', 'smoothless', 'SBC', 'predicament', 'Jamie', 'immensly', 'Sidenote', 'panhandling', 'm16', 'Cocina', 'unadventurous', 'fumigate', 'infected', 'entailed', '60m2', 'imporved', 'muggy', 'smothly', 'workd', 'arivale', 'unilaterally', 'cancalled', 'burly', 'InRewards', 'accrue', 'ineligibility', 'particle', 'waterbed', 'ponder', 'midsentence', 'exaggeration', 'PRE', 'Peeved', 'scripted', 'completeness', 'acceptiable', 'suspious', 'shelved', 'meh', 'activited', 'walkie', 'talkies', 'notion', 'reactivating', 'backpacking', 'bstroons', 'Lime', 'Verbana', 'barging', 'EVERYDAY', 'outraged', 'dot', 'unlocking', 'occurances', 'instructor', 'Theft', 'breached', 'locking', 'instructs', 'therfore', 'Outing', 'Nineteen', 'Leaking', 'whiter', 'instinct', 'Sazerac', 'Monacos', 'spiced', 'canine', 'snarled', '319', 'Statside', 'cobbled', 'entities', 'VHS', 'tapes', 'EXCELENT', 'RiverCenter', 'Notwithstanding', 'stoomach', 'Donovan', 'stalking', 'Academy', 'Fashioneds', 'predated', 'obsessions', 'Misses', 'tattooed', 'toughs', 'felon', 'penitentiary', 'sensual', 'fragile', 'vulnerability', 'flashback', 'Riker', 'irrational', 'alternately', 'clobbered', 'LIGHTS', 'hereon', 'simly', 'Alphonso', 'XIII', 'Seville', 'Nacional', 'Havana', '11h', '8h', 'disconsiderate', 'nevermind', '6min', 'fathers', 'abeille', 'quaintly', 'okeh', 'instruments', 'NI', 'Pavillon', 'Anis', 'Wokcano', 'proximate', 'Bahr', 'Phonenix', 'deficiencies', 'Incorrect', 'Cacovic', 'Pieces', 'sandiego', 'concierige', 'Canden', 'Banks', 'Baltomore', 'partnet', 'roared', 'LOve', 'Saratoga', 'component', 'achieved', 'Needing', 'coaching', 'undivided', 'interupts', 'mutts', 'nutts', 'whatta', 'Alicia', 'CST', 'misting', 'OOOh', 'OOOOh', 'Ws', 'arise', 'carpetting', 'immunities', 'omellettes', 'Ups', 'qnd', 'Hunt', 'publication', 'testimonials', 'Trouser', 'dissapoinment', 'genral', 'contempary', 'detremental', 'Md', 'sashimi', 'hillier', 'prominence', 'Engagement', 'RIA', 'hairdryers', 'polaris', 'Paths', 'Pacers', 'Fieldhouse', 'Oosterdam', 'screening', 'Anthology', 'Archives', 'ultrahip', 'missings', 'colony', 'Housekeepping', 'Phony', 'Unfortunetly', 'stine', 'Lfit', 'POURING', 'circustances', '6h30', '10h30', '12h', '14h', '17h30', '19h30', '20h', '22h', 'BVLGARI', 'nearbuy', 'BLAST', 'throug', 'Lois', 'Suprisingly', 'momument', 'Kerry', 'Firmdale', 'omake', 'definly', 'Falco', 'Ahmed', 'Celebration', 'portico', 'tapestries', 'biscotti', 'implanted', 'Exiting', 'proffered', 'Baseball', 'Themed', 'wach', 'Dynamo', 'Taka', 'wern', 'buzzed', 'distnce', 'withstand', 'dowtown', 'flyers', 'jamb', 'Suggestions', 'KFS', 'Cruz', 'PL', 'expensing', 'WIth', '1834', 'fields', 'Media', 'Respite', 'flock', 'Skimmers', 'Feeding', 'Barefoot', 'friwnly', 'breakfastroom', 'licenced', 'brfore', '502', 'nutrition', 'Amalie', 'bogged', 'ores', 'Supercenter', 'Sense', 'buckled', 'Neill', '163', 'roomsin', 'BEER', 'GRF', 'Kerouac', 'manuscript', 'Christmasy', 'bookit', 'Bookit', '2370', 'Noticed', 'Ants', 'Hoping', 'Antica', 'Incarceration', 'Solitary', 'RedLine', 'boroughs', 'Hubway', 'cobblestoned', 'avenuess', 'Catwalk', '75Charles', 'Sheep', 'barred', 'sentenced', 'prettily', 'resents', 'reconstructed', 'outcome', 'Ropes', 'reasonnable', 'motoring', 'Motors', 'labyrinthine', 'orignal', 'fuddy', 'duddy', 'fisher', 'slumbering', 'CMI', 'waked', '4ngts', 'Geneva', 'Switzerland', 'prefere', 'controllable', 'ventilator', '81st', 'Thx', 'Cincy', 'evidenced', 'blighted', 'Cracking', 'potholed', 'Conservatory', 'Community', 'beuatiful', 'Challengers', 'tthe', 'consumption', 'proerty', 'facts', 'reservationists', 'departmet', 'declind', 'dials', 'inot', 'PBX', 'HOUSE', 'phrasing', 'Frustrated', 'CLAIMS', 'redial', 'promts', 'HUMMMMMMMMM', 'sasles', 'frustraing', 'assures', 'reservtions', 'eent', 'confrontation', 'correcte', 'swith', 'AGASIN', 'jerry', 'sasme', 'caslls', 'personnaly', 'ARRIVAL', 'Registrations', 'Clefs', 'panhandled', 'safty', 'Fries', 'serivcie', 'naot', 'closck', 'LIFETIME', 'muliple', 'tr', 'hroughout', 'serive', 'MAny', 'Hiltonesque', '21restaurant', 'FEMA', 'bikini', 'briefs', 'countires', 'paperclips', 'dissapointments', 'unuseable', 'postcards', 'restaurtant', 'Rossini', 'upates', 'Shellburne', 'Marjorie', 'Aberration', 'blowout', 'hamstrung', 'ballistic', 'Partially', 'throng', 'UNOCCUPIED', 'strategy', 'decour', 'SUch', 'Galeria', 'premisses', 'Libary', 'guru', 'meshed', 'palettes', 'Merchandise', 'Steves', 'Fontera', 'Maxin', 'executives', 'Int', 'ckean', 'tast', 'cunstomer', 'FAA', 'Midge', 'neutrals', 'comparisons', 'GLOWING', 'err', 'gushing', 'enamored', 'Gods', 'Twinkling', 'photograph', 'DSLR', 'DISAPPONTMENT', 'thereof', 'Walmarts', 'JCPennys', 'SEARS', 'managger', 'alredy', 'cleanning', 'watter', 'secutiry', 'cams', 'crows', 'theafs', 'Heatting', 'malfunctions', 'hardwore', 'instalation', 'intersect', 'mayor', 'rotor', 'aldo', 'ungentrified', 'launches', 'Rivingtion', 'soar', 'quilted', 'altogther', 'racked', 'commands', 'snuggling', 'roomare', 'TOWNPLACE', 'YEAR', 'CYNTHIA', 'Sharp', 'Amongst', 'Nt', 'inclination', 'minimised', 'Burglarized', 'inordinately', 'inventoried', 'canvas', 'MANAGER', 'ASKED', 'SINCE', 'ALARM', 'compounded', 'Ahi', 'Tuna', 'bclark1', 'woh', 'lab', 'satifies', 'physicians', 'advatage', 'mastered', 'humans', 'buffaloes', 'egos', 'frufru', 'Unsafe', 'strains', 'ankles', 'Blessing', 'Herbert', 'rodel', 'Frequently', 'Fleur', 'Bond', 'ver', 'hassels', 'sicilian', 'fuction', 'butternut', 'hazelnut', 'crem', 'bruele', 'maple', 'brittle', 'Yasmin', 'respinse', 'counselor', 'heaeded', 'orchard', 'Tudor', 'Charlestown', 'delilvered', 'Cily', '100f', 'Olde', 'surpisingly', 'descriptioon', 'inadequately', 'fraudalent', 'establishement', 'directors', 'zro', 'struggles', 'revies', 'soured', 'athmosphere', 'owes', 'artsistic', 'Referring', 'bick', 'BOND', 'lampshades', 'Comforable', 'customary', 'Vere', 'seeks', 'sustainable', 'credentials', 'importing', 'Scandinavia', 'despoiled', 'Unimpressive', 'phenomenally', 'crouched', 'laudable', 'Domains', 'domains', 'Addtionally', 'WISH', 'Vogue', 'refurnished', 'shd', 'nothin', 'serv', 'Bayonne', 'journely', 'pete', 'accomdate', 'ovo', 'lacto', 'Flavors', 'CAREFUL', 'PROMISE', 'streak', 'streaks', 'arbitrary', 'WRITING', 'northshore', 'Upset', 'budging', 'SushiTeq', 'Nailed', 'Olivier', 'Ernesto', 'Virtuoso', 'FOC', 'Flyers', 'staudium', 'stub', 'Mockingbird', 'ciiked', 'additonal', 'OAK', 'Cowgirl', 'Creamery', '262', 'polo', 'Ennio', 'experiecnce', 'LIberty', 'labelled', 'sloooow', 'SDCC', 'slogging', 'interviewing', '1125', 'prawns', 'conductor', 'aq', 'Resorts', 'Taipei', 'cactus', 'collectors', 'Superhero', 'Bearbricks', 'frenzie', 'seagust', 'summerday', 'Tonnesen', 'Copenhagen', 'CUBS', 'WEEKEND', 'Laurelin', 'Hefter', 'Echo', 'recalled', 'LegoLand', 'crater', 'congresses', 'ottomans', 'concentrates', 'limitless', 'verandah', 'floorplans', 'chocaltes', '100a', 'monring', 'Lynx', 'Penske', 'Hendrick', 'motorsports', 'capped', 'infrequently', 'verbena', 'awarding', 'thid', 'hhonors', 'discounters', 'louise', 'proportion', 'arthritis', 'tumbling', 'shaken', 'litigious', 'villain', 'Dalls', 'Biomedical', 'USAF', 'detraction', 'nuisances', 'Stinks', 'Finind', 'adn', 'alerts', 'avery', 'Starts', 'trickles', 'conceriege', 'pesticide', 'avoidance', 'tactics', 'disadvantages', 'frank', 'modelings', 'Napoli', 'Conscious', 'dankness', 'severeal', 'Tennessee', 'weapon', 'Jaguars', 'immenities', 'Insulin', 'refrigeration', 'cured', 'Boop', 'windos', 'aircontition', 'Unexceptable', 'expencive', 'Bladensburg', 'Monique', 'Overlooking', 'REDLINE', 'Dreamy', '12noon', 'Neeson', 'Wooden', 'Asst', 'Manageress', 'Atlantis', 'Garfield', 'aunts', 'Boca', 'airoport', 'watergate', 'Hotl', 'neighboorhoods', 'clogging', 'BCBG', 'treks', 'cartwheels', 'specfically', 'palces', 'monticello', 'blower', 'Angelino', 'inbox', 'shortest', 'colonial', 'charmed', 'Walks', 'qiute', 'bookstore', 'masterfully', 'outdoorsy', 'laughably', 'slighted', 'challange', 'satifactory', 'amusements', 'paved', 'Cheerios', 'ponderously', 'fraught', 'Salazar', 'chanels', 'Stakehouse', 'Spirit', '5miles', 'refridge', 'pretzel', 'armload', 'violently', 'ER', 'nav', 'onderful', 'seagull', 'brougt', 'MDX', 'hypes', 'Expereince', 'Prius', 'jjust', 'congrating', 'Veggies', 'heaping', 'Tracks', 'Maritza', 'expanding', 'GHOST', 'SHower', '17m', 'recumbent', 'exercising', 'CSD', 'deinitely', 'compassionate', 'abig', 'squeeked', 'Comparatively', 'RSVP44', '4929', 'Dowell', 'a1', 'Hendrik', 'bloemendal', 'False', 'falsely', 'unrenovated', 'frightens', 'Saving', 'Cucumber', 'uploaded', 'compulsive', 'trial', 'entetainment', 'McKinney', 'Strreet', 'Albertsons', 'steet', 'smoother', 'louver', 'Constatnt', 'Plumbing', 'maintaince', 'showe', 'terror', 'SEMPTA', 'Pickup', 'clead', 'Ovelrall', 'CRM', 'Thailand', 'dealed', 'pathetically', 'redeveloped', 'revving', 'Pastoral', 'mushrooms', 'creamers', 'wrappers', 'disservice', 'considers', 'STAINED', 'Pilly', 'depressed', 'squalor', 'Nifty', 'Sante', 'clippings', 'AMORE', 'PKG', 'gril', '182', 'pur', 'crepes', 'attent', 'currrently', 'Disny', 'miost', 'Dinali', 'intuned', 'handicapp', 'isthe', 'Pricline', 'Cambodia', 'paneled', 'Tulio', 'gnocchi', 'Greenspoint', 'yankees', 'giants', 'bombed', 'hasnt', 'apparant', 'grinds', 'crackberry', 'contradictory', 'commander', 'complimented', 'lipstick', 'bode', 'familiarize', 'Bumbershoot', 'aleady', 'fodors', 'Greatest', 'gasped', 'scales', 'employing', 'pecan', 'grouper', 'Planning', 'pople', 'brewpub', 'Brewing', 'hummus', 'reall', 'freeweights', 'noisty', 'excecuted', 'sexiest', 'Skyping', 'archive', 'photgraph', 'graffitied', 'champagnes', 'Dom', 'Verve', 'shitake', 'Vidalia', 'knuckles', 'penultimate', 'Against', 'shouts', 'stumping', 'Tonight', 'wrestle', 'bicker', 'trekking', '100ish', 'gettaway', 'unacessible', 'secutriy', 'Understandable', 'Drugs', 'taunting', 'blatenly', 'Chub', 'congure', 'dice', 'snorting', 'injecting', 'pawn', 'deception', 'Lang', 'scarred', 'Putnam', 'Spelling', 'Bee', 'TIX', 'Cation', 'alseep', 'tryng', 'screws', 'puncture', 'putty', 'kno', 'homecoming', 'Understanding', 'Denise', 'Dion', 'nosier', 'qliches', 'Position', 'exhaustingly', '2hours', 'Paulina', 'Castanon', 'handier', 'conmfortable', 'walkling', 'obsequious', 'sympathise', 'agaoin', 'iamwrkshy', 'wif', 'pcs', 'excep', 'Bid', 'Managed', 'Corridors', 'Pappasito', 'Especial', 'realistic', 'DNA', 'sleekness', 'sacrificed', 'calorific', 'apprx', 'telecommunications', 'Christina', 'prepaying', 'focuses', 'subscribes', 'DirecTV', 'nieces', 'bowel', 'jotted', 'Yuk', 'pales', 'Dinky', '51th', 'spiderman', '30something', 'tact', 'oxygen', 'Address', '78th', 'Suggested', 'unsincere', 'Grumpy', 'Micro', 'patronized', 'Aves', 'Seveal', 'Weekenders', 'denying', 'throwbacks', 'reeled', 'slideshow', 'swooped', 'Region', 'Maya', 'Balos', 'Issues', 'dinnerware', 'dangled', 'Knave', 'forfeit', 'Oreo', 'Asides', 'asides', 'Lol', 'Knowledgable', 'Comfiest', 'Disclosure', 'Cooper', 'pizzeria', 'Klong', 'ona', 'Gainey', 'leader', 'merecdes', 'beggers', 'acoustic', 'discomfort', 'southbound', 'headaches', 'snubs', '067', 'confiscated', 'contend', 'CEO', 'Complaint', 'halo', 'livery', 'elicited', 'profitable', 'facillities', 'defnately', 'Bedspreads', 'underlayer', 'substances', 'gelationous', 'residue', 'offramp', 'Shockingly', 'Dancing', 'Shanghai', 'Browning', 'trio', 'pricelessly', 'grower', 'challet', 'jetty', 'educational', 'Braham', 'Holister', 'lulled', 'cassette', 'boombox', 'Kitch', 'iPOD', 'Rocks', 'ENJOY', 'LIME', 'DECOR', 'POP', 'buster', 'Sprang', 'moneys', 'pizzaria', 'undoubtidly', 'impersonnable', 'clanked', 'convinved', 'privelage', 'beamed', 'Des', 'knowlegde', 'creamcheeese', 'competiive', 'UNBELEIVABLE', 'Options', 'Assisting', 'MIT', 'Sloan', 'Convocation', 'marine', 'Tank', 'fronm', 'lotsa', 'somethin', 'spectatcular', 'cigs', 'wetlands', 'Tricky', 'gaved', 'Othe', 'explaines', 'stoled', 'ubicated', 'permeates', 'adagio', 'atractive', 'quaity', 'newpaper', 'Cortez', 'principles', 'fauxhogany', 'Poplar', 'BUSY', 'Deux', 'Trois', 'cafeundeuxtrois', '10036', '354', '4148', 'Realtor', 'DeniseMadan', '786', '344', '8004', 'Madan', 'Dwain', 'ART', 'SOUL', 'YEA', 'overcrowding', 'shipyards', 'NavSta', 'Aparently', 'buidlings', 'distruptions', 'earkly', 'rathered', 'incomparable', 'Plates', 'spices', 'disapppoint', 'compactor', 'Poorly', 'ruled', 'conceal', 'COPS', 'hutch', 'Coutyards', 'Lena', 'Natasha', 'Kasai', 'arises', 'OCD', 'clenliness', 'smouldering', 'beacon', 'rainforest', 'walkingdistance', 'experienceed', 'correcteed', 'Hiltononors', 'daylong', 'Happenin', 'includung', 'Neaer', 'inspectors', 'trawling', 'extortionately', 'indisputably', 'flurry', 'devoted', '1645', 'Eeeeeuwwww', '085', 'Munich', 'winds', 'rancid', 'esthetics', 'Scruffy', 'pinky', 'vile', 'toasty', 'grille', 'penetration', 'draught', 'brigade', 'Wondrful', 'preseneted', 'nanny', 'iternerary', 'vegtables', 'SUperb', 'scilent', 'Changer', 'disappoited', 'downdown', 'crappier', 'diisappointed', 'hocked', 'workman', 'grafetti', 'deprived', 'Neapolitan', 'Authentic', 'Naples', 'Humvee', 'terrifically', 'Yor', 'restrauant', 'av', 'ThePod', 'loathed', 'slime', 'maitre', 'fingernails', 'judges', 'overcompensation', 'attenddees', 'dis', 'girlfrined', 'SOX', 'giveaway', 'curtanis', 'thurs', 'shiner', 'bock', 'tiiiiny', 'onramp', 'Menil', 'mont', 'rape', 'boo', 'Glorified', 'Backpackers', 'petco', 'becauseof', 'excpect', 'thlocation', 'roughest', 'compar', 'undoubtly', 'confronting', 'Spankin', 'sprayers', 'midsection', 'rrom', 'Buzzy', 'pelasure', 'anonimity', 'abuzz', 'XYZ', 'mono', 'sociable', 'cleabed', 'spongy', 'whooshing', 'oversooked', 'disclaimer', 'Evanka', '744', 'Ghitea', 'monstrous', 'Farfax', 'yor', 'Farifax', 'Cirlce', 'Lorena', 'Lopez', 'Vera', 'galance', 'Boyolston', 'Bangkok', 'EMpire', 'Unimaginable', 'committment', 'grouch', 'Abdullah', 'Oval', 'unforgetable', 'plying', 'immedately', 'serivce', 'podcasts', 'podcast', 'Ebitts', 'Dulles', 'skeezed', 'playwright', 'AutoZone', 'disspointment', 'suppposed', 'bedsit', 'urging', 'outwith', 'Viginia', 'Airlink', 'irport', 'yellowcab', 'stiffing', 'Bother', 'grubbier', 'Ric', 'mainstay', 'SEVEN', 'gratituty', 'barneys', 'Banoub', 'towell', 'Drag', 'walkout', '5stars', 'endearing', 'convieniently', 'Noisey', 'acomidating', 'claging', 'preaching', 'coffemaking', 'Laguna', 'Cullen', 'Penne', 'Rustica', 'wihin', 'Chicag', 'abd', 'Dairy', 'veering', 'adjectives', 'Hawthorne', 'OC', 'Debit', 'Tubs', 'peoplemover', 'extreemely', 'Freezing', 'Gramecy', 'Disappoint', 'Fitz', 'failures', 'Appearances', 'conned', 'Plazas', 'durng', 'berate', 'groomed', 'enclose', 'Kalala', 'uptight', 'Eminem', 'dvds', '379', '1000x', 'contest', 'forked', 'celbrate', 'centrall', 'concluding', 'scampi', 'swiming', 'Tomorrow', '214', 'sanitized', 'Earl', 'Shelly', '1411', 'closeups', 'Lynch', 'Coolidge', 'lands', 'buildup', 'Monet', 'bk', 'sandals', 'forfit', 'translates', 'TRUMP', 'onlt', 'pointer', 'perfecto', 'bigbluebus', 'Bruin', 'pursued', 'Clincher', 'arrivel', 'desiring', 'reccomendation', 'Moc', 'Answered', 'ELP', 'Rechlis', 'Friendliness', 'wadded', 'overtone', 'polluted', 'slumber', 'comatose', 'iceberg', 'werevery', 'hindered', 'myenjoyment', 'overally', 'Leaven', 'Weak', 'Springsteen', 'serivice', 'intruding', 'frees', 'lottery', 'todo', 'WHY', '6ft', 'blanked', 'virgin', 'friendlieness', 'Mathilda', 'Siberian', 'skyhigh', 'bluberry', 'mismanaged', 'prepped', 'hampered', 'smarten', 'multinight', 'anywere', 'Jamile', 'summonded', 'Ollie', 'undisturbed', 'shoppes', 'bunkbed', 'snd', 'sixflags', 'INITIAL', 'REVIEWS', 'resevation', 'expansion', 'Quizino', 'keyword', 'shoving', 'indicatiove', 'soooooooooo', 'knowlegable', 'EITHER', 'WHERE', 'fess', 'nascar', 'McDowell', 'VanBuren', 'managable', 'eggos', 'harbourfront', 'Coronada', 'Fare', 'prblem', 'easyaccess', 'goog', 'shopworn', 'kicks', 'hussle', 'bussle', 'loked', 'feasts', 'sightseing', 'perect', 'housekeepting', 'shouda', 'Legions', 'excersize', 'nitpicker', 'fragmented', 'distract', 'Directv', 'MIchigan', 'Insitute', 'locatoin', 'pursuasion', 'cramps', 'diarreah', 'Laredo', 'Ehhhh', 'roojm', 'mroe', 'deer', 'headlights', 'wreaked', 'squeaking', 'congratulate', 'Hakim', 'inducing', 'Guadalupe', '206', 'HB', 'roasters', 'restarants', 'biffa', 'keept', 'breadsticks', 'excpet', 'negotiable', 'EpiCenter', 'Mendez', 'writeup', 'Consumers', 'allege', 'woogo', 'honoring', 'underlying', 'AGENT', 'authenticity', 'pacing', 'reasonaly', 'kitchette', 'leatherette', 'armrests', 'Lia', 'quintessential', 'confernce', 'prePackaged', 'Seastar', 'hopper', 'Ditch', 'Macey', 'Waking', 'parlour', 'Kruschev', 'Kennedys', 'SFMoma', 'frenzy', 'Abri', 'Joynt', 'volley', 'horseback', 'Cave', 'bight', 'Hotelguides', 'handout', 'reservatoins', 'confrim', 'relaiton', 'schlepping', 'oddity', 'mishmash', 'plexiglass', 'FRIDAY', 'Anastasio', 'drifting', 'wisk', 'Tooms', 'bendable', 'assett', 'coniinental', 'WTH', 'antiseptic', 'commending', 'Firm', 'mitt', 'cartons', 'Nazarene', 'puffing', 'flicked', 'slat', 'bathromm', 'Nutella', 'Feast', 'Tempo', 'competively', 'scuffs', '10Mbps', '7Mbps', 'logins', 'Washingon', 'firehall', 'Lodgenet', 'rebooted', 'Tufts', 'Equator', 'astounded', 'Motlon', 'agian', 'trusting', 'berth', 'prima', 'donna', 'acccomodation', 'Aware', 'provded', 'trapeze', 'charminingly', 'lightest', 'miriad', 'Extinquisers', 'excluded', 'decoupage', 'FRIDGE', 'muddle', 'Magpie', 'transients', 'Bards', 'ashes', 'theback', 'SEcond', 'revealing', 'Orig', 'midfloor', 'evelator', 'silces', 'stoic', 'Greenway', 'Weddings', 'matron', 'curve', 'geriatric', 'flashbacks', 'chintz', 'tilt', 'discernable', 'restless', 'Brady', 'kitted', 'solano', 'Keating', 'cruel', 'Toll', 'ususal', 'stopovers', 'nontheless', 'afeild', 'snagging', 'unspectacular', 'hmm', 'occasiion', 'Meats', 'furture', 'greatful', 'Dealy', 'Dot', 'Ricki', 'Puts', 'Boerne', 'Chaplin', 'purge', 'waterway', 'intown', 'acan', 'densely', 'MISSING', 'CAMERA', 'caling', 'followups', 'camer', 'steped', 'normalsized', 'hos', 'dangling', 'resurfaced', 'gotcha', 'Amos', '2d', 'restauraunts', 'Godiva', 'adaquete', 'continent', 'calms', 'recommences', 'Vinyl', 'prevents', 'Definitively', 'workdays', 'misallocated', 'Confirmed', 'Sport', 'Homely', 'Fabulously', 'barmaid', 'ludicrous', 'statisfied', 'Cloisters', 'ilk', 'rattan', 'subterranean', 'oustanding', 'deservices', 'Sandie', 'committee', 'WOOD', 'rainstorm', 'ooooooooohhhhhh', 'SHOWERS', 'NETGEAR', 'Mas', 'Malo', 'beel', 'youen', 'defiite', 'Comforters', 'watermarks', 'Happened', 'hoht', 'Mug', 'GENUINE', 'GROUP', 'enever', 'tit', 'pesto', 'sundried', 'vinegar', 'conversationalists', 'sweepers', 'vitality', 'rational', 'publicly', 'gowns', 'POIs', 'watertaxi', 'santa', 'monica', 'CLOGGED', 'TOILET', 'Clogged', 'buoys', 'Strauss', 'incorporated', 'circulating', 'cheapens', 'increments', 'sweatpants', 'Throwing', 'crane', 'commodification', 'reconsidered', 'Lodger', 'premire', 'marcus', 'Clint', 'victor', 'hernandez', 'drastic', 'doomed', 'slendid', 'Rianna', 'Katherine', 'insiders', 'apprehensively', 'Yee', 'GUEST', 'caviar', 'touchpad', 'surpassing', 'wayport', 'EXTRAS', 'thk', 'itchen', 'driveways', 'Alternative', 'balconey', 'unloacked', 'cage', 'bozes', 'refunable', 'Luck', 'haughty', 'chinged', 'rookie', 'patronage', 'Defines', 'GRAND', 'Rivera', 'inaccurately', 'depicts', 'depict', 'masking', 'anomalous', 'refils', 'Buckeye', 'Neighbourhoods', 'spectaclar', 'everykind', 'personalisation', 'chosed', 'opposited', 'Coffemaker', 'thisi', 'vistor', 'Colins', 'wekeend', 'sever', 'blare', 'sorrento', 'UNO', 'Situations', 'Lowe', 'racetrack', 'Unbeknownst', 'FT', 'REMODELING', 'wafts', 'MISTAKE', 'Stick', 'Unseen', 'grinder', 'whistled', 'Holt', 'Jocelin', 'Messenburg', 'Banquet', 'Guru', 'thinner', 'tructh', 'sunroom', 'complainers', 'SHUT', 'STRIP', 'CLUB', 'SHOWER', 'FINE', 'MIDWAY', 'phx', 'swarmed', 'locusts', 'Wardrobe', 'warms', 'illumniated', 'soya', 'earnt', 'Doubles', 'juize', 'microowen', 'dries', 'conner', 'Franciscan', 'undermounted', 'mouted', 'Definitley', 'lateral', 'laterals', 'anchored', 'perpetuating', 'insinuated', 'issueis', 'realising', 'globes', 'cound', 'Terse', 'Bway', 'argumentative', 'spirited', 'terseness', 'sunflower', 'condominiums', 'sharper', 'Pad', 'Xbox', 'Blockbuster', 'playspace', 'Burnsely', 'merit', 'defeat', 'permeate', 'Chief', 'Wang', 'eception', 'pook', 'outdorr', 'whe', 'Consultant', 'prestigeous', 'critic', '71st', 'Ssuppose', 'asylum', 'fatten', 'Rommel', 'labyrinth', 'cathode', 'avbl', 'complimatery', 'converge', 'withiut', 'reachable', '411', 'bolsters', 'otherhand', 'primitive', 'tetchy', '529', 'Commited', 'complimantory', 'Turnover', 'inpolite', 'Burke', 'enoyed', 'htel', 'vacumning', 'clause', 'infuriating', 'Emoire', 'restaurents', 'Um', 'CHA', 'commuters', 'crossant', 'benifit', 'stephanie', 'Loew', 'FWIW', 'fished', 'colas', 'profoundly', 'Smyth', 'crazily', 'gilt', 'parameters', 'allerton', 'cordially', 'NM', 'shield', 'fetch', 'Privilege', 'allocate', 'sensed', 'lighiting', 'juxtaposed', 'attendtion', 'att', 'LTE', '4g', 'Hiltonfamily', 'handheld', 'foresee', 'charismatic', 'Frogger', 'Coordinating', 'Basilica', 'frudge', 'sduper', 'pillowy', 'underpad', 'Lava', 'cough', 'Campagne', '140lbs', 'Seaside', 'Transamerica', 'Opted', 'corned', 'benedicts', 'quesadilla', 'skins', 'modelling', 'UNHELPFUL', 'nother', 'meaningful', 'pavilion', 'YOu', 'bog', 'Occasionally', 'Figuring', 'Cakes', 'namely', 'Ciaran', 'Cann', 'modernity', 'fascination', 'savoury', 'gymnastics', 'logon', 'Handwritten', 'distanced', 'Hillstone', 'mult', 'rumors', 'THIN', 'evaluated', 'ERIC', 'favourites', 'studying', 'EATEN', 'Strait', 'Roping', 'atractions', 'eccentricities', 'Bolt', 'Heralds', 'taps', 'partyers', 'purses', '1492', 'paella', 'Forgive', 'Trespasses', 'Bailey', 'Hackett', 'yielded', 'boderline', 'encourgaged', 'chatitng', 'positiveness', 'BREAKF', 'Squeezed', 'hammers', '4p', 'touchups', 'acceptably', 'WAAAY', 'cappicino', 'TheVacationAdvisors', 'reactivated', 'reactivate', 'Factor', 'Fantasticly', 'recliners', 'regualrly', 'baloons', 'reccomendations', '2dbl', 'siteseeing', 'coulple', 'Duxianna', 'expendive', '298', 'Azuri', 'exter', 'Resonable', 'walkabouts', 'Floridian', 'phile', 'febreze', 'horible', 'CRANBERRY', 'EWW', 'SHOOT', 'LYING', 'HAPPEN', 'SMART', 'HORIBLE', 'unobstrusive', 'niceties', 'banal', 'buffetts', 'Refridgerator', 'storytime', 'mesmerized', 'Dieter', 'oiled', 'gorgonzola', 'chipotle', 'flatbread', 'supplementing', 'Franscisco', 'strore', 'bicyclist', 'narration', 'Rent', 'Nappa', 'stat', 'indooe', 'Anthonys', 'fishbar', 'cache', 'Danby', 'Appleby', 'Thistle', 'Aksaka', 'Prince', 'RISD', 'Tiede', 'Santakan', 'pester', '323', 'cupper', 'shush', 'roomie', 'climbed', 'redirect', 'louvers', 'capability', 'Wonderfu', 'inmaterial', 'ouvres', '40cents', 'Rosecranss', 'Roasecarns', 'Sal', 'Libby', 'pouty', 'humanly', 'yawning', 'CrossFit', 'Freeman', 'Disclaimer', 'Robe', 'molded', 'wknd', 'Hrs', 'Tahoe', 'waives', 'acc', 'Dora', 'gushed', 'sth', 'picture1', 'picture2', 'exaggeratedly', 'displeasing', 'atttractions', 'attatched', 'someting', 'baffled', '10minute', '15minutes', 'toasting', 'jailer', 'disputes', 'identity', 'resonates', 'warmers', 'twirl', '20x20', 'Avra', 'charitable', 'Accidentally', 'Brompton', 'Sunroom', 'LINX', 'Interactive', 'alterations', 'bobbie', 'memberships', 'eeerily', 'contractors', 'plasters', 'stp', 'Prescott', 'expriance', 'ISDN', 'deliberately', 'bathtowels', 'WEARING', 'straddles', 'harken', 'multimedia', 'absoluetly', 'restautantes', 'euros', 'SALISBURY', 'fliers', 'Cudos', 'FANTASITC', 'scrambling', '7x24', '1A', 'refillable', 'topportunity', 'Giradelli', 'NEAR', 'hellpful', 'Elsewhere', 'unenjoyable', 'Hamton', 'fooms', 'MOSI', 'Homeless', 'slammimg', 'relunctant', 'citing', 'MANAGEMENT', 'BECAREFUL', 'ITEMS', 'decoratively', 'extraordinaire', 'mccomicks', 'Quinns', 'Restaurent', 'classics', 'Gabe', 'Cinder', 'fleeting', 'Rednecktreveller', 'niew', 'superstar', 'natives', 'grudge', 'limp', 'perrfect', 'Captivating', 'amalgamation', 'alluring', 'tagline', 'Captivated', 'upward', 'rafters', 'enhances', 'accented', 'replicas', 'hangings', 'loofahs', 'videophone', 'Boozinberry', 'popularity', 'MGH', 'inhabitants', 'curiosity', 'cleansed', 'worrid', 'offereing', 'whihc', 'denomination', 'BATHTUB', 'deceive', 'Rally', 'readings', 'conformation', 'Priviledge', 'supped', 'Customers', 'enthusiasts', 'underserved', 'garnishes', '1966', 'wisherman', 'Redwood', 'Tabea', 'HONEST', 'transient', 'Parc55', 'oeurves', 'mor', 'criticised', 'misbehaviour', '287', 'crackling', '12minutes', 'smoewhere', 'swop', '908', 'orginial', 'retruned', 'indulgently', 'detracted', 'TRANQUIL', 'deading', 'wrecked', 'relieving', 'paragraph', 'bobs', 'chop', 'Disneyfied', 'preditable', 'Unfortunally', 'wissle', 'Suprising', 'tubed', 'scouring', 'strart', 'Regional', 'Shacazia', 'considerately', 'natured', 'OVERBOOKED', 'Shoulders', 'strikingly', 'Obtained', 'Edwin', '285', 'bangs', 'Faimount', 'Providing', 'render', 'Disapointment', 'tar', 'sudstance', 'subatance', 'upgarded', 'somkers', 'ogf', 'whould', 'cob', 'tearing', 'cringed', 'charrming', 'commission', 'anotehr', 'Inna', 'somehting', 'SEVERAL', 'servcice', 'odered', 'Dimmer', 'Turkuaz', 'Bwy', 'Flor', 'Awash', 'Boots', 'woo', 'hoo', 'temparture', 'refrigerate', 'understaffs', 'Digusting', 'attitiude', 'UPDATING', 'HIGHER', 'triadvisor', 'marketside', 'offferings', 'containg', 'favoured', 'Washbee', 'oppisote', 'Faulted', 'Goldfish', 'Airmiles', 'polilte', 'occaision', 'Portillo', 'swiss', 'disinfecting', 'shakey', 'revamped', 'revamping', 'antsy', 'suzanne', 'northwales', 'aug2010', 'definetley', 'recommened', 'Staruck', 'Finished', 'Elida', 'Wiberto', 'conferenceing', 'Meredith', 'grocers', 'inflict', 'Doubtful', 'compair', 'experinced', 'atempted', 'Tazo', 'Solo', 'Inroom', 'Pittsburgh', 'Dorsey', 'tennament', 'broncos', 'hiper', 'luxurius', 'lending', 'estimation', '80th', 'elipticals', '30min', 'WII', 'Spendy', 'troublesome', 'plotting', 'COOKIES', 'BEGINNING', 'humiliated', 'prompts', 'pilly', 'coffepot', 'conjested', 'shopowner', 'column', '1177', 'blizzards', '0200', 'Smokers', 'finalised', 'pressing', 'expertly', 'wacker', 'personell', 'strech', '343', 'foccacia', 'aioli', 'chevre', 'gourment', 'simpler', 'CHAOTIC', 'quircky', 'tim', 'burtonesque', 'CHARGED', 'selves', 'resell', 'Resell', 'idiots', 'ACROSS', 'spalike', 'pizzerias', 'Jinks', 'audibloe', 'Cassidy', 'Beers', 'tucker', 'cite', 'Customs', 'undbearable', 'offsite', 'whcih', '137', 'socalled', 'Ericka', 'Snobbery', 'officious', 'Midweek', 'starches', 'splurging', 'Individual', 'cocktailing', 'Clarks', 'adjoins', 'Murat', 'earliy', 'grittier', 'Helmsey', 'maintence', 'musuem', 'aquirium', 'exepense', 'minbar', 'morn', 'resaturants', 'atWwhole', 'Commissary', 'casita', 'Sunshine', 'Smoothie', 'Ahhhhh', 'Noblesville', 'stimulation', 'Rialto', 'MIDDLE', 'Coca', 'Cola', 'extremelly', 'MIchican', 'helmets', 'Sharing', 'june', 'pier39', 'Notes', 'inflitrated', 'closers', 'thunder', 'disallowed', 'curtail', 'Stamps', 'Brrokshire', 'carbon', 'monoxide', 'pardon', 'CONSTANT', 'acura', 'Frampton', 'Jermo', 'canteen', 'buildiing', 'shortened', 'blaming', 'Thouroughly', 'revelry', 'unfortunetly', 'TIny', 'tinier', 'Drawers', 'famously', 'Cr', 'Moorad', 'intruder', 'MCM', 'Elegante', 'Biff', 'Finish', 'Austrailia', 'vaccuumed', 'stateside', 'quatity', 'Mezzanie', 'Broccoli', 'comprimise', 'Cupertino', 'cupertino', 'knight', 'ridder', 'mina', 'arcadia', 'deceivingly', 'spooked', 'NYOne', 'blokes', 'Roxy', 'Power', '5144', 'reprieve', 'crushing', 'anecdote', 'Instantly', 'Mkt', 'Til', 'timeshares', 'Riggs', 'Diplomatic', 'mr', 'succeeding', 'jarring', 'CVSes', 'Baptists', 'PICKY', 'Corn', 'SPIDER', 'WEBS', 'SPIDERS', 'scenary', 'tackled', 'surfers', 'competiting', 'Marrriott', 'Convience', 'reductions', 'cealings', 'pails', 'speek', 'Keen', 'Chophouse', 'Reilly', 'ourminds', 'gether', '20minutes', 'Cupcakes', 'dnt', 'Arrivated', 'Newburry', 'Tues', 'ater', 'fluoresecent', 'Delight', 'depression', 'dollers', 'depicted', 'malfunction', 'spectacularly', 'naughty', 'Eurostylish', 'Invest', 'Weary', 'Appearance', 'Cooling', 'apathetic', 'woefully', 'Excutive', 'bedoroom', 'conrad', 'realtor', 'Sothebys', 'Kite', 'Marianne', 'extraordinare', 'Tinsley', 'gm', 'Brad', 'Lingle', 'TASTINGS', 'CAPITOL', 'GRILLE', 'memoirs', 'deborah', 'dorman', 'intenion', 'Sprinkles', 'Fatty', 'crunched', 'modesty', 'equates', 'properies', 'distatnce', 'bathroommwasextra', 'accusing', 'wheelers', 'juveniles', 'fights', 'Sailabration', 'ELEGANT', 'OFFER', 'lends', 'pied', 'terre', 'Restoration', 'Hardware', 'jaws', 'Jerrferson', 'Plume', 'ROMANCE', 'Clifford', 'beauiful', 'Hemisfair', 'Maraton', 'Staffs', 'Boylstone', 'CHARM', 'HEART', 'DIva', 'Stil', 'remediate', 'Accura', 'placards', 'Nations', 'Indhira', 'upheld', 'Readers', 'MAZ', 'MANNAN', 'Ritzes', 'Responding', '48traveling', 'Closer', 'harrassed', 'pimp', 'lopusy', 'brining', 'deskclerks', 'lobby6', 'Louisville', 'rotated', 'absoultely', 'poked', 'utilization', 'Fuqua', '1203', 'visable', 'Sargent', 'pleasureable', 'targets', 'penniless', 'poverty', 'prodigal', 'dearth', 'Nancy', 'teeniest', 'latex', 'prodcuts', 'photoshopped', 'caving', 'wwould', 'Experiences', 'Gore', 'Assisant', 'nighrs', 'pleasers', 'Bearable', 'grading', 'detrain', 'Yadda', 'yadda', 'Prairie', 'defeated', 'zucchini', 'phase', 'coupe', 'Pineapple', 'Mystery', 'evocative', 'Hammam', 'Etro', 'streetsweepers', 'travelors', 'Afternoons', 'yolk', 'Contents', 'numeral', 'Transat', 'ICHotels', 'Raddison', 'tarmac', 'barren', 'watermark', 'ascribe', 'cutbacks', 'changeover', 'privately', '157', 'marval', 'Seafair', '94', 'macdonalds', 'wendys', 'india', 'taj', 'mahal', 'ellis', 'madam', 'tussards', '86', 'scheduledid', 'ordinate', 'gayborhood', 'Corrosion', 'viewpoints', 'WaterWorld', 'Dozens', 'floaties', 'thinned', 'deepest', '6000', 'exacerbated', 'Gonzalez', 'Luminary', '198', 'organ', 'founding', 'directionally', 'Cranberry', 'uncarpeted', 'Delessio', 'Uh', 'COOK', 'transitions', 'POORLY', 'radiate', 'pushes', 'delicatessen', 'overpowered', 'Seppis', 'deliveryperson', 'coridor', 'wicker', 'acommodated', 'umbellas', 'srays', 'incurring', 'circulatory', 'MAKEOVER', 'molds', 'funtional', 'fa', 'ade', 'sportsbar', 'Pitchers', 'defn', 'homoegenous', 'Canterbury', 'Treasurer', 'Britney', 'Spears', 'decorate', 'patial', 'tolietrees', 'transmission', 'sirons', 'Alathought', 'Independance', 'immedicately', 'Estern', 'Prison', 'ghoulish', 'nighly', 'authored', 'Leches', 'decf', 'decafs', 'keyring', 'usb', '345', '365', '505sf', 'loveseats', 'brokers', 'Normas', 'breakdast', 'INSIDE', 'Edete', 'delete', '13am', 'glaringly', 'infer', 'racial', 'disquiet', 'coop', 'amalgam', 'pungent', 'Goody', 'unpleasantness', 'snorers', 'Laptop', 'laze', 'Telegram', 'flavoring', 'towne', 'spended', 'penalize', 'bracing', 'tirade', 'groupies', 'protest', 'substantiate', 'Persistence', 'voodoo', 'sleepwalker', 'owls', 'opague', 'compiliation', 'hassock', 'doornail', 'dwarfed', '1915', 'Eastland', 'plaque', 'Marrakesh', 'bedrock', 'varirous', 'averall', 'Travelex', 'ammount', 'cluby', 'redesigned', 'tougher', 'Stix', 'recaulking', 'tighter', 'Attending', 'frigid', 'strained', 'pry', 'petrified', 'Santiago', 'Yen', 'skimped', 'localized', 'preview', 'Airplane', 'totalling', 'flowered', 'comfortablenes', 'Oceans', 'facecloths', 'justifiable', 'perpetually', 'Highspeed', 'Paragon', 'servce', 'inconveniece', 'asthetically', 'FOAM', 'houskeeper', 'occaisions', 'Zagat', 'converting', 'onsight', 'Bayview', 'reprogram', 'chained', '1926', 'swiveled', '1925', 'permeated', 'Mobile', 'Crusty', 'perspectives', 'discontinue', 'Shirin', 'contemp', 'countered', 'Mateo', 'EATT', 'hoffific', 'peril', 'ringer', 'supercomfy', 'Tim', 'Hortons', 'jj', 'headphone', 'dweller', 'yells', 'rattly', 'drowns', 'Mathew', 'Cindy', 'muffy', 'buffy', 'CM', 'alllow', 'Pea', 'hispanic', 'Englewood', 'Morison', 'dignified', 'vaults', 'earpopping', 'Interval', '2900', 'golfing', 'Villas', 'Stately', 'Statler', 'restrained', 'Sparkler', 'Sons', 'throughtout', 'appeals', 'sugggestion', 'Niece', 'dishware', 'plannin', 'refidgerator', 'VW', 'MotorCity', 'Hanunted', 'dsimal', 'Mirage', 'tweeting', '2bath', 'Belly', 'captives', 'Fantstic', 'CIrcle', 'Astonishing', 'corp', 'creators', '1705', 'Attendants', 'streamlined', 'Salads', 'Granola', 'Lamill', 'Anthropologie', 'Winkler', '158', 'Felipe', 'Artisanal', 'foodwise', 'tweaking', 'lawnmower', 'isloated', '516', 'unfrienly', 'amfetamin', 'Amneities', 'Stank', 'intentions', 'Equinox', 'Cinema', 'stem', 'vacuums', 'sandwiching', 'grumbles', 'crouch', 'utilizing', 'misnomer', 'lens', '10AM', 'modernesque', 'erection', 'jackhammering', 'Simmons', 'Beautyrest', 'WorldClass', 'theSwissotel', 'fascinated', 'tai', 'heaving', 'humorous', 'loyalist', 'swankiest', 'honked', 'hobble', 'unzipped', 'intervene', 'pilots', 'DURING', 'extensionn', 'starlight', 'sessions', 'Nature', 'Texan', 'accompliment', 'epidamie', 'luxiourious', 'arch', 'CLING', 'Remote', 'SCAM', 'scammed', 'consequence', 'Paulino', 'delishes', 'Lavish', 'fairfield', 'paced', 'doubleheader', 'kidney', 'Midnight', 'Jessica', 'escargot', 'Bourbon', 'delights', 'multiracial', 'eyepatches', 'workmen', 'beauitiful', 'cabbies', 'Positivies', 'watermelon', 'yeasty', 'SEASONS', 'condscending', 'HonorPoints', 'diggs', 'tablecloths', 'complexes', 'Busboys', 'Poets', 'jerky', 'charcters', 'suburbia', 'howdy', 'doody', 'fences', 'Walgreaves', 'barclay', 'ashould', 'TRUTH', 'commissions', 'peeked', 'appologies', 'arctic', 'defusing', 'glamourous', 'absent', 'pf', 'adverse', 'dos', 'sausaliti', 'mounting', 'dialogue', 'Tow', 'reconsinder', 'disembarked', 'mortified', 'miraculously', 'boardroom', 'Melisa', 'Balanon', '767', 'imperial', 'Anzu', 'coctails', 'Rrazz', 'CITY', 'HG', 'Ballpark', 'proximite', 'jive', 'laundering', 'thrashing', 'reputations', 'pitts', 'DP', 'Sechelt', 'astroturf', 'fibers', 'Malin', 'Goetz', '05am', 'STAT', 'adieu', 'Disappointments', 'noisest', 'chatter', 'undependable', 'juggled', 'freephone', 'nos', 'dialled', 'doormans', 'teabags', 'discernible', 'Performing', 'Musem', '1623', 'insistence', '1604', '4to', 'Cranita', 'Hermann', 'Notices', 'sory', 'likened', 'Generallyspeaking', '500sf', 'deliveries', 'crackorweed', 'kkep', 'cann', 'tye', 'crackheads', 'prostition', 'runnin', 'prolly', 'wwill', 'tinted', 'ky', 'uave', 'foreal', 'hitman', 'Efficiancy', 'Pitty', 'Triumph', 'victorian', 'September28', 'moreover', 'Marks', 'misconceiving', 'cochroach', 'crosstown', 'Visiting', 'Sherman', 'Ashah', 'Sonny', 'Ann', 'Flambeau', 'refigerator', 'CROCKET', 'romace', 'medicore', '318', 'boggling', 'unethical', 'Syracuse', 'StarBucks', 'Gracia', 'layovers', 'mufins', 'jury', 'neared', 'expecterd', 'slowwww', 'maddening', 'outweighs', 'Indie', 'Besty', 'toiled', 'Meg', 'gordon', 'ramsey', 'Greenich', 'newbies', 'BUSTED', 'Ashok', 'constuction', 'wrongfully', 'percentage', 'parkingt', 'Pleasurable', 'Yact', 'Locally', 'Handles', 'flavours', 'tens', 'redress', 'curled', 'PRISTINE', 'featherbeds', 'Tmobile', 'cuter', 'improperly', 'gent', 'profusly', 'apoligised', 'theming', 'storming', 'stepchild', 'apocalyptic', 'zombie', 'Funt', 'shambling', 'monstrosity', 'Incompetent', 'concellation', 'palatable', 'squeal', 'bedstead', 'divan', 'stashed', 'mtrs', 'Sympathy', 'Lo', 'jampacked', '306', 'brownstones', 'bleachers', 'appreciating', 'Reached', 'ZIPPO', 'unwell', 'stomached', 'snowstorms', 'flyiing', 'tortuously', 'minivans', 'suiter', 'unedible', 'charred', 'Amenties', 'Least', 'ransacked', 'uhaul', 'roomate', 'absolutlely', 'mmmm', 'flagrant', 'mismanagement', 'manageress', 'Magnolias', 'Yogurtland', 'Amiss', 'posterity', 'Anticipating', 'brewing', 'rationing', 'interventions', 'atomsphere', 'Flourescent', 'Hooray', 'HHM', 'pennsylvania', 'rockafella', 'SHOPS', 'permed', 'Irritatingly', 'Oddball', '5mn', 'abaove', 'Annabelles', 'Holocaust', 'Permanent', 'Mate', 'Cutler', 'Asselina', 'UC', 'overspill', 'fobbed', 'Unsure', 'Lorna', '481', 'festivals', 'Amazingly', 'HIexpress', 'suicides', 'Tapitio', 'perch', 'Navigating', 'crowed', 'dentist', 'defiantely', 'MMO', 'clog', 'Umbrellas', 'sublease', 'Gunther', 'Woma', 'Temperpeic', 'Fans', 'prentended', 'binge', 'vwhere', 'establishent', 'Overnighter', 'heeled', 'surreal', 'sunniest', 'lull', 'a14', 'SNEAKY', 'evil', 'RAPIST', 'barged', 'TRAVEL', 'ALONE', 'WOMAN', 'uolder', 'Mexician', 'complimantary', 'Conditing', 'Newer', 'absolut', 'Elle', 'revitalized', 'affairs', 'perfecty', 'WOWS', 'harborfront', 'gracing', 'superiors', '20wk', '110V', 'Physically', 'offending', 'communications', 'defect', 'remedial', '30somethings', 'pacemaker', 'fatal', 'admisson', 'disgraceful', 'unforgiveable', 'props', 'smartphones', 'juggle', 'gradeur', 'PHH', 'GB', 'TH', 'Inaugural', 'RocknRoll', 'Fredericksburg', 'Huebner', 'Wurzbach', 'highschool', 'Dragonfly', 'detoxing', 'plebian', 'preferring', 'pastrami', 'rye', 'QUite', 'Rt', 'Marcia', 'Juneau', 'castile', 'sudsy', 'TD', 'Banknorth', 'injured', 'slided', 'nothig', 'REFUND', 'CANCELATION', 'Rice', 'Krispy', 'duegi', 'wholesome', 'Fear', 'craphole', 'Baymeadows', 'AREA', 'Corridor', 'Crackheads', 'Bums', 'Sta', 'Symphony', 'transsexual', 'hetero', 'determinant', 'pentagonal', 'nonfat', 'trippy', 'higly', 'interconnect', 'tennagers', '2xlamps', 'qdoba', 'somthing', 'BUZZ', 'partcularly', 'mnoney', 'Costumer', 'Janice', 'SLA', 'Danielle', 'jut', 'kisses', 'Giles', 'BCEB', 'jsp', 'roomId', '46108799', 'tabType', 'GDC', 'bullets', 'Ambiance', 'Presse', 'orienting', 'Clubs', 'Casablaca', 'looong', 'Staffy', 'trpoical', 'plams', 'carp', 'backdrop', 'husands', 'dopey', 'wobbled', 'backache', 'Chow', 'extrememely', 'Premire', 'whitehouse', 'USD40', 'bluntly', 'Eagle', 'ponamic', 'frequency', 'Biesty', 'uninteresting', 'Neills', 'Kimberley', 'welcolmed', 'speactular', 'determining', 'spades', 'Pots', 'dishwashing', 'blu', 'creep', 'Founding', 'Aroma', 'Sichuan', 'Potbelly', 'Rennaisance', 'CarRentals', 'Avis', 'jeep', '000miles', 'Jeep', 'Dodgers', 'Stubhub', 'Starline', 'taping', 'Whalberg', 'Romas', 'cuopons', 'veggy', 'alcohloic', 'to10', 'Hops', 'uf', 'catagories', 'KodaK', 'Wmalk', 'Miramar', 'Shamu', 'imacculate', 'vineyards', '714', '486', 'rcvd', 'shined', 'everydoor', 'Harborview', 'banking', 'evicting', 'disparaging', 'minions', 'SERIOUS', 'suckered', 'offerend', 'retreive', 'appologetic', 'leapfrogging', 'circling', 'loofa', 'Seahawk', 'Qwest', 'Ale', 'Marys', 'Vibiana', 'Solution', 'REFRIGERATOR', 'witout', 'clunky', 'Delis', 'Loddy', 'Lobbies', 'cerealNice', 'EACH', 'Shan', 'ASSET', 'reunited', 'repetative', 'unheated', 'nightfall', 'secondhand', 'pedantically', 'zipped', 'wiping', 'phonecalls', 'PreCor', 'jobsite', 'Alena', 'parrallel', 'sinch', 'WIT', 'scans', 'Parched', 'participted', 'Kristin', 'TRY', 'commodity', 'splitting', 'horrifically', 'denizens', 'os', 'experiment', 'Compare', 'administration', 'Lords', 'optically', 'axe', 'sitcom', 'snobbishness', 'pricer', 'shames', 'Horribly', 'QUEENS', 'proprietors', 'Petes', 'Flash', 'glided', 'TheBentOne', 'undergo', 'ROT', 'negitives', 'Cities', 'homeowners', 'Granada', 'thirteenth', 'Drawing', 'reacquainted', 'contactiong', 'kitchenett', 'Bahamas', 'motorway', 'tolls', '5018', 'Viva', 'Panchos', 'Dopa', 'Bubba', 'Gumps', 'Gump', 'Ticketmaster', 'Tarzan', 'jumper', 'probability', 'endeavors', 'unexceptional', 'parkway', '522', 'gauranteed', 'hooting', 'Thesalonika', 'andt', 'casemeant', 'INFO', 'READERS', 'stituation', 'Breed', 'Condone', 'Physician', 'traceable', 'outl', 'unharmed', 'minimse', 'Cleanest', 'iinto', 'OTS', 'WSJ', 'reconsidering', 'dazs', 'rifled', 'comoftable', 'hacked', 'anyehere', 'admission', 'goer', 'endulge']\n"
          ]
        }
      ],
      "source": [
        "from collections import Counter\n",
        "# Flatten the list of tokens and count the occurrences\n",
        "tokens=X_development[\"text_tokenize\"]\n",
        "filtered_words = [token for sublist in tokens for token in sublist]\n",
        "word_freq = Counter(filtered_words)\n",
        "unique_elements = [element for element, count in word_freq.items() if count == 1]\n",
        "\n",
        "# Get the number of unique elements\n",
        "print(len(unique_elements))\n",
        "\n",
        "# Get unique elements\n",
        "print(unique_elements)\n"
      ]
    },
    {
      "cell_type": "markdown",
      "id": "mdAD4tez6iJ4",
      "metadata": {
        "id": "mdAD4tez6iJ4"
      },
      "source": [
        "Unique words are not related to non-English words. They are usually misspelled or include an extra character."
      ]
    },
    {
      "cell_type": "markdown",
      "id": "NQG2e4hOAR5C",
      "metadata": {
        "id": "NQG2e4hOAR5C"
      },
      "source": [
        "#### Word frequency for positive sentiment.\n",
        "This helps to identify overrepresentation of certain words in positive or negative sentiments, guiding efforts to balance or clean the data."
      ]
    },
    {
      "cell_type": "code",
      "execution_count": null,
      "id": "cFx52hBaCnw-",
      "metadata": {
        "id": "cFx52hBaCnw-"
      },
      "outputs": [],
      "source": [
        "# Have x and y to get word frequency by sentiment\n",
        "df_development = X_development.copy()\n",
        "df_development['overall_rating'] = y_development.values\n",
        "\n",
        "# Get a sample to speed up the analysis\n",
        "sample_size = 5000\n",
        "\n",
        "# Perform random sampling\n",
        "sampled_development = df_development.sample(n=sample_size, random_state=42)"
      ]
    },
    {
      "cell_type": "code",
      "execution_count": null,
      "id": "eGQ-1kUvCMac",
      "metadata": {
        "colab": {
          "base_uri": "https://localhost:8080/"
        },
        "id": "eGQ-1kUvCMac",
        "outputId": "5f18ff5f-534d-447f-a92b-10894fcf7d87"
      },
      "outputs": [
        {
          "output_type": "stream",
          "name": "stderr",
          "text": [
            "[nltk_data] Downloading package stopwords to /root/nltk_data...\n",
            "[nltk_data]   Package stopwords is already up-to-date!\n"
          ]
        }
      ],
      "source": [
        "from nltk.probability import FreqDist\n",
        "from nltk.corpus import stopwords\n",
        "\n",
        "nltk.download('stopwords')\n",
        "\n",
        "# Function to get word frequencies, excluding stop words\n",
        "def get_word_frequencies(sentiment):\n",
        "    # Define English stop words\n",
        "    stop_words = set(stopwords.words('english'))\n",
        "\n",
        "    # Flatten the list of lists into a single list of words, excluding stop words\n",
        "    words_list = [word for sublist in sampled_development[sampled_development['overall_rating'] == sentiment]['text_tokenize'] for word in sublist if word.lower() not in stop_words]\n",
        "\n",
        "    fdist = FreqDist(words_list)\n",
        "    return fdist\n"
      ]
    },
    {
      "cell_type": "code",
      "execution_count": null,
      "id": "fe-NN6WuAZYg",
      "metadata": {
        "colab": {
          "base_uri": "https://localhost:8080/"
        },
        "id": "fe-NN6WuAZYg",
        "outputId": "2427c3f6-79d0-474e-9661-ed6b4cc58e40"
      },
      "outputs": [
        {
          "output_type": "display_data",
          "data": {
            "text/plain": [
              "<Figure size 1200x600 with 1 Axes>"
            ],
            "image/png": "[encoded data removed]"
          },
          "metadata": {}
        }
      ],
      "source": [
        "# Word frequencies for a positive sentiment\n",
        "positive_frequencies = get_word_frequencies(1)\n",
        "\n",
        "# Plot the top 20 most frequent words\n",
        "plt.figure(figsize=(12, 6))\n",
        "plt.title('Top 20 Most Frequent Words for Positive Sentiments')\n",
        "\n",
        "# Reflect the top 20 words\n",
        "positive_frequencies.plot(20, cumulative=False)\n",
        "plt.show()"
      ]
    },
    {
      "cell_type": "markdown",
      "id": "2C-cNxvlAb3A",
      "metadata": {
        "id": "2C-cNxvlAb3A"
      },
      "source": [
        "#### Word frequency for negative sentiment"
      ]
    },
    {
      "cell_type": "code",
      "execution_count": null,
      "id": "sxXDeb1IAcS1",
      "metadata": {
        "colab": {
          "base_uri": "https://localhost:8080/"
        },
        "id": "sxXDeb1IAcS1",
        "outputId": "4262ec23-201d-4f91-bb0c-187f6260d7aa"
      },
      "outputs": [
        {
          "output_type": "display_data",
          "data": {
            "text/plain": [
              "<Figure size 1200x600 with 1 Axes>"
            ],
            "image/png": "[encoded data removed]"
          },
          "metadata": {}
        }
      ],
      "source": [
        "# Word frequencies for a negative sentiment\n",
        "negative_frequencies = get_word_frequencies(0)\n",
        "\n",
        "# Plot the top 20 most frequent words\n",
        "plt.figure(figsize=(12, 6))\n",
        "plt.title('Top 20 Most Frequent Words for negative Sentiment')\n",
        "\n",
        "# Reflect the top 20 words\n",
        "negative_frequencies.plot(20, cumulative=False)\n",
        "plt.show()"
      ]
    },
    {
      "cell_type": "markdown",
      "id": "p_C8t63AJM8x",
      "metadata": {
        "id": "p_C8t63AJM8x"
      },
      "source": [
        "Overlaping of certain words in positive and negative sentiments: room, hotel, nice, staff, location, service."
      ]
    },
    {
      "cell_type": "markdown",
      "id": "adT19bNtTSjP",
      "metadata": {
        "id": "adT19bNtTSjP"
      },
      "source": [
        "#### N-grams sequence of words\n",
        "This helps in understanding context and common phrases associated with each sentiment."
      ]
    },
    {
      "cell_type": "code",
      "execution_count": null,
      "id": "fCF6iQReTRRa",
      "metadata": {
        "colab": {
          "base_uri": "https://localhost:8080/"
        },
        "id": "fCF6iQReTRRa",
        "outputId": "bf6e3326-86c7-490e-ed9a-f244b528b438"
      },
      "outputs": [
        {
          "output_type": "display_data",
          "data": {
            "text/plain": [
              "<Figure size 1000x600 with 1 Axes>"
            ],
            "image/png": "[encoded data removed]"
          },
          "metadata": {}
        },
        {
          "output_type": "display_data",
          "data": {
            "text/plain": [
              "<Figure size 1000x600 with 1 Axes>"
            ],
            "image/png": "[encoded data removed]"
          },
          "metadata": {}
        }
      ],
      "source": [
        "from nltk import ngrams\n",
        "from collections import Counter\n",
        "import matplotlib.pyplot as plt\n",
        "\n",
        "# Function to generate n-grams\n",
        "def generate_ngrams(tokens, n):\n",
        "    return [' '.join(gram) for gram in ngrams(tokens, n)]\n",
        "\n",
        "# Function to plot n-grams\n",
        "def plot_ngrams(ngrams_list, n, top_n=20):\n",
        "    # Count the occurrences of each n-gram\n",
        "    ngrams_count = Counter(ngrams_list)\n",
        "\n",
        "    # Get the most common n-grams\n",
        "    most_common_ngrams = ngrams_count.most_common(top_n)\n",
        "\n",
        "    # Unpack the n-grams and their frequencies\n",
        "    labels, values = zip(*most_common_ngrams)\n",
        "\n",
        "    # Plotting\n",
        "    plt.figure(figsize=(10, 6))\n",
        "    plt.bar(range(len(labels)), values, color='skyblue')\n",
        "    plt.xlabel(f'{n}-grams')\n",
        "    plt.ylabel('Frequency')\n",
        "    plt.title(f'Top {top_n} Most Frequent {n}-grams')\n",
        "    plt.xticks(range(len(labels)), labels, rotation=90)\n",
        "    plt.grid(axis='y')\n",
        "    plt.tight_layout()\n",
        "    plt.show()\n",
        "\n",
        "def get_tokens_for_sentiment(sentiment):\n",
        "  stop_words = set(stopwords.words('english'))\n",
        "  # Filter the DataFrame by sentiment and tokenize\n",
        "  filtered_texts = sampled_development[sampled_development['overall_rating'] == sentiment]['text_tokenize']\n",
        "  # Flatten the list of lists and remove stopwords\n",
        "  tokens = [word for sublist in filtered_texts for word in sublist if word.lower() not in stop_words]\n",
        "  return tokens\n",
        "\n",
        "# Get tokens for positive and negative sentiments\n",
        "positive_tokens = get_tokens_for_sentiment(1)  # 1 represents positive sentiment\n",
        "negative_tokens = get_tokens_for_sentiment(0)  # 0 represents negative sentiment\n",
        "\n",
        "# Generate 3-grams for both sentiments\n",
        "positive_ngrams = generate_ngrams(positive_tokens, 3)\n",
        "negative_ngrams = generate_ngrams(negative_tokens, 3)\n",
        "\n",
        "# Plot the top 20 most frequent 3-grams for both\n",
        "plot_ngrams(positive_ngrams, 3, top_n=20)\n",
        "plot_ngrams(negative_ngrams, 3, top_n=20)\n",
        "\n"
      ]
    },
    {
      "cell_type": "markdown",
      "id": "0lpZwJtyM7mC",
      "metadata": {
        "id": "0lpZwJtyM7mC"
      },
      "source": [
        "Overlaping of certain phrases in positive and negative sentiments."
      ]
    },
    {
      "cell_type": "markdown",
      "id": "umL4k0tk6m6q",
      "metadata": {
        "id": "umL4k0tk6m6q"
      },
      "source": [
        "#### Analyze Coefficients for Predictive Power\n",
        "\n",
        "This helps understanding which words influence sentiment predictions."
      ]
    },
    {
      "cell_type": "code",
      "execution_count": null,
      "id": "U2q76S4kLNt4",
      "metadata": {
        "colab": {
          "base_uri": "https://localhost:8080/"
        },
        "id": "U2q76S4kLNt4",
        "outputId": "d2dc52e5-3790-4350-e63f-5d4b4e0aaddb"
      },
      "outputs": [
        {
          "output_type": "stream",
          "name": "stdout",
          "text": [
            "Strongest predictive words for Negative sentiment: ['bad' 'ok' 'dirty' 'average' 'told' 'worst' 'rude' 'terrible' 'room'\n",
            " 'dated']\n",
            "Strongest predictive words for Positive sentiment: ['great' 'excellent' 'wonderful' 'comfortable' 'perfect' 'nice' 'loved'\n",
            " 'amazing' 'helpful' 'enjoyed']\n",
            "Least predictive words: ['authored' 'leches' 'hare' 'concierage' 'procuring' 'engraving' 'seers'\n",
            " 'zoos' 'accees' 'dumps']\n"
          ]
        }
      ],
      "source": [
        "from sklearn.feature_extraction.text import TfidfVectorizer\n",
        "from sklearn.linear_model import LogisticRegression\n",
        "\n",
        "sampled_development['text_joined'] = sampled_development['text_tokenize'].apply(' '.join)\n",
        "\n",
        "# Text preprocessing and TF-IDF\n",
        "tfidf = TfidfVectorizer(stop_words='english')\n",
        "X = tfidf.fit_transform(sampled_development['text_joined'])\n",
        "y = sampled_development['overall_rating']\n",
        "\n",
        "# Training a Logistic Regression model\n",
        "model = LogisticRegression()\n",
        "model.fit(X, y)\n",
        "\n",
        "# Analyzing coefficients\n",
        "feature_names = np.array(tfidf.get_feature_names_out())\n",
        "sorted_coef_index = model.coef_[0].argsort()\n",
        "\n",
        "print(\"Strongest predictive words for Negative sentiment:\", feature_names[sorted_coef_index[:10]])\n",
        "print(\"Strongest predictive words for Positive sentiment:\", feature_names[sorted_coef_index[:-11:-1]])\n",
        "print(\"Least predictive words:\", feature_names[sorted_coef_index[len(sorted_coef_index)//2-5:len(sorted_coef_index)//2+5]])"
      ]
    },
    {
      "cell_type": "markdown",
      "id": "9MT7FngVPiM_",
      "metadata": {
        "id": "9MT7FngVPiM_"
      },
      "source": [
        "#### EDA takeways"
      ]
    },
    {
      "cell_type": "markdown",
      "id": "bTlI-fQqP2eG",
      "metadata": {
        "id": "bTlI-fQqP2eG"
      },
      "source": [
        "\n",
        "\n",
        "*   The class distribution is significantly imbalanced\n",
        "*   There are no extremely short texts that require special handling.\n",
        "*   Unique words are usually misspelled or include an extra character.\n",
        "*   Overlapping words and phrases in positive and negative sentiments.\n",
        "*   Strongest predictive words for Negative sentiment: ['bad' 'ok' 'dirty' 'average' 'told' 'worst' 'rude' 'terrible' 'room'\n",
        " 'dated']\n",
        "*   Strongest predictive words for Positive sentiment: ['great' 'excellent' 'wonderful' 'comfortable' 'perfect' 'nice' 'loved'\n",
        " 'amazing' 'helpful' 'enjoyed']\n",
        "*   Least predictive words: ['authored' 'leches' 'hare' 'concierage' 'procuring' 'engraving' 'seers'\n",
        " 'zoos' 'accees' 'dumps']\n",
        "\n",
        "\n",
        "\n",
        "\n",
        "\n"
      ]
    },
    {
      "cell_type": "markdown",
      "id": "333cefa8",
      "metadata": {
        "id": "333cefa8"
      },
      "source": [
        "### 3. Preprocessing"
      ]
    },
    {
      "cell_type": "code",
      "source": [
        "# Convert tokens to text. To create a new column text_joined to perform further experiments with.\n",
        "X_development['text_joined'] = X_development['text_tokenize'].apply(' '.join)"
      ],
      "metadata": {
        "id": "lPO8R8oI-Gsv"
      },
      "id": "lPO8R8oI-Gsv",
      "execution_count": null,
      "outputs": []
    },
    {
      "cell_type": "code",
      "source": [
        "# Get train and text sets from X_development and y_development to perform futher experiments\n",
        "from sklearn.model_selection import train_test_split\n",
        "X_dev_train, X_dev_test, y_dev_train, y_dev_test = train_test_split(X_development['text_joined'], y_development, test_size=0.4, random_state=42, stratify=y_development)\n",
        "# stratify keeps the same propotion of classes is in train and test sets.\n",
        "# random_state ensures the reproducibility of the experiment's results\n",
        "# by providing a seed value to the random number generator"
      ],
      "metadata": {
        "id": "f_PXH-9a0gMG"
      },
      "id": "f_PXH-9a0gMG",
      "execution_count": null,
      "outputs": []
    },
    {
      "cell_type": "markdown",
      "id": "re4i5gmH8tPn",
      "metadata": {
        "id": "re4i5gmH8tPn"
      },
      "source": [
        "#### 3.1 Handling Imbalanced Class Distribution"
      ]
    },
    {
      "cell_type": "code",
      "source": [
        "# Join X_dev_train and y_dev_train to upsample minority class\n",
        "df_sample =pd.DataFrame(X_dev_train)\n",
        "df_sample['sentiment'] =pd.DataFrame( y_dev_train)"
      ],
      "metadata": {
        "id": "NFIeNzELGjPu"
      },
      "id": "NFIeNzELGjPu",
      "execution_count": null,
      "outputs": []
    },
    {
      "cell_type": "code",
      "execution_count": null,
      "id": "Ls2Sdm4TM8ME",
      "metadata": {
        "id": "Ls2Sdm4TM8ME"
      },
      "outputs": [],
      "source": [
        "# Split dataset by class\n",
        "df_majority = df_sample[df_sample['sentiment'] == 1]\n",
        "df_minority = df_sample[df_sample['sentiment'] == 0]"
      ]
    },
    {
      "cell_type": "code",
      "source": [
        "# Upsample minority class\n",
        "from sklearn.utils import resample\n",
        "df_minority_upsampled = resample(df_minority,\n",
        "                                 replace=True, #to upsample\n",
        "                                 n_samples=len(df_majority), # make minority class same length as majority class\n",
        "                                 random_state=123)"
      ],
      "metadata": {
        "id": "7qS5XWR2FlSL"
      },
      "id": "7qS5XWR2FlSL",
      "execution_count": null,
      "outputs": []
    },
    {
      "cell_type": "code",
      "source": [
        "# Combine majority class with upsampled minority class\n",
        "df_upsampled = pd.concat([df_majority, df_minority_upsampled])\n",
        "\n",
        "# Shuffle the resulting dataset to avoid any ordering bias\n",
        "df_upsampled = df_upsampled.sample(frac=1, random_state=123).reset_index(drop=True)\n",
        "\n",
        "# Display new class counts to ensure they are balanced\n",
        "print(df_upsampled['sentiment'].value_counts())"
      ],
      "metadata": {
        "colab": {
          "base_uri": "https://localhost:8080/"
        },
        "id": "Q3vWfnHEHEGL",
        "outputId": "7d5a22be-63ac-41dc-95dd-a17b99187b89"
      },
      "id": "Q3vWfnHEHEGL",
      "execution_count": null,
      "outputs": [
        {
          "output_type": "stream",
          "name": "stdout",
          "text": [
            "1    4375\n",
            "0    4375\n",
            "Name: sentiment, dtype: int64\n"
          ]
        }
      ]
    },
    {
      "cell_type": "code",
      "source": [
        "# Get X and y from df_upsampled\n",
        "y_dev_upsampled=df_upsampled['sentiment']\n",
        "X_dev_upsampled=df_upsampled['text_joined']"
      ],
      "metadata": {
        "id": "aDweWwqMH29R"
      },
      "id": "aDweWwqMH29R",
      "execution_count": null,
      "outputs": []
    },
    {
      "cell_type": "markdown",
      "source": [
        "In EDA, we noticed overlap in words and phrases across positive and negative sentiments. Advanced techniques like Word Embeddings (Word2Vec, GloVe) and BERT could differentiate based on context but are computationally intensive. A practical alternative is using TF-IDF (Term Frequency-Inverse Document Frequency)."
      ],
      "metadata": {
        "id": "zln2BajJJ7T3"
      },
      "id": "zln2BajJJ7T3"
    },
    {
      "cell_type": "code",
      "source": [
        "# Transforming text into a format that machine learning algorithms can work with\n",
        "from sklearn.feature_extraction.text import TfidfVectorizer\n",
        "# Apply vectorizer to train and test\n",
        "vectorizer_dev = TfidfVectorizer()\n",
        "X_dev_train_vec= vectorizer_dev.fit_transform(X_dev_upsampled)\n",
        "X_dev_test_vec= vectorizer_dev.transform(X_dev_test)"
      ],
      "metadata": {
        "id": "LMckT0WVEqsI"
      },
      "id": "LMckT0WVEqsI",
      "execution_count": null,
      "outputs": []
    },
    {
      "cell_type": "markdown",
      "id": "067cebcf",
      "metadata": {
        "id": "067cebcf"
      },
      "source": [
        "#### 3.2. Selecting supervised method for sentiment classification"
      ]
    },
    {
      "cell_type": "markdown",
      "source": [
        "We're evaluating Multinomial Naive Bayes, SVM, and Random Forest for sentiment analysis, using the weighted F1 score to measure the model performance."
      ],
      "metadata": {
        "id": "i3jr3nSSKVyl"
      },
      "id": "i3jr3nSSKVyl"
    },
    {
      "cell_type": "markdown",
      "id": "gunFZdd-EkCw",
      "metadata": {
        "id": "gunFZdd-EkCw"
      },
      "source": [
        "##### 3.2.1. Naive Bayes"
      ]
    },
    {
      "cell_type": "code",
      "execution_count": null,
      "id": "f-i2H8tGi-tQ",
      "metadata": {
        "colab": {
          "base_uri": "https://localhost:8080/"
        },
        "id": "f-i2H8tGi-tQ",
        "outputId": "4d6d6943-d4eb-4063-8070-860f82462a5d"
      },
      "outputs": [
        {
          "output_type": "stream",
          "name": "stdout",
          "text": [
            "F1_score: 0.862\n"
          ]
        }
      ],
      "source": [
        "from sklearn.naive_bayes import MultinomialNB\n",
        "from sklearn.metrics import f1_score\n",
        "\n",
        "# Multinomial Naive Bayes classifier\n",
        "nb = MultinomialNB()\n",
        "\n",
        "model_nb=nb.fit(X_dev_train_vec, y_dev_upsampled)\n",
        "\n",
        "# Make predictions\n",
        "prediction_nb= model_nb.predict(X_dev_test_vec)\n",
        "\n",
        "print(f\"F1_score: {f1_score(y_dev_test, prediction_nb ,average='weighted'):.3f}\")\n"
      ]
    },
    {
      "cell_type": "markdown",
      "id": "CccyjtSgEnnF",
      "metadata": {
        "id": "CccyjtSgEnnF"
      },
      "source": [
        "##### 3.2.. SVM"
      ]
    },
    {
      "cell_type": "code",
      "execution_count": null,
      "id": "TS_eNvnpEfqR",
      "metadata": {
        "colab": {
          "base_uri": "https://localhost:8080/"
        },
        "id": "TS_eNvnpEfqR",
        "outputId": "aae195b9-907d-450d-e374-cdbb6af3bbce"
      },
      "outputs": [
        {
          "output_type": "stream",
          "name": "stdout",
          "text": [
            "F1_score: 0.889\n"
          ]
        }
      ],
      "source": [
        "from sklearn.svm import SVC\n",
        "\n",
        "# SVM classifier\n",
        "svm = SVC(random_state=42)\n",
        "\n",
        "model_svm=svm.fit(X_dev_train_vec, y_dev_upsampled)\n",
        "\n",
        "# Make predictions\n",
        "prediction_svm= model_svm.predict(X_dev_test_vec)\n",
        "\n",
        "print(f\"F1_score: {f1_score(y_dev_test, prediction_svm ,average='weighted'):.3f}\")"
      ]
    },
    {
      "cell_type": "markdown",
      "id": "3rOVJfaqjFit",
      "metadata": {
        "id": "3rOVJfaqjFit"
      },
      "source": [
        "##### 3.2.3. Random Forest"
      ]
    },
    {
      "cell_type": "code",
      "execution_count": null,
      "id": "mLpj7oTB8T5Q",
      "metadata": {
        "colab": {
          "base_uri": "https://localhost:8080/"
        },
        "id": "mLpj7oTB8T5Q",
        "outputId": "a730ce5b-18c0-4501-c754-11e5e8fdc581"
      },
      "outputs": [
        {
          "output_type": "stream",
          "name": "stdout",
          "text": [
            "F1_score: 0.833\n"
          ]
        }
      ],
      "source": [
        "from sklearn.ensemble import RandomForestClassifier\n",
        "\n",
        "# Random Forest classifier\n",
        "rf = RandomForestClassifier(random_state=42)\n",
        "\n",
        "model_rf=rf.fit(X_dev_train_vec, y_dev_upsampled)\n",
        "\n",
        "# Make predictions\n",
        "prediction_rf= model_rf.predict(X_dev_test_vec)\n",
        "\n",
        "print(f\"F1_score: {f1_score(y_dev_test, prediction_rf ,average='weighted'):.3f}\")"
      ]
    },
    {
      "cell_type": "markdown",
      "id": "brRRq9QSwiPL",
      "metadata": {
        "id": "brRRq9QSwiPL"
      },
      "source": [
        "##### 3.2.4 Justify selection\n",
        "\n",
        "- All models were assessed using the weighted F1 score. Positive and negative sentiments are equally important in sentiment analysis. Accuracy alone is insufficient because we are not solely interested in achieving a good performance for positive setiment. F1 score ensures that both precision and recall are considered, offering a more balanced view of the performance across both sentiments.\n",
        "\n",
        "- We will conduct further experiments using SVC, as this model outperformed the other two by achieving the highest F1 score among them. This indicates that the model had the lowest number of misclassified sentiments among the other two options. Additionally, SVC is frequently used for sentiment analysis.\n",
        "\n"
      ]
    },
    {
      "cell_type": "code",
      "source": [
        "from tabulate import tabulate\n",
        "\n",
        "# Data\n",
        "table = [['Naive Bayes', 0.862], ['SVM', 0.889],['Random Forest', 0.833]]\n",
        "\n",
        "# Headers\n",
        "headers = ['Model', 'F1_score']\n",
        "\n",
        "# Display the table\n",
        "print(tabulate(table, headers, tablefmt=\"grid\"))"
      ],
      "metadata": {
        "colab": {
          "base_uri": "https://localhost:8080/"
        },
        "id": "gGcaA7azMony",
        "outputId": "750a5499-2c8d-47e0-a2ad-e4454404c720"
      },
      "id": "gGcaA7azMony",
      "execution_count": null,
      "outputs": [
        {
          "output_type": "stream",
          "name": "stdout",
          "text": [
            "+---------------+------------+\n",
            "| Model         |   F1_score |\n",
            "+===============+============+\n",
            "| Naive Bayes   |      0.862 |\n",
            "+---------------+------------+\n",
            "| SVM           |      0.889 |\n",
            "+---------------+------------+\n",
            "| Random Forest |      0.833 |\n",
            "+---------------+------------+\n"
          ]
        }
      ]
    },
    {
      "cell_type": "markdown",
      "source": [
        "#### 3.3 Prepare the data before further experiments\n",
        "\n",
        "After applying text processing techniques separately (lemmatization, conversion to lowercase, and removal of stop words), we apply a function to upsample the minority class and transform the text into a format compatible with machine learning algorithms. For this reason, we are creating the function `prepare_data` to make the process more efficient."
      ],
      "metadata": {
        "id": "7oxxL1oQReuj"
      },
      "id": "7oxxL1oQReuj"
    },
    {
      "cell_type": "code",
      "source": [
        "from sklearn.model_selection import train_test_split\n",
        "from sklearn.feature_extraction.text import TfidfVectorizer\n",
        "\n",
        "def prepare_data(X,y):\n",
        "  # Get train and text sets from X_development and y_development\n",
        "  X_dev_train, X_dev_test, y_dev_train, y_dev_test = train_test_split(X, y, test_size=0.5, random_state=42, stratify=y)\n",
        "\n",
        "  # Upsample\n",
        "  df_sample =pd.DataFrame(X_dev_train)\n",
        "  df_sample['sentiment'] =pd.DataFrame(y_dev_train)\n",
        "\n",
        "  # Separate the majority and minority classes\n",
        "  df_majority = df_sample[df_sample['sentiment'] == 1]\n",
        "  df_minority = df_sample[df_sample['sentiment'] == 0]\n",
        "\n",
        "  # Upsample minority class\n",
        "  from sklearn.utils import resample\n",
        "  df_minority_upsampled = resample(df_minority,\n",
        "                                 replace=True,\n",
        "                                 n_samples=len(df_majority),\n",
        "                                 random_state=123)\n",
        "\n",
        "  # Combine majority class with upsampled minority class\n",
        "  df_upsampled = pd.concat([df_majority, df_minority_upsampled])\n",
        "\n",
        "  # Shuffle the resulting dataset to avoid any ordering bias\n",
        "  df_upsampled = df_upsampled.sample(frac=1, random_state=123).reset_index(drop=True)\n",
        "\n",
        "  y_dev_upsampled=df_upsampled['sentiment']\n",
        "  X_dev_upsampled=df_upsampled[df_upsampled.columns[0]]\n",
        "\n",
        "  # Transforming text into a format that machine learning algorithms can work with\n",
        "  vectorizer_dev = TfidfVectorizer()\n",
        "  X_dev_train_vec= vectorizer_dev.fit_transform(X_dev_upsampled)\n",
        "  X_dev_test_vec= vectorizer_dev.transform(X_dev_test)\n",
        "\n",
        "  return X_dev_train_vec, X_dev_test_vec, y_dev_upsampled, y_dev_test"
      ],
      "metadata": {
        "id": "LvVJr3SVQgoI"
      },
      "id": "LvVJr3SVQgoI",
      "execution_count": null,
      "outputs": []
    },
    {
      "cell_type": "markdown",
      "id": "a_K_BmLe6Nch",
      "metadata": {
        "id": "a_K_BmLe6Nch"
      },
      "source": [
        "##### 3.3.1 Stop-word removal"
      ]
    },
    {
      "cell_type": "code",
      "execution_count": null,
      "id": "jwItYBvA6hno",
      "metadata": {
        "colab": {
          "base_uri": "https://localhost:8080/"
        },
        "id": "jwItYBvA6hno",
        "outputId": "ba8a1392-f330-4269-b9d4-efc33d641095"
      },
      "outputs": [
        {
          "output_type": "stream",
          "name": "stderr",
          "text": [
            "[nltk_data] Downloading package stopwords to /root/nltk_data...\n",
            "[nltk_data]   Unzipping corpora/stopwords.zip.\n"
          ]
        }
      ],
      "source": [
        "# text processing techniques:stop-word removal\n",
        "import string\n",
        "from nltk.corpus import stopwords\n",
        "\n",
        "nltk.download('stopwords')\n",
        "\n",
        "def stopword_remove(text):\n",
        "\n",
        "    # Remove stopwords and punctuation\n",
        "    stop_words = stopwords.words(\"english\") + list(string.punctuation)\n",
        "    tokens = [token for token in text if token not in stop_words]\n",
        "    text1 = \" \".join(tokens)\n",
        "\n",
        "    # Return the cleaned text\n",
        "    return text1\n"
      ]
    },
    {
      "cell_type": "code",
      "execution_count": null,
      "id": "r-n9U9N6G6nv",
      "metadata": {
        "id": "r-n9U9N6G6nv"
      },
      "outputs": [],
      "source": [
        "# Apply function to remove stop words\n",
        "X_development[\"stopword_remove\"] = X_development[\"text_tokenize\"].apply(stopword_remove)"
      ]
    },
    {
      "cell_type": "code",
      "source": [
        "# Apply function prepare_data to preparae data for SVC\n",
        "X_dev_train_1, X_dev_test_1, y_dev_train_1, y_dev_test_1=prepare_data(X_development[\"stopword_remove\"],y_development)"
      ],
      "metadata": {
        "id": "It-tuPmVR86E"
      },
      "id": "It-tuPmVR86E",
      "execution_count": null,
      "outputs": []
    },
    {
      "cell_type": "code",
      "source": [
        "# Assess the text processing techniques\n",
        "from sklearn.model_selection import cross_val_score\n",
        "from sklearn.svm import SVC\n",
        "from sklearn.metrics import make_scorer, f1_score\n",
        "\n",
        "# Initialize svc\n",
        "svm_1 = SVC(random_state=42)\n",
        "\n",
        "# Define the scorer\n",
        "f1_scorer = make_scorer(f1_score, average='weighted')\n",
        "\n",
        "# Perform 10-fold cross-validation and compute the F1 score\n",
        "f1_scores_1 = cross_val_score(svm_1, X_dev_train_1, y_dev_train_1, cv=10, scoring=f1_scorer)\n",
        "\n",
        "print(f\"Average F1 Score (Weighted) from 10-Fold Cross-Validation: {f1_scores_1.mean():.3f}\")\n"
      ],
      "metadata": {
        "id": "PJkIzRK1Q0_y",
        "colab": {
          "base_uri": "https://localhost:8080/"
        },
        "outputId": "a14ac312-0f24-4a3b-bf3d-2e7d92f6894e"
      },
      "id": "PJkIzRK1Q0_y",
      "execution_count": null,
      "outputs": [
        {
          "output_type": "stream",
          "name": "stdout",
          "text": [
            "Average F1 Score (Weighted) from 10-Fold Cross-Validation: 0.966\n"
          ]
        }
      ]
    },
    {
      "cell_type": "markdown",
      "source": [
        "##### 3.3.2. Lemmatisation"
      ],
      "metadata": {
        "id": "ZdIsga4aP23j"
      },
      "id": "ZdIsga4aP23j"
    },
    {
      "cell_type": "code",
      "execution_count": null,
      "id": "4eeyNIKL6hjw",
      "metadata": {
        "colab": {
          "base_uri": "https://localhost:8080/"
        },
        "id": "4eeyNIKL6hjw",
        "outputId": "5bb72a32-792f-40a9-adc7-6cb4c0c2cea1"
      },
      "outputs": [
        {
          "output_type": "stream",
          "name": "stderr",
          "text": [
            "[nltk_data] Downloading package punkt to /root/nltk_data...\n",
            "[nltk_data]   Package punkt is already up-to-date!\n"
          ]
        }
      ],
      "source": [
        "# text processing techniques: lemmatisation\n",
        "import string\n",
        "nltk.download('punkt')\n",
        "\n",
        "# Load the spaCy model\n",
        "nlp = spacy.load(\"en_core_web_sm\")\n",
        "\n",
        "def lematize_text(text):\n",
        "  # Lemmatize the tokens\n",
        "  text1 = \" \".join(text)\n",
        "  doc = nlp(text1)\n",
        "  tokens = [token.lemma_ for token in doc]\n",
        "\n",
        "\n",
        "  # Return the cleaned text\n",
        "  return \" \".join(tokens)\n"
      ]
    },
    {
      "cell_type": "code",
      "execution_count": null,
      "id": "VvbzQty8IXkk",
      "metadata": {
        "id": "VvbzQty8IXkk"
      },
      "outputs": [],
      "source": [
        "# Apply function to lematize\n",
        "X_development[\"lematize_text\"] = X_development[\"text_tokenize\"].apply(lematize_text)"
      ]
    },
    {
      "cell_type": "code",
      "source": [
        "# Apply function prepare_data to preparae data for SVC\n",
        "X_dev_train_2, X_dev_test_2, y_dev_train_2, y_dev_test_2=prepare_data(X_development[\"lematize_text\"],y_development)"
      ],
      "metadata": {
        "id": "CCjkoQdzST6P"
      },
      "id": "CCjkoQdzST6P",
      "execution_count": null,
      "outputs": []
    },
    {
      "cell_type": "code",
      "source": [
        "# Assess the text processing techniques\n",
        "from sklearn.model_selection import cross_val_score\n",
        "from sklearn.svm import SVC\n",
        "from sklearn.metrics import make_scorer, f1_score\n",
        "\n",
        "# Assuming X_dev_train_4 and y_dev_train_4 are your features and labels respectively\n",
        "svm_2 = SVC(random_state=42)\n",
        "\n",
        "# Perform 10-fold cross-validation and compute the F1 score\n",
        "f1_scores_2 = cross_val_score(svm_2, X_dev_train_2, y_dev_train_2, cv=10, scoring=f1_scorer)\n",
        "\n",
        "print(f\"Average F1 Score (Weighted) from 10-Fold Cross-Validation: {f1_scores_2.mean():.3f}\")\n"
      ],
      "metadata": {
        "id": "-TBgT5drSUXB",
        "colab": {
          "base_uri": "https://localhost:8080/"
        },
        "outputId": "964a04cd-722a-4ec3-b9a4-41872fb62d83"
      },
      "id": "-TBgT5drSUXB",
      "execution_count": null,
      "outputs": [
        {
          "output_type": "stream",
          "name": "stdout",
          "text": [
            "Average F1 Score (Weighted) from 10-Fold Cross-Validation: 0.958\n"
          ]
        }
      ]
    },
    {
      "cell_type": "markdown",
      "source": [
        "##### 3.3.3. Lowercasing"
      ],
      "metadata": {
        "id": "ZGHKcmDxP9d8"
      },
      "id": "ZGHKcmDxP9d8"
    },
    {
      "cell_type": "code",
      "execution_count": null,
      "id": "ToehZNbK6r6g",
      "metadata": {
        "id": "ToehZNbK6r6g"
      },
      "outputs": [],
      "source": [
        "# text processing techniques lowercasing\n",
        "import string\n",
        "def lower_case(text):\n",
        "  cleaned_text = [word.lower() for word in text]\n",
        "  return \" \".join(cleaned_text)\n"
      ]
    },
    {
      "cell_type": "code",
      "execution_count": null,
      "id": "hdKYBxlDIYfN",
      "metadata": {
        "id": "hdKYBxlDIYfN"
      },
      "outputs": [],
      "source": [
        "# Apply function to lower case\n",
        "X_development[\"lower_case\"] = X_development[\"text_tokenize\"].apply(lower_case)"
      ]
    },
    {
      "cell_type": "code",
      "source": [
        "# Apply function prepare_data to preparae data for SVC\n",
        "X_dev_train_3, X_dev_test_3, y_dev_train_3, y_dev_test_3=prepare_data(X_development[\"lower_case\"],y_development)"
      ],
      "metadata": {
        "id": "UouCo9IcSVox"
      },
      "id": "UouCo9IcSVox",
      "execution_count": null,
      "outputs": []
    },
    {
      "cell_type": "code",
      "source": [
        "# Assess the text processing techniques\n",
        "svm_3 = SVC(random_state=42)\n",
        "\n",
        "# Perform 10-fold cross-validation and compute the F1 score\n",
        "f1_scores_3 = cross_val_score(svm_3, X_dev_train_3, y_dev_train_3, cv=10, scoring=f1_scorer)\n",
        "\n",
        "print(f\"Average F1 Score (Weighted) from 10-Fold Cross-Validation: {f1_scores_3.mean():.3f}\")"
      ],
      "metadata": {
        "id": "PYdwr_LqSV-J",
        "colab": {
          "base_uri": "https://localhost:8080/"
        },
        "outputId": "194487d7-bf56-4a14-fdc0-0785d4079ab5"
      },
      "id": "PYdwr_LqSV-J",
      "execution_count": null,
      "outputs": [
        {
          "output_type": "stream",
          "name": "stdout",
          "text": [
            "Average F1 Score (Weighted) from 10-Fold Cross-Validation: 0.960\n"
          ]
        }
      ]
    },
    {
      "cell_type": "markdown",
      "source": [
        "#### 3.4. Show best results"
      ],
      "metadata": {
        "id": "abvAOaWh8NyP"
      },
      "id": "abvAOaWh8NyP"
    },
    {
      "cell_type": "markdown",
      "source": [
        "The best text processing technique is Stop-Word removal. Removing these words reduces the feature space, making algorithms faster. SVC can focus on the words that carry significant meaning and contribute more to the context of the text."
      ],
      "metadata": {
        "id": "UpL9-aFW8my9"
      },
      "id": "UpL9-aFW8my9"
    },
    {
      "cell_type": "code",
      "source": [
        "from tabulate import tabulate\n",
        "# Data\n",
        "table = [['Stop-words removal', 0.966], ['Lemmatisation', 0.958], ['lowercasing', 0.960]]\n",
        "\n",
        "# Headers\n",
        "headers = ['Text Processing Technique', 'Average F1 Score']\n",
        "\n",
        "# Display the table\n",
        "print(tabulate(table, headers, tablefmt=\"grid\"))"
      ],
      "metadata": {
        "colab": {
          "base_uri": "https://localhost:8080/"
        },
        "id": "9mwEdO-0tIOZ",
        "outputId": "26b1cfd1-0a3e-4164-aca4-2648851ce423"
      },
      "id": "9mwEdO-0tIOZ",
      "execution_count": null,
      "outputs": [
        {
          "output_type": "stream",
          "name": "stdout",
          "text": [
            "+-----------------------------+--------------------+\n",
            "| Text Processing Technique   |   Average F1 Score |\n",
            "+=============================+====================+\n",
            "| Stop-words removal          |              0.966 |\n",
            "+-----------------------------+--------------------+\n",
            "| Lemmatisation               |              0.958 |\n",
            "+-----------------------------+--------------------+\n",
            "| lowercasing                 |              0.96  |\n",
            "+-----------------------------+--------------------+\n"
          ]
        }
      ]
    },
    {
      "cell_type": "markdown",
      "source": [
        "#### 3.5. scaling and transformation"
      ],
      "metadata": {
        "id": "zS3ZKKVt8Wrs"
      },
      "id": "zS3ZKKVt8Wrs"
    },
    {
      "cell_type": "code",
      "source": [
        "# Initialize the scaler. It will be applied in the next experiment.\n",
        "from sklearn.preprocessing import StandardScaler\n",
        "\n",
        "scaler_svm = StandardScaler(with_mean=False) # Set with_mean=False for sparse matrices\n"
      ],
      "metadata": {
        "id": "zYqrL99-8lo4"
      },
      "id": "zYqrL99-8lo4",
      "execution_count": null,
      "outputs": []
    },
    {
      "cell_type": "markdown",
      "id": "333ba5cb",
      "metadata": {
        "id": "333ba5cb"
      },
      "source": [
        "### 4. Sentiment classification using VADER lexicon and method"
      ]
    },
    {
      "cell_type": "code",
      "execution_count": null,
      "id": "ICwOP2GCfgxR",
      "metadata": {
        "colab": {
          "base_uri": "https://localhost:8080/"
        },
        "id": "ICwOP2GCfgxR",
        "outputId": "39b70ea8-19af-4c75-b3e0-6a9f4c2ca9c0"
      },
      "outputs": [
        {
          "output_type": "stream",
          "name": "stderr",
          "text": [
            "[nltk_data] Downloading package vader_lexicon to /root/nltk_data...\n"
          ]
        },
        {
          "output_type": "execute_result",
          "data": {
            "text/plain": [
              "True"
            ]
          },
          "metadata": {},
          "execution_count": 47
        }
      ],
      "source": [
        "nltk.download('vader_lexicon')"
      ]
    },
    {
      "cell_type": "code",
      "execution_count": null,
      "id": "58a6ebe4",
      "metadata": {
        "id": "58a6ebe4"
      },
      "outputs": [],
      "source": [
        "from nltk.sentiment import SentimentIntensityAnalyzer\n",
        "\n",
        "# Initializing the SentimentIntensityAnalyzer\n",
        "sia = SentimentIntensityAnalyzer()\n",
        "\n",
        "# Defining a function to get the sentiment category\n",
        "def get_sentiment_category(text):\n",
        "    sentiment_score = sia.polarity_scores(text)\n",
        "    if sentiment_score[\"compound\"] > 0:\n",
        "        return 1\n",
        "    else:\n",
        "        return 0\n"
      ]
    },
    {
      "cell_type": "markdown",
      "source": [
        "We are going to use X_development[\"stopword_remove\"] as this task required that VADER has to be applied the text preprocess in 3.3"
      ],
      "metadata": {
        "id": "9xz-8sY7GTvx"
      },
      "id": "9xz-8sY7GTvx"
    },
    {
      "cell_type": "code",
      "execution_count": null,
      "id": "GKSTJccfSxEI",
      "metadata": {
        "colab": {
          "base_uri": "https://localhost:8080/"
        },
        "id": "GKSTJccfSxEI",
        "outputId": "b7798b51-8745-4929-f350-eaa4dc75d67f"
      },
      "outputs": [
        {
          "output_type": "stream",
          "name": "stdout",
          "text": [
            "0.8732021423843052\n"
          ]
        }
      ],
      "source": [
        "# Applying the function to the dataframe\n",
        "X_development[\"Sentiment_VADER_stopwords\"] = X_development[\"stopword_remove\"].apply(get_sentiment_category)\n",
        "\n",
        "# Get f1-score\n",
        "f1_score = f1_score(y_development , X_development[\"Sentiment_VADER_stopwords\"])\n",
        "print(f1_score)"
      ]
    },
    {
      "cell_type": "code",
      "source": [
        "from tabulate import tabulate\n",
        "\n",
        "# Data\n",
        "table = [['Stop-words removal', 0.966], ['Vader', 0.873]]\n",
        "\n",
        "# Headers\n",
        "headers = ['Technique', 'Value']\n",
        "\n",
        "# Display the table\n",
        "print(tabulate(table, headers, tablefmt=\"grid\"))"
      ],
      "metadata": {
        "colab": {
          "base_uri": "https://localhost:8080/"
        },
        "id": "5jiJ_OfJ04X2",
        "outputId": "2e32ebb5-f9c3-444e-ae4b-476bb41cab92"
      },
      "id": "5jiJ_OfJ04X2",
      "execution_count": null,
      "outputs": [
        {
          "output_type": "stream",
          "name": "stdout",
          "text": [
            "+--------------------+---------+\n",
            "| Technique          |   Value |\n",
            "+====================+=========+\n",
            "| Stop-words removal |   0.966 |\n",
            "+--------------------+---------+\n",
            "| Vader              |   0.873 |\n",
            "+--------------------+---------+\n"
          ]
        }
      ]
    },
    {
      "cell_type": "markdown",
      "source": [
        "While stop-word removal is a common preprocessing step to reduce dimensionality and focus on meaningful words, its combination with Vader for sentiment analysis in this case appears to have been counterproductive, reducing the overall effectiveness of sentiment classification."
      ],
      "metadata": {
        "id": "G1nIKGRe1lds"
      },
      "id": "G1nIKGRe1lds"
    },
    {
      "cell_type": "markdown",
      "id": "ba7ea3a2",
      "metadata": {
        "id": "ba7ea3a2"
      },
      "source": [
        "### 5. Combining VADER with the best classifier"
      ]
    },
    {
      "cell_type": "markdown",
      "source": [
        "The procedure we followed is based on the workflow presented in Sentiment Analysis for TikTok Review Using VADER Sentiment and SVM Model, 2023 [1].\n",
        "\n"
      ],
      "metadata": {
        "id": "PbUYFSdH5USV"
      },
      "id": "PbUYFSdH5USV"
    },
    {
      "cell_type": "code",
      "source": [
        "# Using funtion defined in 3.3 to prepare data\n",
        "X_dev_train_5, X_dev_test_5, y_dev_train_5, y_dev_test_5=prepare_data(X_development[\"lower_case\"],X_development[\"Sentiment_VADER_stopwords\"])"
      ],
      "metadata": {
        "id": "CZtCMpLZ-VZ8"
      },
      "id": "CZtCMpLZ-VZ8",
      "execution_count": null,
      "outputs": []
    },
    {
      "cell_type": "code",
      "source": [
        "# Apply standard scaler\n",
        "X_dev_train_scaler=scaler_svm.fit_transform(X_dev_train_5)\n",
        "X_dev_test_scaler=scaler_svm.transform(X_dev_test_5)"
      ],
      "metadata": {
        "id": "w-CgiVBJBn5S"
      },
      "id": "w-CgiVBJBn5S",
      "execution_count": null,
      "outputs": []
    },
    {
      "cell_type": "code",
      "execution_count": null,
      "id": "waeJD2Oye-_i",
      "metadata": {
        "colab": {
          "base_uri": "https://localhost:8080/"
        },
        "id": "waeJD2Oye-_i",
        "outputId": "6aabb39c-a10f-4e62-c0d5-3e7526e42924"
      },
      "outputs": [
        {
          "output_type": "stream",
          "name": "stdout",
          "text": [
            "Mean cross-validated test accuracy: 0.996\n",
            "Mean cross-validated train accuracy: 0.999\n"
          ]
        }
      ],
      "source": [
        "from sklearn.model_selection import GridSearchCV\n",
        "from sklearn.svm import SVC\n",
        "\n",
        "# SVM classifier\n",
        "svm_5 = SVC(random_state=42)\n",
        "\n",
        "param_grid_svm={}\n",
        "\n",
        "# Initialize GridSearchCV for SVM\n",
        "grid_search_svm_5 = GridSearchCV(svm_5, param_grid_svm, cv=10, scoring='f1_weighted', return_train_score=True)\n",
        "\n",
        "# Train the model\n",
        "grid_search_svm_5.fit(X_dev_train_scaler,y_dev_train_5)\n",
        "\n",
        "# Metrics\n",
        "f1_val_svm = grid_search_svm_5.cv_results_['mean_test_score']\n",
        "f1_train_svm = grid_search_svm_5.cv_results_['mean_train_score']\n",
        "\n",
        "# Get the best estimator for SVM\n",
        "best_svm_model = grid_search_svm_5.best_estimator_\n",
        "\n",
        "print(f\"Mean cross-validated test: {np.mean(f1_val_svm):.3f}\")\n",
        "print(f\"Mean cross-validated train : {np.mean(f1_train_svm):.3f}\")"
      ]
    },
    {
      "cell_type": "code",
      "source": [
        "print(f\"Mean cross-validated train and validation F1_score: {(np.mean(f1_train_svm)+np.mean(f1_val_svm))/2:.3f}\")"
      ],
      "metadata": {
        "colab": {
          "base_uri": "https://localhost:8080/"
        },
        "id": "JYj1JHaBXTTa",
        "outputId": "fe353271-a8a1-4bce-c99e-ebf8cfe543c2"
      },
      "id": "JYj1JHaBXTTa",
      "execution_count": null,
      "outputs": [
        {
          "output_type": "stream",
          "name": "stdout",
          "text": [
            "Mean cross-validated train and validation F1_score: 0.942\n"
          ]
        }
      ]
    },
    {
      "cell_type": "code",
      "source": [
        "from sklearn.metrics import classification_report, accuracy_score\n",
        "# Get precision, recall, f1-score\n",
        "y_pred_svm=best_svm_model.predict(X_dev_test_scaler)\n",
        "report = classification_report(y_dev_test_5, y_pred_svm)\n",
        "print(report)"
      ],
      "metadata": {
        "colab": {
          "base_uri": "https://localhost:8080/"
        },
        "id": "7h6AL1SW7sG4",
        "outputId": "eab97efb-08af-4225-b2d7-12600ecc678a"
      },
      "id": "7h6AL1SW7sG4",
      "execution_count": null,
      "outputs": [
        {
          "output_type": "stream",
          "name": "stdout",
          "text": [
            "              precision    recall  f1-score   support\n",
            "\n",
            "           0       0.47      0.14      0.21       337\n",
            "           1       0.94      0.99      0.96      4663\n",
            "\n",
            "    accuracy                           0.93      5000\n",
            "   macro avg       0.70      0.56      0.59      5000\n",
            "weighted avg       0.91      0.93      0.91      5000\n",
            "\n"
          ]
        }
      ]
    },
    {
      "cell_type": "markdown",
      "source": [
        "To compare results with point 3.4 and 4, we take as reference the average F1_score ot the train and validation set. The reason is that methods in point 3.4 and 4 only take into account cross-validation result."
      ],
      "metadata": {
        "id": "4x261XjwWwHI"
      },
      "id": "4x261XjwWwHI"
    },
    {
      "cell_type": "code",
      "source": [
        "from tabulate import tabulate\n",
        "\n",
        "# Data\n",
        "table = [['Stop-words removal', 0.966], ['Vader', 0.873],['Combining VADER + the best classifier', 0.993]]\n",
        "\n",
        "# Headers\n",
        "headers = ['Technique', 'Value']\n",
        "\n",
        "# Display the table\n",
        "print(tabulate(table, headers, tablefmt=\"grid\"))"
      ],
      "metadata": {
        "colab": {
          "base_uri": "https://localhost:8080/"
        },
        "id": "1VwzMwmQ-uSj",
        "outputId": "4ef59668-1de3-4ed8-b64e-11a740aa16fb"
      },
      "id": "1VwzMwmQ-uSj",
      "execution_count": null,
      "outputs": [
        {
          "output_type": "stream",
          "name": "stdout",
          "text": [
            "+---------------------------------------+---------+\n",
            "| Technique                             |   Value |\n",
            "+=======================================+=========+\n",
            "| Stop-words removal                    |   0.966 |\n",
            "+---------------------------------------+---------+\n",
            "| Vader                                 |   0.873 |\n",
            "+---------------------------------------+---------+\n",
            "| Combining VADER + the best classifier |   0.993 |\n",
            "+---------------------------------------+---------+\n"
          ]
        }
      ]
    },
    {
      "cell_type": "markdown",
      "source": [
        "The result from Combining VADER with the best classifier improved compared to point (using purely Vader). The result in combining Vader and the best classifier is better than only best classifier, considering stop-word removal."
      ],
      "metadata": {
        "id": "LhUyBIlz_EPo"
      },
      "id": "LhUyBIlz_EPo"
    },
    {
      "cell_type": "markdown",
      "id": "23d3d17f",
      "metadata": {
        "id": "23d3d17f"
      },
      "source": [
        "### 6. Trainig and testing the final method"
      ]
    },
    {
      "cell_type": "markdown",
      "id": "-C9AHuXMebl7",
      "metadata": {
        "id": "-C9AHuXMebl7"
      },
      "source": [
        "#### Preprocessing"
      ]
    },
    {
      "cell_type": "code",
      "source": [
        "# Convert tokens to text. To create a new column text_joined\n",
        "X_train['text_joined'] = X_train['text_tokenize'].apply(' '.join)"
      ],
      "metadata": {
        "id": "DKJmp1RyEXPk"
      },
      "id": "DKJmp1RyEXPk",
      "execution_count": null,
      "outputs": []
    },
    {
      "cell_type": "code",
      "source": [
        "# Apply Stop-word removal using function defined in 3.3.1\n",
        "X_train[\"stopword_remove\"] = X_train[\"text_tokenize\"].apply(stopword_remove)"
      ],
      "metadata": {
        "id": "O6hoysv8E4jZ"
      },
      "id": "O6hoysv8E4jZ",
      "execution_count": null,
      "outputs": []
    },
    {
      "cell_type": "code",
      "source": [
        "#Get y_train using function defined in 4\n",
        "X_train[\"Sentiment_VADER\"] =X_train[\"stopword_remove\"].apply(get_sentiment_category)"
      ],
      "metadata": {
        "id": "jKYv_EVHFXMg"
      },
      "id": "jKYv_EVHFXMg",
      "execution_count": null,
      "outputs": []
    },
    {
      "cell_type": "code",
      "source": [
        "# Drop columns that will not be used\n",
        "X_train.drop(columns=['text_tokenize','text_joined'], inplace=True)"
      ],
      "metadata": {
        "id": "6dw7ba3wGlzZ"
      },
      "id": "6dw7ba3wGlzZ",
      "execution_count": null,
      "outputs": []
    },
    {
      "cell_type": "code",
      "source": [
        "#up sample minority class\n",
        "# Separate the majority and minority classes\n",
        "df_train_majority = X_train[X_train['Sentiment_VADER'] == 1]\n",
        "df_train_minority = X_train[X_train['Sentiment_VADER'] == 0]\n",
        "\n",
        "dftrain_minority_upsampled = resample(df_train_minority,\n",
        "                                 replace=True,\n",
        "                                 n_samples=len(df_train_majority),\n",
        "                                 random_state=123)\n",
        "\n",
        "# Combine majority class with upsampled minority class\n",
        "dftrain_upsampled = pd.concat([df_train_majority, dftrain_minority_upsampled])\n",
        "\n",
        "# Shuffle the resulting dataset to avoid any ordering bias\n",
        "dftrain_upsampled = dftrain_upsampled.sample(frac=1, random_state=123).reset_index(drop=True)\n",
        "\n",
        "# Display new class counts to ensure they are balanced\n",
        "print(dftrain_upsampled['Sentiment_VADER'].value_counts())\n"
      ],
      "metadata": {
        "colab": {
          "base_uri": "https://localhost:8080/"
        },
        "id": "zLUSWG86GeeL",
        "outputId": "29628ea7-dfd8-439e-c2d2-3625af400d3e"
      },
      "id": "zLUSWG86GeeL",
      "execution_count": null,
      "outputs": [
        {
          "output_type": "stream",
          "name": "stdout",
          "text": [
            "0    9389\n",
            "1    9389\n",
            "Name: Sentiment_VADER, dtype: int64\n"
          ]
        }
      ]
    },
    {
      "cell_type": "code",
      "source": [
        "#Rename X_train\n",
        "X=X_train[\"stopword_remove\"]"
      ],
      "metadata": {
        "id": "he6e3I7wFl89"
      },
      "id": "he6e3I7wFl89",
      "execution_count": null,
      "outputs": []
    },
    {
      "cell_type": "code",
      "source": [
        "# Rename y_train_new\n",
        "y=X_train[\"Sentiment_VADER\"]"
      ],
      "metadata": {
        "id": "CSBQdXGvF-rL"
      },
      "id": "CSBQdXGvF-rL",
      "execution_count": null,
      "outputs": []
    },
    {
      "cell_type": "code",
      "execution_count": null,
      "id": "QB39u0keRHdA",
      "metadata": {
        "id": "QB39u0keRHdA"
      },
      "outputs": [],
      "source": [
        "# Transforming text into a format that machine learning algorithms can work with\n",
        "vectorizer_last = TfidfVectorizer()\n",
        "X_train = vectorizer_last.fit_transform(X)"
      ]
    },
    {
      "cell_type": "code",
      "source": [
        "#apply standard scaler\n",
        "from sklearn.preprocessing import StandardScaler\n",
        "\n",
        "scaler = StandardScaler(with_mean=False) # Set with_mean=False for sparse matrices\n",
        "\n",
        "# Fit on the TF-IDF data and transform it\n",
        "X_standardized = scaler.fit_transform(X_train)\n"
      ],
      "metadata": {
        "id": "bTj1BlLpWu2c"
      },
      "id": "bTj1BlLpWu2c",
      "execution_count": null,
      "outputs": []
    },
    {
      "cell_type": "markdown",
      "id": "_lMFy5sjejjV",
      "metadata": {
        "id": "_lMFy5sjejjV"
      },
      "source": [
        "#### Training"
      ]
    },
    {
      "cell_type": "code",
      "execution_count": null,
      "id": "KRt4vodTfwHf",
      "metadata": {
        "colab": {
          "base_uri": "https://localhost:8080/"
        },
        "id": "KRt4vodTfwHf",
        "outputId": "cf572bff-d4e5-4252-f170-ad4d03bfa754"
      },
      "outputs": [
        {
          "output_type": "stream",
          "name": "stdout",
          "text": [
            "Mean cross-validated test accuracy: 0.909\n",
            "Mean cross-validated train accuracy: 0.976\n"
          ]
        }
      ],
      "source": [
        "from sklearn.model_selection import GridSearchCV\n",
        "from sklearn.svm import SVC\n",
        "\n",
        "# SVM classifier\n",
        "svm_final= SVC(random_state=42)\n",
        "\n",
        "param_grid_svm={}\n",
        "\n",
        "# Initialize GridSearchCV for SVM\n",
        "grid_search_svm= GridSearchCV(svm_final, param_grid_svm, cv=10, scoring='f1_weighted', return_train_score=True)\n",
        "\n",
        "# Train the model\n",
        "grid_search_svm.fit(X_standardized,y)\n",
        "\n",
        "# Metrics\n",
        "f1_val_svm = grid_search_svm.cv_results_['mean_test_score']\n",
        "f1_train_svm = grid_search_svm.cv_results_['mean_train_score']\n",
        "\n",
        "# Get the best estimator for SVM\n",
        "best_svm_model = grid_search_svm.best_estimator_\n",
        "\n",
        "print(f\"Mean cross-validated test {np.mean(f1_val_svm):.3f}\")\n",
        "print(f\"Mean cross-validated train : {np.mean(f1_train_svm):.3f}\")"
      ]
    },
    {
      "cell_type": "code",
      "source": [
        "print(f\"Mean cross-validated average train and test of F1_score: {(np.mean(f1_train_svm)+np.mean(f1_val_svm))/2:.3f}\")"
      ],
      "metadata": {
        "colab": {
          "base_uri": "https://localhost:8080/"
        },
        "id": "L6ydjpMrZT_g",
        "outputId": "99307528-c25e-4bab-9c05-d400a8d10a00"
      },
      "id": "L6ydjpMrZT_g",
      "execution_count": null,
      "outputs": [
        {
          "output_type": "stream",
          "name": "stdout",
          "text": [
            "Mean cross-validated train : 0.942\n"
          ]
        }
      ]
    },
    {
      "cell_type": "markdown",
      "id": "wG7l0jEzeoRi",
      "metadata": {
        "id": "wG7l0jEzeoRi"
      },
      "source": [
        "#### Testing"
      ]
    },
    {
      "cell_type": "code",
      "execution_count": null,
      "id": "ozY75R_t3dUd",
      "metadata": {
        "id": "ozY75R_t3dUd"
      },
      "outputs": [],
      "source": [
        "# Convert tokens to text. To create a new column text_joined\n",
        "X_test['text_joined'] = X_test['text_tokenize'].apply(' '.join)"
      ]
    },
    {
      "cell_type": "code",
      "source": [
        "# Apply Stop-word removal using function defined in 3.3.1\n",
        "X_test[\"stopword_remove\"] = X_test[\"text_tokenize\"].apply(stopword_remove)"
      ],
      "metadata": {
        "id": "BPWcfhdoEtVs"
      },
      "id": "BPWcfhdoEtVs",
      "execution_count": null,
      "outputs": []
    },
    {
      "cell_type": "code",
      "execution_count": null,
      "id": "wB9_3bbw_4SF",
      "metadata": {
        "id": "wB9_3bbw_4SF"
      },
      "outputs": [],
      "source": [
        "# Get y_test using function defined in 4\n",
        "X_test[\"Sentiment_VADER\"] =X_test[\"stopword_remove\"].apply(get_sentiment_category)"
      ]
    },
    {
      "cell_type": "code",
      "execution_count": null,
      "id": "0WtKThHpqSVH",
      "metadata": {
        "id": "0WtKThHpqSVH"
      },
      "outputs": [],
      "source": [
        "# Drop columns that will not be used\n",
        "X_test.drop(columns=['text_tokenize', 'text_joined'], inplace=True)"
      ]
    },
    {
      "cell_type": "code",
      "source": [
        "X_test"
      ],
      "metadata": {
        "colab": {
          "base_uri": "https://localhost:8080/",
          "height": 424
        },
        "id": "61zbm34NH1Wp",
        "outputId": "2b383fe5-933a-4074-8d16-f45c45e1d6ec"
      },
      "id": "61zbm34NH1Wp",
      "execution_count": null,
      "outputs": [
        {
          "output_type": "execute_result",
          "data": {
            "text/plain": [
              "                                         stopword_remove  Sentiment_VADER\n",
              "20000  Great Stay Comfortable Room Very Few Downsides...                1\n",
              "20001  Nice Place It really nice hotel 2 BR 2 Bath Su...                1\n",
              "20002  Tip top Having New York number occasions I fai...                1\n",
              "20003  Great Location rough sleep For price location ...                1\n",
              "20004  Compact cool Midtown hotel Having read mainly ...                1\n",
              "...                                                  ...              ...\n",
              "29995  Felt right home I stayed many downtown Chicago...                1\n",
              "29996  Days Inn Chicago 101212 It always pleasant sta...                1\n",
              "29997  Upgrades Needed We recently stayed girls weeke...                0\n",
              "29998  perfect bargain city hotel I made reservation ...                1\n",
              "29999  Wonderful hotel journey Pitchfork Festival I s...                1\n",
              "\n",
              "[10000 rows x 2 columns]"
            ],
            "text/html": [
              "\n",
              "  <div id=\"df-31a71687-3f57-4ea6-907a-5df80818e43c\" class=\"colab-df-container\">\n",
              "    <div>\n",
              "<style scoped>\n",
              "    .dataframe tbody tr th:only-of-type {\n",
              "        vertical-align: middle;\n",
              "    }\n",
              "\n",
              "    .dataframe tbody tr th {\n",
              "        vertical-align: top;\n",
              "    }\n",
              "\n",
              "    .dataframe thead th {\n",
              "        text-align: right;\n",
              "    }\n",
              "</style>\n",
              "<table border=\"1\" class=\"dataframe\">\n",
              "  <thead>\n",
              "    <tr style=\"text-align: right;\">\n",
              "      <th></th>\n",
              "      <th>stopword_remove</th>\n",
              "      <th>Sentiment_VADER</th>\n",
              "    </tr>\n",
              "  </thead>\n",
              "  <tbody>\n",
              "    <tr>\n",
              "      <th>20000</th>\n",
              "      <td>Great Stay Comfortable Room Very Few Downsides...</td>\n",
              "      <td>1</td>\n",
              "    </tr>\n",
              "    <tr>\n",
              "      <th>20001</th>\n",
              "      <td>Nice Place It really nice hotel 2 BR 2 Bath Su...</td>\n",
              "      <td>1</td>\n",
              "    </tr>\n",
              "    <tr>\n",
              "      <th>20002</th>\n",
              "      <td>Tip top Having New York number occasions I fai...</td>\n",
              "      <td>1</td>\n",
              "    </tr>\n",
              "    <tr>\n",
              "      <th>20003</th>\n",
              "      <td>Great Location rough sleep For price location ...</td>\n",
              "      <td>1</td>\n",
              "    </tr>\n",
              "    <tr>\n",
              "      <th>20004</th>\n",
              "      <td>Compact cool Midtown hotel Having read mainly ...</td>\n",
              "      <td>1</td>\n",
              "    </tr>\n",
              "    <tr>\n",
              "      <th>...</th>\n",
              "      <td>...</td>\n",
              "      <td>...</td>\n",
              "    </tr>\n",
              "    <tr>\n",
              "      <th>29995</th>\n",
              "      <td>Felt right home I stayed many downtown Chicago...</td>\n",
              "      <td>1</td>\n",
              "    </tr>\n",
              "    <tr>\n",
              "      <th>29996</th>\n",
              "      <td>Days Inn Chicago 101212 It always pleasant sta...</td>\n",
              "      <td>1</td>\n",
              "    </tr>\n",
              "    <tr>\n",
              "      <th>29997</th>\n",
              "      <td>Upgrades Needed We recently stayed girls weeke...</td>\n",
              "      <td>0</td>\n",
              "    </tr>\n",
              "    <tr>\n",
              "      <th>29998</th>\n",
              "      <td>perfect bargain city hotel I made reservation ...</td>\n",
              "      <td>1</td>\n",
              "    </tr>\n",
              "    <tr>\n",
              "      <th>29999</th>\n",
              "      <td>Wonderful hotel journey Pitchfork Festival I s...</td>\n",
              "      <td>1</td>\n",
              "    </tr>\n",
              "  </tbody>\n",
              "</table>\n",
              "<p>10000 rows × 2 columns</p>\n",
              "</div>\n",
              "    <div class=\"colab-df-buttons\">\n",
              "\n",
              "  <div class=\"colab-df-container\">\n",
              "    <button class=\"colab-df-convert\" onclick=\"convertToInteractive('df-31a71687-3f57-4ea6-907a-5df80818e43c')\"\n",
              "            title=\"Convert this dataframe to an interactive table.\"\n",
              "            style=\"display:none;\">\n",
              "\n",
              "  <svg xmlns=\"http://www.w3.org/2000/svg\" height=\"24px\" viewBox=\"0 -960 960 960\">\n",
              "    <path d=\"M120-120v-720h720v720H120Zm60-500h600v-160H180v160Zm220 220h160v-160H400v160Zm0 220h160v-160H400v160ZM180-400h160v-160H180v160Zm440 0h160v-160H620v160ZM180-180h160v-160H180v160Zm440 0h160v-160H620v160Z\"/>\n",
              "  </svg>\n",
              "    </button>\n",
              "\n",
              "  <style>\n",
              "    .colab-df-container {\n",
              "      display:flex;\n",
              "      gap: 12px;\n",
              "    }\n",
              "\n",
              "    .colab-df-convert {\n",
              "      background-color: #E8F0FE;\n",
              "      border: none;\n",
              "      border-radius: 50%;\n",
              "      cursor: pointer;\n",
              "      display: none;\n",
              "      fill: #1967D2;\n",
              "      height: 32px;\n",
              "      padding: 0 0 0 0;\n",
              "      width: 32px;\n",
              "    }\n",
              "\n",
              "    .colab-df-convert:hover {\n",
              "      background-color: #E2EBFA;\n",
              "      box-shadow: 0px 1px 2px rgba(60, 64, 67, 0.3), 0px 1px 3px 1px rgba(60, 64, 67, 0.15);\n",
              "      fill: #174EA6;\n",
              "    }\n",
              "\n",
              "    .colab-df-buttons div {\n",
              "      margin-bottom: 4px;\n",
              "    }\n",
              "\n",
              "    [theme=dark] .colab-df-convert {\n",
              "      background-color: #3B4455;\n",
              "      fill: #D2E3FC;\n",
              "    }\n",
              "\n",
              "    [theme=dark] .colab-df-convert:hover {\n",
              "      background-color: #434B5C;\n",
              "      box-shadow: 0px 1px 3px 1px rgba(0, 0, 0, 0.15);\n",
              "      filter: drop-shadow(0px 1px 2px rgba(0, 0, 0, 0.3));\n",
              "      fill: #FFFFFF;\n",
              "    }\n",
              "  </style>\n",
              "\n",
              "    <script>\n",
              "      const buttonEl =\n",
              "        document.querySelector('#df-31a71687-3f57-4ea6-907a-5df80818e43c button.colab-df-convert');\n",
              "      buttonEl.style.display =\n",
              "        google.colab.kernel.accessAllowed ? 'block' : 'none';\n",
              "\n",
              "      async function convertToInteractive(key) {\n",
              "        const element = document.querySelector('#df-31a71687-3f57-4ea6-907a-5df80818e43c');\n",
              "        const dataTable =\n",
              "          await google.colab.kernel.invokeFunction('convertToInteractive',\n",
              "                                                    [key], {});\n",
              "        if (!dataTable) return;\n",
              "\n",
              "        const docLinkHtml = 'Like what you see? Visit the ' +\n",
              "          '<a target=\"_blank\" href=https://colab.research.google.com/notebooks/data_table.ipynb>data table notebook</a>'\n",
              "          + ' to learn more about interactive tables.';\n",
              "        element.innerHTML = '';\n",
              "        dataTable['output_type'] = 'display_data';\n",
              "        await google.colab.output.renderOutput(dataTable, element);\n",
              "        const docLink = document.createElement('div');\n",
              "        docLink.innerHTML = docLinkHtml;\n",
              "        element.appendChild(docLink);\n",
              "      }\n",
              "    </script>\n",
              "  </div>\n",
              "\n",
              "\n",
              "<div id=\"df-7b42c725-8c79-4c3e-a6da-e114fa4e63f8\">\n",
              "  <button class=\"colab-df-quickchart\" onclick=\"quickchart('df-7b42c725-8c79-4c3e-a6da-e114fa4e63f8')\"\n",
              "            title=\"Suggest charts\"\n",
              "            style=\"display:none;\">\n",
              "\n",
              "<svg xmlns=\"http://www.w3.org/2000/svg\" height=\"24px\"viewBox=\"0 0 24 24\"\n",
              "     width=\"24px\">\n",
              "    <g>\n",
              "        <path d=\"M19 3H5c-1.1 0-2 .9-2 2v14c0 1.1.9 2 2 2h14c1.1 0 2-.9 2-2V5c0-1.1-.9-2-2-2zM9 17H7v-7h2v7zm4 0h-2V7h2v10zm4 0h-2v-4h2v4z\"/>\n",
              "    </g>\n",
              "</svg>\n",
              "  </button>\n",
              "\n",
              "<style>\n",
              "  .colab-df-quickchart {\n",
              "      --bg-color: #E8F0FE;\n",
              "      --fill-color: #1967D2;\n",
              "      --hover-bg-color: #E2EBFA;\n",
              "      --hover-fill-color: #174EA6;\n",
              "      --disabled-fill-color: #AAA;\n",
              "      --disabled-bg-color: #DDD;\n",
              "  }\n",
              "\n",
              "  [theme=dark] .colab-df-quickchart {\n",
              "      --bg-color: #3B4455;\n",
              "      --fill-color: #D2E3FC;\n",
              "      --hover-bg-color: #434B5C;\n",
              "      --hover-fill-color: #FFFFFF;\n",
              "      --disabled-bg-color: #3B4455;\n",
              "      --disabled-fill-color: #666;\n",
              "  }\n",
              "\n",
              "  .colab-df-quickchart {\n",
              "    background-color: var(--bg-color);\n",
              "    border: none;\n",
              "    border-radius: 50%;\n",
              "    cursor: pointer;\n",
              "    display: none;\n",
              "    fill: var(--fill-color);\n",
              "    height: 32px;\n",
              "    padding: 0;\n",
              "    width: 32px;\n",
              "  }\n",
              "\n",
              "  .colab-df-quickchart:hover {\n",
              "    background-color: var(--hover-bg-color);\n",
              "    box-shadow: 0 1px 2px rgba(60, 64, 67, 0.3), 0 1px 3px 1px rgba(60, 64, 67, 0.15);\n",
              "    fill: var(--button-hover-fill-color);\n",
              "  }\n",
              "\n",
              "  .colab-df-quickchart-complete:disabled,\n",
              "  .colab-df-quickchart-complete:disabled:hover {\n",
              "    background-color: var(--disabled-bg-color);\n",
              "    fill: var(--disabled-fill-color);\n",
              "    box-shadow: none;\n",
              "  }\n",
              "\n",
              "  .colab-df-spinner {\n",
              "    border: 2px solid var(--fill-color);\n",
              "    border-color: transparent;\n",
              "    border-bottom-color: var(--fill-color);\n",
              "    animation:\n",
              "      spin 1s steps(1) infinite;\n",
              "  }\n",
              "\n",
              "  @keyframes spin {\n",
              "    0% {\n",
              "      border-color: transparent;\n",
              "      border-bottom-color: var(--fill-color);\n",
              "      border-left-color: var(--fill-color);\n",
              "    }\n",
              "    20% {\n",
              "      border-color: transparent;\n",
              "      border-left-color: var(--fill-color);\n",
              "      border-top-color: var(--fill-color);\n",
              "    }\n",
              "    30% {\n",
              "      border-color: transparent;\n",
              "      border-left-color: var(--fill-color);\n",
              "      border-top-color: var(--fill-color);\n",
              "      border-right-color: var(--fill-color);\n",
              "    }\n",
              "    40% {\n",
              "      border-color: transparent;\n",
              "      border-right-color: var(--fill-color);\n",
              "      border-top-color: var(--fill-color);\n",
              "    }\n",
              "    60% {\n",
              "      border-color: transparent;\n",
              "      border-right-color: var(--fill-color);\n",
              "    }\n",
              "    80% {\n",
              "      border-color: transparent;\n",
              "      border-right-color: var(--fill-color);\n",
              "      border-bottom-color: var(--fill-color);\n",
              "    }\n",
              "    90% {\n",
              "      border-color: transparent;\n",
              "      border-bottom-color: var(--fill-color);\n",
              "    }\n",
              "  }\n",
              "</style>\n",
              "\n",
              "  <script>\n",
              "    async function quickchart(key) {\n",
              "      const quickchartButtonEl =\n",
              "        document.querySelector('#' + key + ' button');\n",
              "      quickchartButtonEl.disabled = true;  // To prevent multiple clicks.\n",
              "      quickchartButtonEl.classList.add('colab-df-spinner');\n",
              "      try {\n",
              "        const charts = await google.colab.kernel.invokeFunction(\n",
              "            'suggestCharts', [key], {});\n",
              "      } catch (error) {\n",
              "        console.error('Error during call to suggestCharts:', error);\n",
              "      }\n",
              "      quickchartButtonEl.classList.remove('colab-df-spinner');\n",
              "      quickchartButtonEl.classList.add('colab-df-quickchart-complete');\n",
              "    }\n",
              "    (() => {\n",
              "      let quickchartButtonEl =\n",
              "        document.querySelector('#df-7b42c725-8c79-4c3e-a6da-e114fa4e63f8 button');\n",
              "      quickchartButtonEl.style.display =\n",
              "        google.colab.kernel.accessAllowed ? 'block' : 'none';\n",
              "    })();\n",
              "  </script>\n",
              "</div>\n",
              "\n",
              "  <div id=\"id_2fad3d26-c965-43fd-af45-682daa1220c5\">\n",
              "    <style>\n",
              "      .colab-df-generate {\n",
              "        background-color: #E8F0FE;\n",
              "        border: none;\n",
              "        border-radius: 50%;\n",
              "        cursor: pointer;\n",
              "        display: none;\n",
              "        fill: #1967D2;\n",
              "        height: 32px;\n",
              "        padding: 0 0 0 0;\n",
              "        width: 32px;\n",
              "      }\n",
              "\n",
              "      .colab-df-generate:hover {\n",
              "        background-color: #E2EBFA;\n",
              "        box-shadow: 0px 1px 2px rgba(60, 64, 67, 0.3), 0px 1px 3px 1px rgba(60, 64, 67, 0.15);\n",
              "        fill: #174EA6;\n",
              "      }\n",
              "\n",
              "      [theme=dark] .colab-df-generate {\n",
              "        background-color: #3B4455;\n",
              "        fill: #D2E3FC;\n",
              "      }\n",
              "\n",
              "      [theme=dark] .colab-df-generate:hover {\n",
              "        background-color: #434B5C;\n",
              "        box-shadow: 0px 1px 3px 1px rgba(0, 0, 0, 0.15);\n",
              "        filter: drop-shadow(0px 1px 2px rgba(0, 0, 0, 0.3));\n",
              "        fill: #FFFFFF;\n",
              "      }\n",
              "    </style>\n",
              "    <button class=\"colab-df-generate\" onclick=\"generateWithVariable('X_test')\"\n",
              "            title=\"Generate code using this dataframe.\"\n",
              "            style=\"display:none;\">\n",
              "\n",
              "  <svg xmlns=\"http://www.w3.org/2000/svg\" height=\"24px\"viewBox=\"0 0 24 24\"\n",
              "       width=\"24px\">\n",
              "    <path d=\"M7,19H8.4L18.45,9,17,7.55,7,17.6ZM5,21V16.75L18.45,3.32a2,2,0,0,1,2.83,0l1.4,1.43a1.91,1.91,0,0,1,.58,1.4,1.91,1.91,0,0,1-.58,1.4L9.25,21ZM18.45,9,17,7.55Zm-12,3A5.31,5.31,0,0,0,4.9,8.1,5.31,5.31,0,0,0,1,6.5,5.31,5.31,0,0,0,4.9,4.9,5.31,5.31,0,0,0,6.5,1,5.31,5.31,0,0,0,8.1,4.9,5.31,5.31,0,0,0,12,6.5,5.46,5.46,0,0,0,6.5,12Z\"/>\n",
              "  </svg>\n",
              "    </button>\n",
              "    <script>\n",
              "      (() => {\n",
              "      const buttonEl =\n",
              "        document.querySelector('#id_2fad3d26-c965-43fd-af45-682daa1220c5 button.colab-df-generate');\n",
              "      buttonEl.style.display =\n",
              "        google.colab.kernel.accessAllowed ? 'block' : 'none';\n",
              "\n",
              "      buttonEl.onclick = () => {\n",
              "        google.colab.notebook.generateWithVariable('X_test');\n",
              "      }\n",
              "      })();\n",
              "    </script>\n",
              "  </div>\n",
              "\n",
              "    </div>\n",
              "  </div>\n"
            ],
            "application/vnd.google.colaboratory.intrinsic+json": {
              "type": "dataframe",
              "variable_name": "X_test",
              "summary": "{\n  \"name\": \"X_test\",\n  \"rows\": 10000,\n  \"fields\": [\n    {\n      \"column\": \"stopword_remove\",\n      \"properties\": {\n        \"dtype\": \"string\",\n        \"num_unique_values\": 10000,\n        \"samples\": [\n          \"Omni Family Weekend Stayed Omni Severin hotel son birthday We went see Monster Jam Lucas Oil Stadium Location perfect Easy short walk stadium Our room great Double room huge The kids got backpacks filled toys treats They also milk cookies waiting room Staff friendly attentive Definitely stay\",\n          \"SAT SBA My expectations stay stop long drive home San Antonio The hotel convenient Interstate 10 The front desk staff courteous efficient We second floor room access elevator stairway The elevator appreciated The room needs updated really nice The mechanicals worked AC effective grout bathtub tile obvious mold worn tub badly stained Just disturbed noise beds comfortable The free wireless internet easy use The free continental breakfast coffee lobby uninviting especially pre packaged muffins pastries The protein unshelled boiled eggs fresh fruit We ate elsewhere\",\n          \"Very nice clean reasonably priced convenient We stayed nice little hotel first opened nice Being close theatre art museums even finding excellent Italian restaurant next door bonus We would go back We within walking distance friend art studio also\"\n        ],\n        \"semantic_type\": \"\",\n        \"description\": \"\"\n      }\n    },\n    {\n      \"column\": \"Sentiment_VADER\",\n      \"properties\": {\n        \"dtype\": \"number\",\n        \"std\": 0,\n        \"min\": 0,\n        \"max\": 1,\n        \"num_unique_values\": 2,\n        \"samples\": [\n          0,\n          1\n        ],\n        \"semantic_type\": \"\",\n        \"description\": \"\"\n      }\n    }\n  ]\n}"
            }
          },
          "metadata": {},
          "execution_count": 79
        }
      ]
    },
    {
      "cell_type": "code",
      "execution_count": null,
      "id": "32hq-HhGAQQ3",
      "metadata": {
        "id": "32hq-HhGAQQ3"
      },
      "outputs": [],
      "source": [
        "# Get X_test and y_test\n",
        "df_test=X_test.copy()\n",
        "X_test=df_test[\"stopword_remove\"]\n",
        "y_test=df_test[\"Sentiment_VADER\"]"
      ]
    },
    {
      "cell_type": "code",
      "execution_count": null,
      "id": "DyVazUKFD-fB",
      "metadata": {
        "id": "DyVazUKFD-fB"
      },
      "outputs": [],
      "source": [
        "# Transforming text into a format that machine learning algorithms can work with\n",
        "X_test=vectorizer_last.transform(X_test)"
      ]
    },
    {
      "cell_type": "code",
      "source": [
        "# Apply Standard scaler\n",
        "X_test_st=scaler.transform(X_test)"
      ],
      "metadata": {
        "id": "yj9kUSlQXGBb"
      },
      "id": "yj9kUSlQXGBb",
      "execution_count": null,
      "outputs": []
    },
    {
      "cell_type": "code",
      "execution_count": null,
      "id": "z4rf7sk_fGXv",
      "metadata": {
        "id": "z4rf7sk_fGXv"
      },
      "outputs": [],
      "source": [
        "# Predict\n",
        "prediction=best_svm_model.predict(X_test_st)"
      ]
    },
    {
      "cell_type": "code",
      "execution_count": null,
      "id": "8gsZCOjUfGvk",
      "metadata": {
        "colab": {
          "base_uri": "https://localhost:8080/"
        },
        "id": "8gsZCOjUfGvk",
        "outputId": "e9db0f63-7c7e-46f9-c11b-6f9015c18e8f"
      },
      "outputs": [
        {
          "output_type": "stream",
          "name": "stdout",
          "text": [
            "              precision    recall  f1-score   support\n",
            "\n",
            "           0       1.00      0.00      0.00       676\n",
            "           1       0.93      1.00      0.97      9324\n",
            "\n",
            "    accuracy                           0.93     10000\n",
            "   macro avg       0.97      0.50      0.48     10000\n",
            "weighted avg       0.94      0.93      0.90     10000\n",
            "\n"
          ]
        }
      ],
      "source": [
        "from sklearn.metrics import classification_report, accuracy_score\n",
        "\n",
        "# Get precision, recall, f1-score\n",
        "report = classification_report(y_test,prediction)\n",
        "print(report)"
      ]
    },
    {
      "cell_type": "markdown",
      "source": [
        "How these results compare with the best results from point 5? Why there are differences, if any?\n",
        "\n"
      ],
      "metadata": {
        "id": "Tpda7WOGQKFO"
      },
      "id": "Tpda7WOGQKFO"
    },
    {
      "cell_type": "markdown",
      "source": [
        "The results from point 6 show a slight decrease in performance compared to point 5, both for the training/validation and test sets.\n",
        "\n",
        "**For training and validation:**\n",
        "- The F1 score at point 5 is 0.993, which slightly decreases to 0.942 at point 6.\n",
        "\n",
        "**For testing:**\n",
        "- The F1 score at point 5 is 0.91, which decreases to 0.9 at point 6.\n",
        "The differences suggest that the model's performance in point 6 was slightly less effective at generalizing from the training data to unseen data. It's also possible that the model at point 6 was slightly overfitted to the training data, resulting in a lower F1 score when predicting on the validation and test sets\n"
      ],
      "metadata": {
        "id": "Gqznwl2pZf35"
      },
      "id": "Gqznwl2pZf35"
    },
    {
      "cell_type": "code",
      "source": [
        "from tabulate import tabulate\n",
        "\n",
        "# Data\n",
        "table = [['F1_score for train and validation average in point 6', 0.942], ['F1_score for train and validation average in point 5', 0.993]]\n",
        "\n",
        "# Headers\n",
        "headers = ['SVC+Vader', 'Value']\n",
        "\n",
        "# Display the table\n",
        "print(tabulate(table, headers, tablefmt=\"grid\"))"
      ],
      "metadata": {
        "colab": {
          "base_uri": "https://localhost:8080/"
        },
        "id": "kCMQm_6KQ5k_",
        "outputId": "83bfe0d6-ab18-47c9-a4ed-5ef1bc570c44"
      },
      "id": "kCMQm_6KQ5k_",
      "execution_count": null,
      "outputs": [
        {
          "output_type": "stream",
          "name": "stdout",
          "text": [
            "+------------------------------------------------------+---------+\n",
            "| SVC+Vader                                            |   Value |\n",
            "+======================================================+=========+\n",
            "| F1_score for train and validation average in point 6 |   0.942 |\n",
            "+------------------------------------------------------+---------+\n",
            "| F1_score for train and validation average in point 5 |   0.993 |\n",
            "+------------------------------------------------------+---------+\n"
          ]
        }
      ]
    },
    {
      "cell_type": "code",
      "source": [
        "from tabulate import tabulate\n",
        "\n",
        "# Data\n",
        "table = [['F1_score for test in point 6', 0.90], ['F1_score for test in point 5', 0.91]]\n",
        "\n",
        "# Headers\n",
        "headers = ['SVC+Vader', 'Value']\n",
        "\n",
        "# Display the table\n",
        "print(tabulate(table, headers, tablefmt=\"grid\"))"
      ],
      "metadata": {
        "colab": {
          "base_uri": "https://localhost:8080/"
        },
        "id": "gBsYEfPoY2xb",
        "outputId": "3dd13c58-899b-4495-e3aa-da6caad31084"
      },
      "id": "gBsYEfPoY2xb",
      "execution_count": null,
      "outputs": [
        {
          "output_type": "stream",
          "name": "stdout",
          "text": [
            "+------------------------------+---------+\n",
            "| SVC+Vader                    |   Value |\n",
            "+==============================+=========+\n",
            "| F1_score for test in point 6 |    0.9  |\n",
            "+------------------------------+---------+\n",
            "| F1_score for test in point 5 |    0.91 |\n",
            "+------------------------------+---------+\n"
          ]
        }
      ]
    },
    {
      "cell_type": "markdown",
      "id": "e8993010",
      "metadata": {
        "id": "e8993010"
      },
      "source": [
        "### 7. Reviews aspect prediction"
      ]
    },
    {
      "cell_type": "markdown",
      "id": "QsrWvC4MxBCG",
      "metadata": {
        "id": "QsrWvC4MxBCG"
      },
      "source": [
        "This approach is based on \"Multiclass Sentiment Prediction of Airport Service Online Reviews Using Aspect-Based Sentimental Analysis and Machine Learning [2].\n",
        "\n",
        "The described approach is a structured method for extracting and analyzing sentiment from product or service reviews, focusing on various aspects. Below is a brief workflow of the process:\n",
        "1. **Data Collection**: Gathering of review data, which provides the raw material for sentiment analysis.\n",
        "2. **Preprocessing**: Prepare the data for analysis, some preprocessing steps are undertaken:\n",
        "   - Stopword Removal\n",
        "   - POS Tagging: Words are tagged with their parts of speech to understand their role in sentences.\n",
        "   - Adjective Removal: Non-aspect-specific adjectives are eliminated, sharpening the focus on pertinent descriptors. Prior to this step, aspects and aspect-specific adjectives are defined.\n",
        "3. **Aspect Classification**: Review sentences are sorted into categories based on predefined aspects like cleanliness, location, amenities, and more.\n",
        "4. **Sentiment Analysis**: Each aspect undergoes sentiment analysis to assess whether the related comments are positive, negative, or neutral.\n",
        "5. **Topic Modeling**: In parallel, topic modeling techniques are applied to reveal any latent topics across the reviews, providing insights into themes not predefined in the aspect categories.\n",
        "6. **Aspect Representation**: Sentences that reflect the sentiment toward each aspect are chosen based on the sentiment classification.\n",
        "7. **Opinion Scoring**: Scores are assigned to each aspect reflecting the intensity and polarity of the sentiments expressed.\n",
        "8. **Sentence Curation**: The sentences that most effectively convey sentiment for each aspect are compiled for potential use.\n",
        "9. **Output Generation**: The process finishes in the delivery of two outputs: quantified opinion scores by aspect and a selection of sentences for each aspect, offering a comprehensive sentiment summary."
      ]
    },
    {
      "cell_type": "markdown",
      "id": "af38d9fc",
      "metadata": {
        "id": "af38d9fc"
      },
      "source": [
        "### 8. References"
      ]
    },
    {
      "cell_type": "markdown",
      "source": [
        "[1] M. Isnan, G. N. Elwirehardja, and B. Pardamean, \"Sentiment Analysis for TikTok Review Using VADER Sentiment and SVM Model,\" in *Procedia Computer Science*, vol. 227, pp. 168–175, 2023.#"
      ],
      "metadata": {
        "id": "A0eOSbOR4kF9"
      },
      "id": "A0eOSbOR4kF9"
    },
    {
      "cell_type": "markdown",
      "id": "Wz3YmCkdoa1f",
      "metadata": {
        "id": "Wz3YmCkdoa1f"
      },
      "source": [
        "[2] M. S. M. Alanazi, J. Li, and K. W. Jenkins, \"Multiclass Sentiment Prediction of Airport Service Online Reviews Using Aspect-Based Sentimental Analysis and Machine Learning,\" Mathematics (Basel), vol. 12, no. 5, pp. 781-, 2024."
      ]
    },
    {
      "cell_type": "code",
      "source": [],
      "metadata": {
        "id": "TCltrvlfraTJ"
      },
      "id": "TCltrvlfraTJ",
      "execution_count": null,
      "outputs": []
    }
  ],
  "metadata": {
    "colab": {
      "collapsed_sections": [
        "3df2aac6",
        "31d75afc",
        "0ba1SKY9VKM-",
        "2IgDfVl3UHaw",
        "NQG2e4hOAR5C",
        "2C-cNxvlAb3A",
        "adT19bNtTSjP",
        "re4i5gmH8tPn"
      ],
      "provenance": [],
      "toc_visible": true,
      "include_colab_link": true
    },
    "kernelspec": {
      "display_name": "Python 3",
      "name": "python3"
    },
    "language_info": {
      "codemirror_mode": {
        "name": "ipython",
        "version": 3
      },
      "file_extension": ".py",
      "mimetype": "text/x-python",
      "name": "python",
      "nbconvert_exporter": "python",
      "pygments_lexer": "ipython3",
      "version": "3.11.5"
    }
  },
  "nbformat": 4,
  "nbformat_minor": 5
}